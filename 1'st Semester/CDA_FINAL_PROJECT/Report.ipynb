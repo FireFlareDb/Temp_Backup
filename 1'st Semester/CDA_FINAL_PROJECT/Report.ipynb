{
 "cells": [
  {
   "cell_type": "markdown",
   "id": "7f3febe6-616d-439c-8b31-dcb2d4ad08e9",
   "metadata": {},
   "source": [
    "# <center>Project Report (Team HeHa)</center>\n",
    "# <center> (Women Empowerment in IT Field) </center>\n"
   ]
  },
  {
   "cell_type": "markdown",
   "id": "43859a99-d858-42db-99e3-81cb3fba2eed",
   "metadata": {},
   "source": [
    "# <center>ES1101: COMPUTATIONAL AND DATA ANALYSIS</center>\n",
    "\n",
    "<center>\n",
    "INSTITUTE OF ENGINEERING AND TECHNOLOGY(IET)\n",
    "\n",
    "    JK LAKSHMIPAT UNIVERSITY, JAIPUR\n",
    "\n",
    "    Prepared By –\n",
    "\n",
    "    Abhishek Saini (2021btech003)\n",
    "\n",
    "    Abhishek Swami (2021btech004)\n",
    "\n",
    "    Anurag Sharma (2021btech021)\n",
    "\n",
    "    Kapil Saini (2021btech056)\n",
    "\n",
    "    Section – A\n",
    "\n",
    "    SUBMITTED TO –\n",
    "\n",
    "    Dr. Umesh Gupta and Dr. Sonal Jain\n",
    "\n",
    "    Department of CSE\n",
    "</center>\n",
    "\n",
    "---"
   ]
  },
  {
   "cell_type": "markdown",
   "id": "a092d62f-083a-4378-bc7c-d3ebe46645ca",
   "metadata": {},
   "source": [
    "# <u><center>Abstract</center></u>\n",
    "\n",
    "The Sustainable Development Goals (SDGs), otherwise called the\n",
    "Global Goals, were taken on by the United Nations in 2015 as a\n",
    "widespread source of inspiration to end destitution, safeguard the\n",
    "planet, and guarantee that by 2030 all individuals appreciate harmony\n",
    "and success.\n",
    "\n",
    "The 17 SDGs are coordinated they perceive that activity in one region\n",
    "will influence results in others and that improvement should adjust\n",
    "social, financial, and ecological maintainability.\n",
    "Nations have focused on focusing on progress for the people who are\n",
    "uttermost behind. The SDGs are intended to end neediness, yearning,\n",
    "AIDS, and victimization women and young women.\n",
    "\n",
    "The imagination, expertise, innovation, and monetary assets from all\n",
    "of society are important to accomplish the SDGs in each specific\n",
    "situation."
   ]
  },
  {
   "cell_type": "markdown",
   "id": "d244917f-1580-4bfb-9e6b-5002eed176f3",
   "metadata": {},
   "source": [
    "# <u><center> Introduction <br><br> WHAT IS SUSTAINABE GOAL DEVELOPMENT?</center></u>\n",
    "\n",
    "The Sustainable Development Goals (SDGs), otherwise called the\n",
    "Global Goals, were taken on by the United Nations in 2015 as an all-\n",
    "inclusive source of inspiration to end neediness, secure the planet,\n",
    "and guarantee that by 2030 all individuals appreciate harmony and\n",
    "success. The 17 SDGs are coordinated they perceive that activity in\n",
    "one region will influence results in others and that advancement\n",
    "should adjust social, monetary, and ecological maintainability."
   ]
  },
  {
   "cell_type": "markdown",
   "id": "052c60ca-eef9-4c61-8c3f-699c6f9b7832",
   "metadata": {},
   "source": [
    "# SDG GOAL-5  <center>Gender Equality</center>\n",
    "\n",
    "Orientation fairness isn't just a basic common freedom, however a\n",
    "vital establishment for a serene, prosperous and feasible world.\n",
    "There has been progress throughout the last many years: More young\n",
    "women will school, less young women are constrained into early\n",
    "marriage, more women are serving in parliament and places of\n",
    "authority, and regulations are being changed to propel orientation\n",
    "equity.\n",
    "In spite of these additions, many difficulties stay: oppressive\n",
    "regulations and accepted practices stay unavoidable, women keep on\n",
    "being underrepresented at all degrees of political authority, and 1 of\n",
    "every 5 women and young women between the ages of 15 and 49\n",
    "report encountering physical or sexual brutality by a personal\n",
    "accomplice inside a year time span."
   ]
  },
  {
   "cell_type": "markdown",
   "id": "f7d8e5cc-1e79-4725-ab47-b05f1532d522",
   "metadata": {},
   "source": [
    "# <center>Team Target:</center>\n",
    "## <center>(Target 5.B)</center>\n",
    "\n",
    "> <b><center>Enhance the use of enabling technology, in particular information and communications technology, to promote the empowerment of women.</center><b>\n",
    "\n",
    "For women the world over, data and correspondence innovations\n",
    "(ICT) can be utilized for individual security, better admittance to\n",
    "instruction and occupations, monetary incorporation or to get to\n",
    "fundamental medical services data. Yet, advantages, for example,\n",
    "these depend on women having significant admittance to ICT which\n",
    "can be worked with or forestalled by a few variables, including\n",
    "reasonableness, important substance, abilities, and security.\n",
    "    \n",
    "SDG 5 intends to accomplish orientation fairness and enable all\n",
    "women and young women and calls for upgraded utilization of\n",
    "empowering innovation - ICTs specifically - to advance the\n",
    "strengthening of women.\n",
    "    \n",
    "To assist with transforming responsibility right into it, the\n",
    "International Chamber of Commerce has collaborated with UN\n",
    "Women - the worldwide boss for orientation fairness - to have a side\n",
    "occasion during the HLPF. The occasion, entitled Accelerating\n",
    "Women's Economic Empowerment to Achieve the 2030 Agenda will\n",
    "exhibit the worldwide endeavours partners have left on to carry\n",
    "women' financial strengthening to the very front of all the SDG\n",
    "targets.\n",
    "    \n",
    "Through advancement, venture, and the improvement of items and\n",
    "administrations, the private area assumes a significant part in\n",
    "propelling orientation fairness and working on the existences of\n",
    "women. While women make up over half of the total populace, they\n",
    "likewise address 70% of the world's poor. As indicated by research,\n",
    "women reinvest 80% of each dollar made once again into their family,\n",
    "implying that pragmatic help for the financial strengthening of women\n",
    "is a vital stage towards killing neediness and advancing success."
   ]
  },
  {
   "cell_type": "markdown",
   "id": "05690f36-3d9a-43de-acd8-133ed0f6fa59",
   "metadata": {},
   "source": [
    "# **<center> Objectives </center>**\n",
    "\n",
    "1. To analyse and study IT field expertise in Machine learning and Data science.\n",
    "2. To analyse and study, the status of the jobs in the IT field.\n",
    "3. To investigate every one of the ventures and compensations in the tech field and look at all things.\n",
    "4. To explore how various people across the world utilize the internet and mobile phone."
   ]
  },
  {
   "cell_type": "markdown",
   "id": "04dcb103-77bd-4e06-a75f-ac1881a75d5c",
   "metadata": {},
   "source": [
    "## <u>Problems Statements-</u>\n",
    "- ### **To analyse and study Information technology field expertise in Machine learning and Data science.**\n",
    "\n",
    "    1.1 To breakdown the average experience by the individual\n",
    "    \n",
    "    1.2 To analyse the knowledge base of people in the tech field and differentiate with genders\n",
    "    \n",
    "    1.3 To investigate women strengthening as per nations\n",
    "\n",
    "- ### **To analyse and study, the status of the jobs in the IT field.**\n",
    "\n",
    "    2.1 To examine the gender differences in technical employment throughout the world\n",
    "    \n",
    "    2.2 On the basis of previously existing data, assess and forecast the future of India's job statuses\n",
    "    \n",
    "    2.3 To analyse and look at the representative's age in the Tech Industry with male and female\n",
    "\n",
    "- ### **To investigate every one of the ventures and compensations in the tech field and look at all things.**\n",
    "\n",
    "    3.1 To concentrate on the compensations given by organizations and see the inclinations done by organizations\n",
    "\n",
    "    3.2 To determine the number of individuals in the tech area is investing and perceive how much women is putting resources into it\n",
    "\n",
    "    3.3 To check this investment by look at their services\n",
    "\n",
    "- ### **To explore how various people across the world utilize the internet and mobile phones.**\n",
    "    \n",
    "    4.1 To relate the Proportion of female and male population using the Internet around the world. And to check the claim “Female users use less mobile phone than Boys”\n",
    "    \n",
    "    4.2 To relate Man and Women Population with mobiles phones From 2015-2018\n",
    "    \n",
    "    "
   ]
  },
  {
   "cell_type": "markdown",
   "id": "5d4341e1-d8dd-4c9d-9cb6-0a57e0168182",
   "metadata": {},
   "source": [
    "# ***<center>Literature Review</center>***\n",
    "\n",
    "1. There is a worrying and ongoing lack of women employed in Artificial Intelligence (AI) and data science fields. According to the World Economic Forum, women make up only 26% of the workforce in data and AI roles worldwide. In 2012, the OECD surveyed 15-year-old UK students found that 41% of girls agreed with the ‘I’m not good at math’ statement, while only 24% of boys agreed. In 2015, the OECD surveyed 15-year-olds and found that 4.6% of boys were expected to work as IT specialists by age 30, while only 0.5% of girls expected the same from them. Women in data and AI are less in the industry traditionally includes additional technical skills for example, the Technology / IT sector as well as holds fewer technical skills (e.g., DevOps). In addition, there are fewer women than men in C-suite positions in most areas industries, and this is even more marked by data and AI activities in the technology sector.\n",
    "\n",
    "2. Around the world, finding a job is much tougher for women than\n",
    "    it is for men. When women are employed, they tend to work in\n",
    "    low-quality jobs in vulnerable conditions, and there is little\n",
    "    improvement forecast shortly.\n",
    "    \n",
    "    Explore this Info Story to get the data behind the trends and learn\n",
    "    more about the different barriers holding women back from\n",
    "    decent work. Women’s participation in IT is higher both in\n",
    "    comparison to other sectors in the country and in comparison to\n",
    "    representation in the sector in other countries. The increase in\n",
    "    numbers of women in engineering education and the\n",
    "    mushrooming of several private engineering colleges since the\n",
    "    1990s catered to a growth in demand for engineers in the IT\n",
    "    industry.\n",
    "    \n",
    "    Women who want to work have a harder time finding a job than\n",
    "    men. This problem is particularly marked in Northern Africa and\n",
    "    the Arab States, where unemployment rates for women exceed\n",
    "    16%.\n",
    "    \n",
    "    So in this report, we are going to see how much difference in sex\n",
    "    ratio in jobs at particular IT sector by our Objective and Problem\n",
    "    Statements.\n",
    "    \n",
    "    we are going to compare the data and study it. the data that we\n",
    "    have is the survey of Kaggle.\n",
    "    \n",
    "3. The gender wage gap refers to the difference in earnings between\n",
    "    women and men. Experts have calculated this gap in multiple\n",
    "    ways, but the varying calculations point to a consensus: Women\n",
    "    consistently earn less than men, and the gap is wider for most\n",
    "    women of colour.\n",
    "\n",
    "    As indicated by the most recent World Economic Forum's (WEF)\n",
    "    Global Gender Gap Report 2018, India positioned 108th out of 149\n",
    "    nations on the orientation hole file. The worldwide rundown was\n",
    "    topped by Iceland for the tenth continuous year, having shut over\n",
    "    85.8% of its general orientation hole. It is also in the gender wage\n",
    "    gap we are going to see how much difference in salaries and look\n",
    "    up to in India also. We all have to see when this discrimination is\n",
    "    going to and I'll share the data of the survey of Kaggle where we\n",
    "    can see this and verify our objective and problem statement.\n",
    "    Women make up around 250 million fewer online users than men,\n",
    "    and the disparity is widening (from 11 percent in 2013 to 12\n",
    "    percent in 2016). In the current period, access is concentrated;\n",
    "    globally, 53% of the population (3.9 billion people) remains\n",
    "    disconnected, and just one in every ten people in several of\n",
    "    Africa's poorer and also most unstable countries has Internet\n",
    "    connection.\n",
    "    \n",
    "    Increased access to online resources for women and girls is crucial\n",
    "    to ensuring that they do not fall behind in an increasingly digital\n",
    "    world, and it may, in certain cases, boost women's interest in the\n",
    "    possibilities offered by technology and ICTs.\n",
    "    \n",
    "    Women’s access to mobile internet continues to increase across\n",
    "    low- and middle-income countries with 112 million additional\n",
    "    female users getting online in 2020. Despite this, the gender gap\n",
    "    remains substantial. Women are 7% less likely than men to own a\n",
    "    mobile phone and 15% less likely to use mobile internet. There are\n",
    "    still 234 million fewer women than men accessing mobile internet.\n",
    "    With the COVID-19 pandemic evolving across the world, there has\n",
    "    never been a more urgent time to address this issue. The Mobile\n",
    "    Gender Gap Report 2021 highlights how the mobile gender gap\n",
    "    continues to improve in South Asia, but less so in other regions. It\n",
    "    explores the key barriers preventing women’s equal access to\n",
    "    mobile internet as well as the rise of women’s smartphone\n",
    "    ownership, notably in India."
   ]
  },
  {
   "cell_type": "markdown",
   "id": "95b7109d-70e5-4005-a6fc-ca3823863a07",
   "metadata": {},
   "source": [
    "# ***<center>Data Collection</center>***\n",
    "\n",
    "We choose our team Goal \"Gender Equality\"\n",
    "from SDG and after reading some articles on\n",
    "gender Equality which is related to technology\n",
    "so we stuck on the technology part and when\n",
    "we have to select the target we choose Target\n",
    "5.B.\n",
    "\n",
    "After this, we started to make our team\n",
    "objectives and start searching data for it, after\n",
    "searching on google a lot we found our first\n",
    "dataset on gender equality on Kaggle, which is\n",
    "a Kaggle survey which is around $30,000 so we choose that and make our problem statement on it.\n",
    "\n"
   ]
  },
  {
   "cell_type": "markdown",
   "id": "1775300f-eee9-4219-a3b0-ddca66bbdc4c",
   "metadata": {},
   "source": [
    "## **Steps and Calculation with Graphs**\n",
    "\n",
    "**PS 1.1** According to our Problem Statement, we are going to use Correlation and our problem statement is “ To analyse and study Information technology field expertise in Machine learning and Data science. ”\n",
    "\n",
    "**Our Statement-** “Our statement is to see correlation between\n",
    "Worker age with total no. of expertise.”\n",
    "\n",
    "So the correlation between age and skill set is 0.8999.\n",
    "\n",
    "“So it is not necessary that age matters in knowledge it means\n",
    "small child has more knowledge than 30 year old man on that field.”\n",
    "\n",
    "<hr>\n",
    "\n",
    "## <center>Male Experience</center>\n",
    "\n",
    "![img](data:image/png;base64,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)\n",
    "\n",
    "## <center>Female Experience</center>\n",
    "![img](data:image/png;base64,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)\n",
    "\n",
    "## <center>Age Distrubation</center>\n",
    "![img](data:image/png;base64,iVBORw0KGgoAAAANSUhEUgAAAkoAAAJMCAYAAAAFeomEAAAAOXRFWHRTb2Z0d2FyZQBNYXRwbG90bGliIHZlcnNpb24zLjQuMywgaHR0cHM6Ly9tYXRwbG90bGliLm9yZy/MnkTPAAAACXBIWXMAAAsTAAALEwEAmpwYAADag0lEQVR4nOzdd3xUVfr48c+Zlkx6JhMIDBBqCB2laJAYRV2xxbJiWesWf7jqFtu6625scbF83aquXbCsZVddjV1UQFEwWAAVZCwQegghIYW0mTm/P+4EY5hAgJm5k8zzfr3mRXLPzZ0nIeWZc577HKW1RgghhBBC7MlidgBCCCGEELFKEiUhhBBCiC5IoiSEEEII0QVJlIQQQgghuiCJkhBCCCFEFyRREkIIIYTogiRKQoioUkpdr5R6+AA/tkEpNXQv4/OUUrceeHR7XO9+pVRJuK4nhOh5JFESIk4opRYqpWqUUgkRfo5mpVS9UqpOKfWJUur3HZ9Taz1Ha/2Lbl7rB+dprVO01t9FKPaLlVKLOz3fpVrr0kg8nxCiZ5BESYg4oJQaDBQCGiiO8NNdobVOBfoBVwPnAK8ppVQkn1QpZY3k9YUQ8UkSJSHiw4XAUmAecFHHAaVUllLq5eAM0DKl1K0dZ1aUUvlKqflKqR1KqTVKqbO684Ra60at9UKMxKwAOCl4vZuUUk8G305USj2plKpWStUGn7+vUurPGIndPcHltnuC52ul1PDg2/OUUvcppV5TSjUCRwef2h2Mt14ptUgplRs8f3Dw420dPreFSqlfKKVGAfcDBcHnq+3wHLd2OP8SpdQ3wa9FmVKqf4cxrZS6VCn1dXDm7t725FApNTwYy06l1Hal1LPd+RoKIcwniZIQ8eFC4N/Bx/FKqb4dxu4FGoEcjCRqdyKllEoG5gNPAX2Ac4F/KaXGdPeJtdbrgY8xEp/OLgLSgYFAFnAp0KS1/iPwPsbsVIrW+oouLv8T4M9AKtCe3J0HlAJuYHnwc95XjKuDz70k+HwZnc9RSs0AbgPOwpgtqwCe6XTaycAUYELwvOODx0uBt4BMYABw975iEkLEBkmUhOjllFLTgVzgP1rrT4BvMRKM9uWqHwM3aq13aa1XAY91+PCTgXVa67laa5/W+lPgeeDM/QxjM+AKcbwNI0EarrX2a60/0VrX7cd1X9Jaf6C1Dmitm4PHXtVav6e1bgH+iDFLNHA/4w3lPOBRrfWnwWv/IXjtwR3OuV1rXRtMDhcAE4PH2zD+D/prrZu11j+ohRJCxC5JlITo/S4C3tJabw++/xTfzxplAzZgQ4fzO76dCxwWXBarDS5JnYcx+7Q/PMCOEMefAN4EnlFKbVZK3amUsu/HdTfs7ZjWuiH4vP1DnLe/+mPMInW8djXG59Zua4e3dwEpwbd/ByigXCn1pVLqZ2GIRwgRBbZ9nyKE6KmUUk6MJSCrUqr9j3gCkKGUmgB8AfgwloO8wfGOsy8bgEVa6+MOIoaBwCTgjs5jWus24Gbg5uDMzGvAGuARjMLzfQl1zu74lVIpGDNZm4H2GackoH3WqmPCt6/n24yROLZfOxljNmzTPoPUeitwSfDjpgNvK6Xe01p/s6+PFUKYS2aUhOjdTgP8wGiMZaCJwCiM+p8LtdZ+4AXgJqVUklIqH6Oeqd0rQJ5S6gKllD34mBIsft6r4PWKgJeAcowkqPM5RyulxgWXAOswlqj8weFKoMueSXtxolJqulLKgVEb9JHWeoPWugojqTlfKWUNzuoM6/BxlcCA4MeF8hTwU6XUxGC7gznBa6/bV0BKqVlKqQHBd2swkjL/Xj5ECBEjJFESone7CJirtV6vtd7a/gDuAc4L3gF2BUZB9VaMpbCngRYArXU98COMW/w3B8+5A2NWqiv3KKXqMRKPv2PUNM3UWgdCnJsDPIeRJK0GFgFPBsf+AZwZvIPsn/vxOT8F3Iix5DYJY6mw3SXAtRhLZmOADzuMvQt8CWxVSm2nE631O0BJ8PPZgpFkndPNmKYAHymlGoAy4Dda67X78TkJIUyitO7O7LYQIl4ope4AcrTWF+3zZCGE6OVkRkmIOBfskzReGaYCPwf+Z3ZcQggRC6SYWwiRirHc1h/YBvwFo65ICCHiniy9CSGEEEJ0QZbehBBCCCG6IImSEEIIIUQXJFESQgghhOiCJEpCCCGEEF2QREkIIYQQoguSKAkhhBBCdEESJSGEEEKILkSt4eQnn3zSx2azPQyMpeclaAHgC5/P94tJkyZtMzsYIYQQQkRH1BIlm832cE5Ozqjs7Owai8XSo7pcBgIBVVVVNXrr1q0PA8VmxyOEEEKI6IjmzM7Y7Ozsup6WJAFYLBadnZ29E2M2TAghhBBxIpqJkqUnJkntgrH3tCVDIYQQQhyEuPrD/80339gPO+ywvKFDh44ZPnz4mNLS0j4AV111Vf8+ffqMz8/PH52fnz/62WefTTc7ViGEEEKYL2o1Sp1Zi5gUzuv5F/HJvs6x2+385S9/2Th9+vRdNTU1lkMOOWT0iSeeWAdw6aWXVt5yyy2V4YxJCCGEED2baYmSGXJzc9tyc3PbADIzMwPDhg1rWr9+vcPsuIQQQggRm+Jq6a2jNWvWOFatWpVUVFTUAPDII4/0ycvLGz1r1qzBVVVVVrPjE/FHKXWkUqpMKbVJKaWVUhd3Gk9RSt2tlNqolGpSSq1RSl1pUrhCCBEX4jJR2rlzp+WMM84Ydvvtt29wuVyBK6+8cltFRcXnq1evXpWTk9N22WWXDTQ7RhGXUoAvgN8ATSHG/wqcBFwAjAL+DNyulLogahEKIUScibtEqaWlRZ100knDZs2ateOiiy6qBRg4cKDPZrNhtVq54oorqpYvX55scpgiDmmtX9NaX6+1fg6jyWln04AntNYLtNbrtNaPA0uBw6IaqBBCxJG4SpQCgQDnnHNObl5eXvNNN920u3C7oqLC3v72M888kzFy5MhQr+aFMNti4BSl1EAApdQ0YCLwhplBCSFEbxZXxdzz589PefHFF7NGjBjRlJ+fPxrg5ptv3vT000+7Vq1a5QQYMGBA69y5cyvMjVSIkH4N3A+sV0r5gsd+pbV+xcSYhBCiVzMtUerO7fzhdvzxxzdorfd43rPPPntntGMR4gD8CjgCYxudCuBI4C6l1DqttcwqCSFEBMTVjJIQPZVSygncBszSWr8cPLxSKTURuAZZfhNCiIiIqxolIXowe/Dh73Tcj/wcCyFExMiMkhAxQimVAgwPvmsBBgVnjHZordcrpRZhtANowFh6KwIuBH5nRrxCCBEP5JWoELFjMvBZ8OEEbg6+fUtw/BxgGfBvYBXwe6AEuCfqkQohRJyQGSUhYoTWeiGg9jK+Ffhp1AISQgghM0pCCCGEEF2Jq0Rp1qxZg10u14QRI0aMaT/24YcfOidMmJCfn58/euzYsaMWLFiQZGaMQgghhIgd5i29lahJYb1e6Z79kTr72c9+tv03v/nNtp/+9KdD2o9de+21A/74xz9uPuuss+qeffbZ9Ouuu25geXn5mrDGJoQQQogeKa5mlE444YSG7OxsX8djSil27txpBaitrbX27du31ZzohBBCCBFr4r6Y+5///OeGk046aURJScnAQCDA4sWLvzI7JiGEEELEhriaUQrln//8Z/Ztt922YevWrSvnzJmz4eKLLx5sdkxCCCGEiA1xnyg9//zzWRdeeGEtwM9+9rOalStXJpsckhBCCCFiRNwnStnZ2W2vvfZaKsDLL7+cmpub22x2TEIIIYSIDXFVo3TKKacMWbp0aWpNTY2tb9++43//+99vvu+++yquuuqqgVdffbVKSEgI3H///RVmxymEEEKI2GBeotSN2/nD7eWXX14b6viXX365OtqxCCGEECL2xdWMkhAiRpQoC5AOZAIOINDhoTu9v69HK6W6LcqfgRAiTkiiJIQ4cCUqA8jCSHj255HOXva1O4A46oGqbj9KdWPYnlsI0atJoiSE2LsS1RcYDowI/tv+GAZkmBfYD6QGH0O7dXaJagK2YyRO24C1wFcdHhso1ToikQohehRJlIQQUKL688MkqD0pGoaRgPQ2TmBg8BFKIyXKy/eJ0+rgv15KdUt0QhRCxAJJlISIJyUqCTgUmAJMBsZiJEPSP+yHkoFDgo+OApSodfxw9ukrYCWlemdUIxRCRIUkSkL0ViXKAUzESIjaE6NRgNXEqHo6C8by3lDgxA7HA5SoL4APgMXA+5TqDSbEJ4QIs7hKlL755hv7eeedN6SqqspusVi46KKLqkpKSrbNnj17wFtvvZVut9t1bm5uy9NPP73O7Xb7zY5XiP1SorKAacARwHSMxCjB1JjihwUYH3z8EoAStQEjaWpPnj6nVAfMClAIcWCUjlK94ooVK9ZNmDBhe/v7nvKCSeG8/qapS/bZl6miosK+YcMG+/Tp03fV1NRYDjnkkNHPP//8NxUVFY5TTjmlzm6388tf/tIDcN99920K8Tm4J0yYMDiccQtxwErUYOAovk+MRhLOO8lEuO0ElvB94vQRpbrJ3JCEEPsSVzNKubm5bbm5uW0AmZmZgWHDhjWtX7/eccYZZ9S1n1NQUND43HPPZZoXpRBdKFFWjBmjk4OP0eYGJPZTOjAz+ABoo0R9ipE4vQO8I4XiQsSeuEqUOlqzZo1j1apVSUVFRQ0dj8+bN8995pln7jArLiF+wOhTNBMjMToBcJkajwgnO3BY8HEV0ECJegP4H/CqFIcLERviMlHauXOn5Ywzzhh2++23b3C5XLtrBq677rocq9WqL730UkmUhHlK1EjgFIzk6Aji9Oc0DqUAZwYfbZSohcCLwIuU6s0mxiVEXIu7X8AtLS3qpJNOGjZr1qwdF110UW378bvvvjvrzTffzHj//fe9FovFxAhF3ClRduBIjMToJIweRiK+2YHjgo97KFEfYyRN/6NUy96UQkRRXCVKgUCAc845JzcvL6/5pptuqmw//txzz6X9/e9/z3n//ffXpKamyl0pIvJKVAJwKsbswY8w6leECEVhtHeYAvyZErUGeAkjcVoqHcSFiKy4SpTmz5+f8uKLL2aNGDGiKT8/fzTAzTffvOnaa68d2NraapkxY0YewKGHHtrw1FNPrTc3WtErlahDgZ8B5yL1RuLAjAR+F3xsoUS9DDwFvNeTkyZrEZcDG4FX/IuQ9iwiZpjWHqAnkvYA4oCUKDdwPvBTjD47QkTCt8A8YB6leqPJsewXaxEpwGaM7XI2AA8CD/sXsdXUwIQgzmaUhIga41b+mRizRycDDnMDEnFgGFAK3EyJeht4FKMQvCe0HDiH7/cUHIjxedxgLeJ/wH3+RSw0KzAhpGpZiHAqUSMpUbdjvCp+BTgDSZJEdFkw6t6eATZToq4yOZ7u+H8hjtmBs4AF1iK+tBYx21okP0si+mRGSYiDVaJSgbMxZo8KTI5GiI5cQMzNKFncxcOBCcASNaYsG6NQfW9GA/cDJdYi/g940L8I6WouokISJSEOVIkaC1yN8ao3yeRohAhlF/Ck2UF0ZHEXK4ybGUYCJ+vGz0eq5HHd/XAP8HfgD9Yi/gr8y7+Ihr1/iBAHR5behNhfJaqQEvUKsBK4GEmSROz6bwx2+O4PDAW+wZq6GWfegez72Re4A1hnLaLEWiTtNUTkyIySEN1RohRGUfZ1GN2yhegJHjQ7gBCOAHwAuM8coywJB1N3lAXcAlxtLeIe4G/+RVQffIhCfC+uZpR27dqlxo0bN2rkyJGjhw8fPubKK6/sD1BZWWmdNm3aiNzc3LHTpk0bUVVVZTU7VhEjSpSNEnUh8DlQhiRJouf4klL9odlBdGRxFycARwNVAKRNO5DZpFDSgT9izDDdaS2ib5iuK4R5M0qVKiVcPyAA9NUNn+zrnMTERL148eI16enpgZaWFjVlypSR77zzzs7//ve/mUcddVT9nDlzvr7++utzbrjhhpz77rtvUzjjEz1MiUoCfoGxWWmuydEIcSAeMjuAEMYBiUArKZP7KEffAWG+fgpwLXCFtYiHgTv9i+hRPaVE7ImrpTeLxUJ6enoAoLW1Vfl8PqWU4o033shYtGjRGoDZs2dXFxUVjQQkUYpHJcoFXAH8CnCbHI0QB6oZeNzsIEI4HqgHIOvkQyP4PE6Mn+HZ1iLmAX/2L0J2WxAHJK6W3gB8Ph/5+fmj+/btO6GoqKhuxowZjdXV1bbc3Nw2gNzc3LYdO3bEVQIpgBI1gBL1N2A9cDOSJIme7XlKdY3ZQXRkcRf3B4YDO7Ak2UgaMyEKT+vA6NH0lbWIm6xFOKPwnKKXibtEyWaz8dVXX61av379yk8//TR52bJliWbHJExUovpToh4GvgN+CySbG5AQYRGLRdwFENzDzX3maGVJiObvXidwI0bCdFYUn1f0AnGXKLVzu93+6dOn17/88svpWVlZvoqKCjtARUWF3eVy+cyOT0RYiUqmRN0MfA38HKMLsBC9wVeU6vfMDqIji7vYARxDexF3+hFhrVHdD4OAZ61FLLQWEY0ZLdELxFWitHnzZtv27dutAA0NDWrhwoVpo0aNaj7++ONrH3jggSyABx54IGvmzJm1pgYqIqdEWShRPwO8wA1IDyTR+zxsdgAhjMUo4m4heaJbOfoNMjmeIuATaxH3WYvIMjkWEePiqhZnw4YN9osvvniI3+9Ha61OPfXUHeeee+7Oo48+uuH0008flpub6+7fv3/riy+++K3ZsYoIKFEzgL+CvJIUvVYL8JjZQYTwI6ARgKziSBZx7w8rcClwtrWIGzG6fPtNjknEINMSpe7czh9uhx12WNPq1atXdT6ek5PjX7JkiTfa8YgoKVEjgbswGkYK0Zv9j1K93ewgOrK4i3MwtitZj8VpJXnsRJND6iwT+Cfw/6xF/Ma/iHfNDkjElriaURJxpkS5gZu0ZrZS8r0u4kIs9k46HAgAGvcZo5QlMVbvPBsLvGMt4gXgav8i1pkcj4gRcVWjJOJEiXJQoq4FvgEulyRJxIlvgAVmB9GRxV1sB44FtgGQNt2sIu79cQaw2lpEqbVIahiFJEqitylRs4DVwJ0gG2WKuPIwpVqbHUQnYzBabrSQNNaFo/9gk+PprkTgTxgJ0wyzgxHmklfaoncoUeOA+5C92ER8agPmmh1ECMfRXsTtPm2SUsrcaPbfIOBtaxF3A7/3L6LJ7IBE9MmMkujZjE1rS7TmYyRJEvHrJUr1NrOD6MjiLu4DjAaqUQ4LSeN66t2mCvg18Km1iClmByOiTxIl0XOVqAlAOXCLUjjMDkcIE8V6EXe+sjp7etf7fOBDaxE3W4tkNSaexFWitGvXLjVu3LhRI0eOHD18+PAxV155ZX+Aq666qn+fPn3G5+fnj87Pzx/97LPPSm1LLCtRdkrUzVqzDDjE7HCEMNlaYL7ZQXQULOI+jt2duI/sCUXc3WHDaFS71FrEaLODEdFhWlZ819gNYf3BueaLgfvsy5SYmKgXL168Jj09PdDS0qKmTJky8p133tkJcOmll1becsstleGMSURAiTokoHnMohjX88odhIiIWCziHgWkANUkjcrE4RlqdkBhNgmjs/cfgb/5FxFrX38RRnE1o2SxWEhPTw8AtLa2Kp/Pp3pgcWF8Mm75v1Vryi2KcWaHI0SM8BGbRdzHsrsT9+mH9tLfs4nAX4B3rUXkmh2MiJy4SpQAfD4f+fn5o/v27TuhqKiobsaMGY0AjzzySJ+8vLzRs2bNGlxVVWU1O07RQYmaHNB8CvxReiIJ8QOvUKq3mB1ERxZ3sRsYB1Sj7BaSx080OaRIOwr43FrEz8wORERG3CVKNpuNr776atX69etXfvrpp8nLli1LvPLKK7dVVFR8vnr16lU5OTltl1122UCz4xRAiUqgRN2mNUstijFmhyNEDHrQ7ABC+L6IO+u0PGVNSjE7oChIBR6xFlFmLaKv2cGI8Iq7RKmd2+32T58+vf7ll19OHzhwoM9ms2G1Wrniiiuqli9f3tPvzuj5StRhAc1nwO+VQmb4hNjTeuBNs4PoyOIutmEUcRv7zaUX9ZYi7u46BfjCWiT7SvYmcZUobd682bZ9+3YrQENDg1q4cGHaqFGjmisqKuzt5zzzzDMZI0eOlKZiZjH6It2uNR9YFKPMDkeIGPYIpTpgdhCd5ANpQBPOvHQSBgwzOyATuIEyaxE3WovolcVZ8Sau6j02bNhgv/jii4f4/X601urUU0/dce655+487bTThqxatcoJMGDAgNa5c+dWmB1rXCpR/QKa5yyKab2z9lOIsPEDj5odRAjHALuAYBG3JV5/khVwE3CItYgL/IuoNzkecRCUjtJdpStWrFg3YcKE7VF5sghZsWKFe8KECYPNjqNXKlFF/gDPWS24zQ5FiB7gFUr1KWYH0ZHFXZwF/B+wEWya/CeuVNbkVLPjigGrgdP8i/CaHYg4MHG19CZiU/Mf1PUBzbuSJAnRbbFYxD0V0ECArOIRkiTtNgootxZxktmBiAMTV0tvIsaUqLSGVp5LcXCc2aEI0YNsAl4zO4iOLO5iK3A87UXcGUfFWxH3vqQTrFsC/iwNKnsWmVESpmj5gxrf1MYqSZKE2G+PUqr9ZgfRyUiMZKCJxGFpJAwaYXZAMcgClALPWYuIh5YJvYYkSiLq6n6nfm61sMxpx2N2LEL0MAHgYbODCGEGYNwt7D7jkDgu4u6OMzD2ihtudiCieyRREtFTohx1v1NPpCXwsM2Cw+xwhOiB3qJUrzc7iI4s7uJM4FBgO1gUKYfIRtX7NgZYZi1iptmBiH2TRElERev1amBjK5+lJXC+2bEI0YPFYhH3lOC/AbJOHqasKemmRtNzZACvWov4g9mBiL2Ly0TJ5/MxatSo0UcfffRwgMrKSuu0adNG5Obmjp02bdoI2estvOqvUycBXyY7GG12LEL0YFuBl80OoqM9irjTZ0gR9/6xAHOsRfzHWoTsCBGjTLvrbd4JKqw/UBe/rj/p7rm33npr3+HDhzc1NDRYAW688cZ+Rx11VP2cOXO+vv7663NuuOGGnPvuu29TOOOLVzuvVX9OTeAPFiUdaoU4SHMp1T6zg+hkBOACKkjITSFxcJ7ZAfVQs4CB1iJO9C+ixuxgxA/F3YzSt99+a3/zzTfTL7nkkt3NL994442M2bNnVwPMnj27+vXXX880L8JeokRZd1yjnk9P5HpJkoQ4aJrYLOI+GmgGwP3jQ5SyxN3flDA6HHjPWkQ/swMRPxR339SXX375wDvvvHOjpcPPc3V1tS03N7cNIDc3t23Hjh3SX+ogfDFbJVftYonLyRlmxyJEL/EOpfo7s4PoyOIuzsCoT6oCBSmTDjU5pN5gLLDYWsRQswMR34urROnpp59Od7vdvsLCwl1mx9JbvXqOyu2bzBfZSbsLPIUQBy8Wi7jbyycCuE4apmypGWYG04sMBd63FjHG7ECEIa5mThYvXpwyf/78DI/Hk97S0mJpbGy0nHrqqUOysrJ8FRUV9tzc3LaKigq7y+WKtTqAHuHZM9S0Hw3l5UwnLrNjEaIX2Qa8aHYQHVncxRZgJlANQMYMmU0Kr/4Yy3An+hfxkdnBxLu4mlG69957N1VWVq7ctGnT5/Pmzfvu8MMPr3/ppZfWHn/88bUPPPBAFsADDzyQNXPmzFqTQ+1xXpilTj9xOPMlSRIi7B6jVLeZHUQnIwA30IhjQDKJQ/LNDqgXcgFvW4s4xuxA4l1czSh15eabb95y+umnD8vNzXX379+/9cUXX/zW7Jh6klfOUb88cTh/T7RJE0khwkwDD5kdRAhFQAsA2WdOVMoaVy+6oygFo9fSuf5F/M/sYOKV0jo6e/OtWLFi3YQJE7bv+8zYtWLFCveECRMGmx1HrCjOU+pXU7jlqMH8wW5Bek8JEX4LKNUzzA6iI4u7OA34K7AFlJ+Rj/9K2dJlJjmy/MAv/IuYZ3Yg8UheBYgDUpynrL8r4KFjhvBHSZKEiJhYnE2ajPG3w0/m8UMkSYoKK/CotYjfmh1IPJJESey34jzluPFIXpo+iJ9LjyQhImY78ILZQXTUoYh7BwAZx0oRd/Qo4G/WIm4xO5B4I4mS2C/XHK5Sb5/B+5P6cZLZsQjRyz1OqW4xO4hOhgHZQAOOfkk4h40yO6A4VGIt4p/WInmRGi1SzC267fYZKueyySwcmslIs2MRIg7E4rLbkbQXcbtnTVDKKsvu5vgVkAj8P7MDiQcyoyS65doClXv2GD6UJEmIqHifUv2V2UF0ZHEXpwIFQBUAqZNl2c1cl1iLuN3sIOKBJEpin345SY2cfSgLh2QwxOxYhIgTsTibdCjtRdwZx+UqW4bb7IAE11mLuNbsIHq7uEyUfD4fo0aNGn300UcPB7jqqqv69+nTZ3x+fv7o/Pz80c8++2y62THGigvGqQm/ncqbw10MNjsWIeJEDfBfs4PoyOIuVhhF3MbO9pk/mrTXDxDRdKe1iJ+ZHURvZlqNUt0p74X1By3t5SM/6e65t956a9/hw4c3NTQ07F5fv/TSSytvueWWynDG1NOdO0ZN/1MhT450k2t2LELEkSco1c1mB9HJUCAHqMDeJ1GKuGPOg9YiaqQpZWTE3YzSt99+a3/zzTfTL7nkkh7d/DLSzhqtjrp+Oo+PyZYkSYgoi8Vlt0KgFYDsWROUssmNQLHFCjxtLSKmmpP2FnGXKF1++eUD77zzzo0Wyw8/9UceeaRPXl7e6FmzZg2uqqqK6zs5ivPUEb+dyr/G9ZGaJCGibAml+guzg+jI4i5OAY6gvYg7Zaosu8WmBOBFaxGTzQ6kt4mrROnpp59Od7vdvsLCwl0dj1955ZXbKioqPl+9evWqnJyctssuu2ygWTGarThPHQ7Mfu0b3m9spd7seISIMw+aHUAIEzHKNHykHz1Q2TOzTY5HdC0VeN1ahGxSHEZxlSgtXrw4Zf78+Rkej2fcxRdfPHTp0qWpp5566pCBAwf6bDYbVquVK664omr58uXJZsdqhuI8NQX4JbB55Ta23PI+c+tbqTU5LCHixU7gP2YH0VGwiPsE2ou4XcfLbFLscwNvWYuI2xf84RZXidK99967qbKycuWmTZs+nzdv3neHH354/UsvvbS2oqLC3n7OM888kzFy5MgmM+M0Q3GemgRcAWwFmgFWb6fmhoXM3dlMtanBCREf/k2p3rXv06JqMNAfqMOWlYAzb7TJ8YjuGYiRLEkLhzCIq0SpK7/5zW8G5OXljc7Lyxu9aNGitHvvvXeD2TFFU3GeGs/3SdIPksRva6i7fgFzdzSxzZTghIgfsbjsVgi0AZA9a7xSNvveTxcxJB9jGS7V7EB6OqW1jsoTrVixYt2ECRN69J1mK1ascE+YMGGw2XGEW3GeOh04A1gLBEKd0zcZ55yjOT87mf5RDU6I+LCMUj3V7CA6sriLk4C/A9sAH3nzLlV2V19zoxIH4F3gRP8iYm3fwB5DZpQEQBkwH8jFuM10D5WNNF37Do9vbSCuZtuEiJJYnE2aSHsRd9qRHkmSeqwZwJOyie6Bk0RJUObVfuBJ4DX2kiztaKLl6vk8sbGOtdGMT4herh54xuwgOurQiXsnAK6ZUsTds50JXG92ED2VJEoCgDKvDmDccfM/jGQpZEO5+lbarnmbp9bV4o1mfEL0Yk9TqhvMDqKTQRgFwTuxZTpwjhxrdkDioN1iLWKm2UEopf6glFqmlKpTSlUppV5WSo3tdM48pZTu9FhqVsySKIndyrxaAy9ivLodBDhCnberDd81b/PsNztYFcXwhOitYnHZbTrtRdzuWeOUxS5F3D2fBXjKWsQwk+M4CvgXMA1jWdAHvK2UcnU6722gX4fHiVGM8QckURI/EEyWXgceAwZgdHvdQ6ufwO/e4bnV21kRzfiE6GU+pVR3e5/KaLC4i53AkbR34k47XJbdeo9M4H/WIkzrFai1Pl5rPVdr/YXW+nPgAiAbo/t7Ry1a660dHjuiH61BEiWxhzKv1mVe/Q7GnlP9gcRQ5/kC6N+/w4srKvk4qgEK0XvE4r5u4zFmk9tIm9ZP2d39zA5IhNU44BGzg+ggFSMXqel0fLpSaptSyquUekgp1ceE2IA4TJQ8Hs+4vLy80fn5+aPHjh07CqCystI6bdq0Ebm5uWOnTZs2It73emtX5tXvY0yR5gBJoc7RQMlCXl22mSXRjE2IXqAR+LfZQXS0ZxH3iTKb1DudbS3iarODCPoHsBx+8DfkDeBC4BjgamAq8K5SKuQKR6SZtgP0k08+GdYfwPPPP7/b09eLFi3y9uvXz9f+/o033tjvqKOOqp8zZ87X119/fc4NN9yQc999920KZ3w9VZlXf1Scp1qBXwPbMX6576H0fd763TRapw+kKKoBCtFzPUupjrX9FAdgdOOuwJpmx5k/zuR4ROTcYS1iuX8R75gVgFLqrxj1cNO11v7241rrjneBfq6U+gSoAE4CXohulHE4oxTKG2+8kTF79uxqgNmzZ1e//vrrmWbHFEvKvPoz4C7ABV13eb3zQxa+s5b5UQtMiJ4tFou4j8AorgX3rLHK4gh5Q4foFazAM9Yics14cqXU34BzgRla6+/2dq7WejOwERgRjdg6i8tE6ZhjjhkxZsyYUXfddZcboLq62pabm9sGkJub27Zjxw7TZtpiVZlXfwncCaQB6V2d949yPnztG16LUsN3IXqqlZTqj8wOoiOLuzgR444kY7uitAJZduv93MAL1qLQdaiRopT6B/ATjCTpq26c7wY8wJZIxxZK3CUEH3zwwVeDBw9u27Rpk23GjBl5Y8aMaTY7pp6izKvXFOep24BrCV18B8D9n7CsxUfbqSMptijpBitECLFYxD0O4y7XNlIP66scfTxmBySi4lDgfuDiaDyZUupejDvdTgNqlFI5waEGrXWDUioFuAl4HiMxGgzchpHA/y8aMXYWdzNKgwcPbgPweDy+k046qXbJkiXJWVlZvoqKCjtARUWF3eVy+fZ+lfhV5tXfYXzT2oCsrs6bu4Ll/1nF8wEdeu84IeJYE0Yn/JjRoYi7DgDXSTKbFF8ushZxRZSe6zKMEo53MBKh9sc1wXE/RtL+EuDFaFWzBijQ2pyavrhKlOrq6iw1NTWW9rcXLFiQNn78+Kbjjz++9oEHHsgCeOCBB7JmzpxZa2qgMa7Mq9cDczC+od1dnffUF3z5xEr+4w/g7+ocIeLQfynVtWYH0Ul/YChQgyXFRtLo8WYHJKLur9Yipkf6SbTWqovHTcHxpmCvpT5aa4fWOldrfbHW2rR9RuMqUdq4caPt8MMPzx85cuToQw89dNSPfvSj2jPPPLPu5ptv3rJgwYK03NzcsQsWLEi7+eabTVkH7UnKvHoTxsxSC9Blf4vnv2LNw5/xlC8Q7PIrTPdeBRQ/C55/gLoV5nVqGVrZABeXQf+/Q9LtMPMp+LpTq7er5oPrLhj4D/j35z8ce9kL0+eB1Kl1KRaLuKdB8AVN9qyxyuIw5TZsYSo78Jy1CNn8uBPTapT253b+cBk9enTrmjVr9th2Iycnx79kyRLZu2w/lXl1ZYeapRxga6jzXv2G71r8PHnpJM5zWENviyKip6ENxmbDhePhwpd+OKY1nPZfsCh4cRakJ8Jfl8KxT8KqSyHZYSRCT30Bb/3ESKB+9gocPwzcSVDfAlfOh7KzQEl1WiirKNUfmB1ERxZ3cQLGVhLtRdyHmhqQMFNf4FGM2/BFUFzNKInwK/Pq7cDtQDXGfjwhvb2W9f/4iMdafEjxvMlOHA5zZsCZo4yEqKOvd8DSTfCvE2CqB0ZmwX0nQpMPnv7SOGf1djgqFyb3h3PHQloCrK01xq5fAOePhdHZUf2UepJYLOIei1HE3UrKpGzlyBlodkDCVCdai7jU7CBiiSRKols85QUjPOUFnTctBKDMq2uAOzAK8gZ0dY33N7D5/5Ywr6ktdNNKYb6WYDVZYoe5ZouCBCssDlYITOgLH2+Bmib4ZAs0tcHwTFi6ERZUwPURr3LosZqBx80OIoQfAQ0AuE6RIm4BcJe1yJyeRbFIEiWxT57yglzgXWCBp7wgZD1SmVfXYTSl/A7o8hVp+WYq53zA3MZWYq0jsQDysyA33ZgZ2tEErX6440PYWA9bjD+lHD/MmDWa8qhRy/RYMaQ4YPZrcP8JMHc5jLoPJj0MH5pWfhmTnqfUvI09Q7G4i/sBeUANliQbyWOkiFsAJANPWovir4VQKJIoib3ylBf0Bd7GmCkaD7znKS8I2V+lzKsbgL8BX0HX3V5XVFJ983s8Wt9CbfgjFgfDboXnz4RvayDrL0Yx94J1cMIwsHZYprupCL65HD6fDafnG8lUwQCjpumG9+Dd8+G2o2HWC0ayJYDYXHZrL+LWuM8crSwJTrMDEjFjKvAns4OIBZIoiS55ygsygLeA4R0OjwTe95QXDAn1MWVe3QT8E1iB0SgsZEnvV9XU3rCIubXNVIczZnHwJvWD5ZdA7TWw5bfwxk+gugmGZIQ+31sNj66AO2YYSdWRg6BfKvxomJEkrZH/YYA1lOpFZgfRkcVd7MDYdLQKgLQjpIhbdPZHaxFTzQ7CbJIoiT04C132lHP6TdJav4oxi9TZEIyZpZGhPr7Mq1uAfwEfsZdk6dsa6q5/l7k7moJ324iYkp4I2clGgffHW+DUvD3P0dpYcrvrWOP8gIY2//djbX7wS8tRgIfNDiCEsYATaCF5QpZK6GfKnl8iptkwluDieqYx7hIlj8czLi8vb3R+fv7osWPHjgK46qqr+vfp02d8fn7+6Pz8/NHPPvtsl3uZ9XbOQpdVJVp+kTwr51Wl1LS9nDoAI1kKubt4mVe3Yiw1vI+RLIX8XttYT+N17zCvqpHNBxm66KaGVli+1XgENKzfaby9fqcx/t9VxszQdzXw0ho47t9w2khjhqizR5ZDRiKckW+8P30gvLsOFq+H+z4xlvJGdtm/PW60AvPMDiKEY2kv4s46VYq4RVdGALeaHYSZzCvU+kCF9wfzCN3tvkyLFi3y9uvX7wfblFx66aWVt9xyS2VYY+phnIUuC4pzU37q+Z1tYGJ3mo71ARZ6yguO3zR1ycedB8u82lecp+ZiNKU8DqiAPbt0VzbSdO07PH7bDH7SL4VBB/t5iL37eDMc3WEDjRvfMx4XjYd5xUbR9lXzobIR+qUY/ZZKCve8TmUD3LoYPrjo+2OT+8MfjoDTn4NUBzxxKjjtkf+cYtz/KNXbzQ6iI4u7OAcYBaxHJVpJHjvB7JhETPuttYjn/ItYYnYgZpCKdgGAs9ClgNOTzux7jX140uD9+FAX8I6nvOCkTVOXLO48WObV/uI89W+MV9Un0UWytKOJlmvm8+Qdx3DOgDSGHthnIbrjqMGg91Ki+eupxmNf+qbAul/tefwPRxgPsVssFnEfDgQATfaPRylLYpLZAYmYZgEetRZxiH9R/PXCi7ulN4BjjjlmxJgxY0bdddddu/cpe+SRR/rk5eWNnjVr1uCqqiqrmfGZZGZCYcavEg5LP5BXlmnAm57ygmNDDZZ5dQD4D/ACxt1wIRP0+lbarp7PU+tqkS7porf4BqO1RsywuIvtGMtuwU7c02XZTXRHPnCT2UGYIe4SpQ8++OCrVatWrX7rrbe+fuihh/q8/vrrKVdeeeW2ioqKz1evXr0qJyen7bLLLourzrTOQleRLS/psqST+0xTB77vRBLwiqe84ORQg2VerTF2g34GGAShtzJp8uG/5m2e/XoHXx5oIELEkIcpjbld78Zg9MlpIWmMC0f/wSbHI3qOa6xFTDE7iGiLu0Rp8ODBbQAej8d30kkn1S5ZsiR54MCBPpvNhtVq5Yorrqhavnx5stlxRouz0DXJkmW/POWC/kcqmzrYapIE4AVPecFZoQaDydLrGIWtA4Ln76HVT+C6d3h+VRUrQo0L0UO0EZtF3MdAsDt+1umHHsSLIxF/rMBca1F87dkZV4lSXV2dpaamxtL+9oIFC9LGjx/fVFFRsTtBeOaZZzJGjhzZZF6U0eMsdA3GoS5PnT3gCEuSNS1Ml7UDT3nKCy4KNVjm1brMq9/FqNvoDySGOs8XQP/hXV5cUckeReJC9BBllOqYukHE4i7ug9EWoBrlsJA8bqLJIYmeZwzwB7ODiKa4KubeuHGj7fTTTx8O4Pf71Y9//OPqM888s+60004bsmrVKifAgAEDWufOnVthbqSR5yx0ZQK/Tf3FgAJrlqN/mC9vBeZ6yguSNk1dcl+oE8q8+v3iPNUCXIZRK7Gr8zkaKFnIqyWFtE7pz95aFQgRix40O4AQDqO9iNt9+ihldcbN7LkIq+usRTzqX0RcbFKkdJSWz1esWLFuwoQJMXWL7P5asWKFe8KECYPNjuNgOQtdCcDvkn7c96TEaRmHRfjprt00dcldXQ0W56mJwG+A7dD1Zrm/m8ZR0wdSFP7whIiIdcDQWKpPsriLbRhbDDUCzQy/9wKVMFDuMBUH6mn/In5idhDREFdLbyLYKwkuTCjIODKhID0aren/z1NecFNXg2VevRxjM10XkNrVeXd+yMJ31jI/7NEJERmxWMQ9GkgBmnHmZ+AYIEmSOBjnWoviY6ZfEqX4M9M21HlK0mnZR6roVXHe6CkvuLOrwTKv/hK4AyNR6rIr+j/K+fC1r3kt5v78CPFDPmCu2UGEcAztS9xuKeIWYfEPa1HoLap6E0mU4oiz0DXRkmG7MOViT6GyWaJ918K1nvKCez3lBSF/qMq82gvcjlHcndnVRe7/lGUvruGlgEbSJRGrXqVUx9SWPBZ3sRsYB2xH2S0kTzjE7JhErzAZuNDsICJNEqU44Sx0DcSmrkidPXCaJdmaYVIYlwGPesoLQjb0LPPq74DbMIrBu9whbO4Klj/7Jc/7A8h2qyIWxWoRtwY0WafmKWtSitkBiV7jNmsRvfr7SRKlOOAsdKUDv035qecwax+H2c00L8ZoHxCyZ1OZV68H5mBsc5Ld1UWe/pIvn/icZ/2BPbdDEcJEG4A3zA6io2AR948wbpiA9CLpxC3CqR9wvdlBRJIkSr2cs9DlAC5LLMoc58hPHmt2PEFnAc97ygtCNpws8+rNGDNLzRgb74b0wld4H/6Mp3wB2iITphD77RFKdazNdOZjbDPUhHNEOgkDh5kdkOh1rrIWMcTsICIl7hKl7du3W2fOnDl0yJAhY4YOHTrm7bffTq6srLROmzZtRG5u7thp06aN6C17vQU3uv2JNccx0TnTHWL/d1OdgrHlScjNOMu8uhIjWaoHcrq6yKvf8N29H/Nkq5+WyIQpRLf5gUfMDiKEGYDRRDfrjEOUsvT64lsRdQnA/5kdRKSY1kdJfUVYp391Pp9057wzzjhj8PTp0xuuuuqq7c3NzaqhocHypz/9qZ/L5fLNmTNn6/XXX59TU1Njve+++zaF+Bx6VB8lZ6HrOBQXpF835EhrtiPX7Hi6sBg4adPUJXWhBovzVCZwNcbMUpcFsoUD6f/rqZyfYMMZmTCF2KdXKdUh9zo0i8Vd7MJov7ERbJr8J36rrMnh6sIvRGdH+RexyOwgwi2uZpR27Nhh+eijj1J/+9vfbgdITEzUbrfb/8Ybb2TMnj27GmD27NnVr7/+epd3XfUUzkLXGOC85HNyBsZwkgQwHXjbU17gCjVY5tU1wJ3AJoz94UJ6fwOb71zCvKa2rptWChFhsVjEPRWjiDtA1ikjJEkSEfZ3a1Hvyyt63Se0N1999VWCy+XyzZo1a/CoUaNGn3322bl1dXWW6upqW25ubhtAbm5u244dO3r01i7B7Ukus49LsTkOTTvS7Hi6YQqw0FNeELIeqcyr6zBeFX8HdFmMvmwz2+Z8wNzGVuojE6YQXdoMvGp2EB1Z3MVW4HigGoCMo6WIW0TaRODnZgcRbnGVKPl8PrV69eqkyy+/vGr16tWrkpKSAiUlJV3Wv/REzkKXFfiZSrIkJs/qe4KyqJ7yfzwOeM9TXuAJNVjm1Y0Y2y+sBrqcIVtRSfXN7/FofQu1EYlSiNAepVTH2h2YI4EMYBeJQ1JJGDTC5HhEfLjVWkSvmrnsKX9Ew2Lw4MGtffv2bZ0xY0YjwNlnn12zYsWKpKysLF9FRYUdoKKiwu5yuXzmRnpQZgDjU37qOdSSbAu5nBXDRgLve8oLQt49UebVTcDdwHKMZClkUepX1dT+aSGP1jYHX0kLEVkB4GGzgwhhBsado+D+sRRxi2jpA5SYHUQ4xVWiNGjQIF9OTk7rihUrEgDeeuuttJEjRzYff/zxtQ888EAWwAMPPJA1c+bMWlMDPUDOQlcucG7isa5U+9CkiWbHc4CGYCRLI0MNlnl1C/AvoBwYTBfJ0tpa6q9/l7k7mtgWqUCFCJpPqa4wO4iOLO7iTOAQoAosipRDDzU7JhFXLrcWdd3apafp0bU4B+Luu+9ef9555w1tbW1VgwYNann66afX+f1+Tj/99GG5ubnu/v37t7744ovfmh3n/nIWuhKBS639EpTz2KwTzI7nIHkwluGO2zR1ycrOg2Ve3Vacpx4CWoEjgQrYs0v3xnoar3uHeXOO5vzsZPpHPGoRr2KxiHsyxouIAFknD1fWlC73UBQiApzAVcDvzQ4kHExrD9ATxWp7gGC/pPNRHJ3++yEzrO6Yvsttf+wAZm6aumRZqMHiPGUFfgIch5EshawRcTlJuG0GP+mXwqCIRSri1VZgIKU6ZpbrLe5iC0ZPmwDQyNC/n62cQ/NNDkvEn3pgkH9Rz68Xjault15sAnBs8rn9BveiJAnAhdE6IGSzzDKv9gP/Bl7BqFkKOUO6o4mWa+bz5MY6votYpCJezYulJCkoD+Nnp5GEQSkkDs4zOyARl1KBX5kdRDhIotTDOQtdLuD/2cenWByHpBaZHU8EpAFveMoLjgs1WObVAeC/wAvAICDkHnL1rbRdPZ+n1tXijVikIt5o4CGzgwjhaAh2qnefOVEpi/yeF2b5jbWIZLODOFjyA9SD7W4FkGhxJJ/Z98Qe1ApgfyUBL3vKC04JNVjm1Rp4CXgGo8+SI9R5TT78V8/n2a938GXEIhXx5B1KdUzNUlrcxekY9UnbQCFF3MJkWcClZgdxsHrrH9Z4cQwwLvnsnLwe2ApgfyUAL3jKC84ONRhMll4H5mF08A654W5bgMB17/D8qiqWRyhOET9icTbp+yJu14lDlS2tx+8yIHq8q61FoX8f9xSSKPVQwVYA59iGJzXbx6ZMMzueKLEBT3nKCy4ONVjm1brMq9/F+APWH0gMdZ4vgP7Du7y0vJKQReJCdEMV8KLZQXQULOKeiXETBGQcI524RSzoB/zU7CAOhiRKPZCz0OUEfgk0Jp/Z90fKoqxmxxRFFuBRT3nBZV2dUObV7wP3ADkYy3Z70MANC3mtfBMfRiRK0ds9RqluNTuIToYDbqABx4BkEofInW4iVvzOWtRz2xHFVaK0YsWKhPz8/NHtj5SUlENuueWWPpWVldZp06aNyM3NHTtt2rQRVVVVsZ54nAn0cZ7g7m/Ndgw2OxgTKOBeT3nBtV2dUObVyzC2PHEDKV2dd+ti5i9ez8KwRyh6u1jsnXQURm8xyD5zolLWuPr9LmLaEOBcs4M4UKb1UbIWEdZpYf8iPtmf830+Hzk5ORM+/PDD1X/961/7uFwu35w5c7Zef/31OTU1Ndb77rtvU+ePiYU+Ss5C1wjgj5YMW2X674ZcrhIsPf6OgoN0y6apS27sarA4T43BaHxWC11vlvubqUw7Zggh76wTopOFlOqjzQ6iI4u7OA34K7AF8DPyiV8pW3pvr1sUPctqYIx/EdFJOsIobl9xlJWVpQ0aNKglLy+v9Y033siYPXt2NcDs2bOrX3/99ZgsgHQWuuzAxUBd8tk5R0uSBMANnvKC/+tqsMyrvwTuwOjp0WV34n+U8+GrX/NqlF43iJ4tFou4J2H8PveTOXOwJEkiBo0CzjA7iAMRt4nS008/7TrzzDOrAaqrq225ubltALm5uW07duyI1bXUowGPY2Jqom1E0mSzg4kh13jKC/7lKS8Iue9bmVd7gdsxiru7TIIf+JSP/7eGFwO6573iEVFTDTxvdhAdBYu4j2d3EfexUsQtYtX1ZgdwIOIyUWpublZvv/12+gUXXFBjdizd5Sx0uYFZWNjiPCX7ZKWU7AT+Q78E5nrKC0LWl5V59XfAbYAVo7dHSPNWsOLZL3neH9hz7zghgMcp1S1mB9HJUKAv0IA9x4lz2CizAxKiC4dai5hpdhD7Ky4Tpeeeey599OjRuwYOHOgDyMrK8lVUVNgBKioq7C6XK6a2JAju5XYOEEg6ve8Ea4a9n9kxxaiLMNoHhOzOXebV64E5GHvCZXd1kae/5MvHV/KsPxB67zgR12Jx2e1Idhdxz5qolDXWb0YR8a3HzSrFZaL0zDPPuM4666wd7e8ff/zxtQ888EAWwAMPPJA1c+bMWtOCC20sMMWa46hPmJI2w+xgYtxZGI0pQzY4K/PqzRgzS01An64u8r81eB/6jKd8AdoiE6bogRZTqlebHURHFndxKjAN2AZA6hTpxC1iXaG1iPFmB7E/4i5Rqq+vtyxevDjt/PPPr20/dvPNN29ZsGBBWm5u7tgFCxak3XzzzVtMDPEHnIWuRIwC7urks3KOV3ZLj+5wGiUnA694ygtC9lAq8+pKjGSpHqPXUkivfcN3937Mk61+Ym2pRZgjFlsCHIqxnOwn49hBypbhNjsgIbrhF2YHsD9Maw/QE5nRHsBZ6DoNODXhiAxr8hl9L4jmc/cCi4GTNk1dUhdqsDhPZQDXYMwsbe7qItMH0v83Uzk/wYYzIlGKnqAG6E+pbjY7kHYWd7EC/oyxXU89Q+48XSXl96hX6iJu1QD9/YuImZ+nvYm7GaWexFno6g8U41BbnD/KOtHseHqg6cA7nvKCkLdKl3l1LXAnsAljf7iQFm9g851LmNfURmNEohQ9wZOxlCQFDcHYHqIee59EnMNHmx2QEN2USQ9qFSCJUoxyFroswAVAS9KpfQ6xpNi6vFNL7NVkYKGnvKBvqMEyr64D7gK+BQZ2dZFlm9k25wPmNrYScnZK9HqxWsRt1NC5z5yglC1W25oIEUqPWX6TRCl2TQFGq2TrjoRD0grNDqaHGwcs8pQXhJw1KvPqRuDvGJ1jc7u6yIpKqm96j7l1LfSYthIiLJZSqj83O4iOLO7iZOAIdhdxT5UibtHTHGUtYpjZQXRHNBOlQCAQ6LG9f4KxR6W3jrPQlYIxm7Qt6dQ+h0kH7rAYCbzvKS8YGmqwzKubgLuB5cBgjP3k9rCmmtqShcytbaY6QnGK2BOLRdyHADbAR/pRA5Td1eUdnELEKAX83OwguiOaidIXVVVV6T0xWQoEAqqqqiod+CJKT3kakKTSbT7HuJQjovSc8WAw8J6nvGBkqMEyr24B/gV8xF6SpbW11F//LnN3NFEZoThF7KgDnjU7iI6CRdzHQ3BmM3OmdOIWPdXF1iJivu9X1Na0fT7fL7Zu3frw1q1bx9LzlvwCwBc+ny/ia6rOQtdA4BhgY/JpfY5UDktipJ8zzngwkqXjNk1dsrLzYJlXtxXnqYeAFqAIqCDETOLGehp/9zbz5szg/D7JeCIetTDLvynVu8wOopNcjJsPKrBlJZCUN8bsgMyma99Db7wLGj6B1s2ovLmonIu/H2+tRK+9DmreAl8tpB+JGn43yjli9zmBb6+CynlgSUYNuR3V97zvP776ZfSGO1AT3kc2RQirfsBJQJnZgexN1BKlSZMmbQOKo/V8PdjpQIsl255gH518uNnB9FJ9MAq8Z26auqS882CZV/uK89RjGIWyx2EkS3t06d62i+Zr3+bx24/hvH4pDIp41MIMsbjsVkh7EXf2rPFK2UJ2oo8rgQZIHovqeyF6zYU/GNJao788DZQFNfpFsKWjN/4VvfJYmLwKZU1GV78M255CjXsLmr5Ge38GruNRdjfaV4/+9krUmDJJkiLjF8R4otTTZnZ6NWehayhGA7nKpFP7TFc2i8PsmHqxTOBtT3lByEL5Mq/2A/8GXsF4BR/yRUVNM63XzOfJDXV8F7FIhVk+plQvNzuIjizu4iSMRClYxH2YLLsBynUiliFzUNlnsseftaavoX4pavi/UGlTUUkjUSPug0ATbHvaOGfXasg4CpU6GdXnXLCmQfNaAPS666HP+ahk6b4QISdai+hvdhB7I4lSjAju5/ZjYJe1f0KKPS95itkxxYFU4A1PecFxoQbLvDoA/Bd4ARgEhHzlXt9K2zXzeWptLWsiFqkwQyzOJk3E+D70kVbYX9mzQra9EB2072HcoYpBKQuoBHTdYuNA8gSo/xjdVoOu/8RIohKHo+uWQu0C1KAetz1ZT2LF2H0iZkmiFDvygDHAtqTi7COVVUlPlOhIAl72lBeEXBYu82oNvAQ8jdFnKeQsX5MP/zXz+c/X1XwZsUhFNDVg/J/HjA5F3LUAuE6Q2aTucOZDQi563fXoth3oQCt6wx3QuhFajd2qlOt46HM++rMp6DUXo0Y+BtYU9NezUSPuh61zCSwbReDTSeidH5r8CfVKP7MWhb55JhZIohQDgrNJs4AG2+DEDNuwJOmJEl0JwPOe8oKzQw0Gk6U3gLkYRbQh99trCxC49h2e/7KK5ZEKVETN05TqBrOD6GQgxszmTmyZDpwjx5odUE+gLHbU6Oeh6Vv0kiz04iR07QLIPAE63HBlGXwTlqnfYJn8Ocp9Omy4A9IKjJqmihtQ499FDb4NvXoWOtBq3ifUOw0DjjY7iK5IohQbxgDDge3Ok/scpSxK/l+izwY85Skv+GmowTKv1mVevQBjOaY/hN73LaDR17/LS8u3sixyoYooiMVlt+l834l7nLLYpYaxm1TqJCyTlqOm1aIO34Jl3Bvgq4bEISHP17u86MpHUUPugNoFxl1yCf1Qrh+BboUmWWWPgJjt1C1/kE0W3KrkLGCnLS/JbRucKJtamscCPOIpL7i8qxPKvHoxcA/QF2PZbg8auGERr5Vv4oOIRCki7TNK9cdmB9GRxV3sxGhXUQVA2uGy7HYAlC0d5chGN30N9R+jsk7d4xyttbHkNvQulC0ddAB02+4xAm2g97gJVhy8061FpJgdRCiSKJlvAsZdVTVJJ2YfreT+U7Mp4B5PecHvujqhzKuXAX8D3ND1D/ati3n7/fUsDHuEItJicV+38Rj1cW2kTeun7Nn9zA4olmh/A7phObphORCAlvXG+83rjfGq/6JrF6CbvkNvfwm98jhwn2bMEHW29RGwZaDcwT1b06dD7bvonYthy31gsYMzZM9acXASMWrwYo4kSiZyFrpswNnADvu4lBzrgAS5/zR23OEpL7i5q8Eyr16BsZluJpDW1Xn/t4RFb3/HWxGIT0RGI0ZbiJgRLOKeCewEIPNEqWHsrP5j9KeHoD89BAJN6IobjfcrbjDGW7egv7oQ/XE++ttfQ98LUPl71urr1kr0+ltRw+/ZfUylTkYN/AN61enojXehRj6BsoZceRcHb88pvhigtNZmxxC3nIWuw4BfAuvSfpt7pm1gYtx32I1Bf9k0dck1XQ0W56k84GpgF+1/yEKYfSiTTxzOSTJfGPPmUqp/ZnYQHVncxQOBW4AKrGl28h69WlkcIW8oEKKH2wH08S/as8GvmWRGySTOQpcdozZpu9WTkGb1JIwyOyYR0tWe8oJ/ecoLQqY4ZV7tBe7AmDbO7OoiD3zKxy98xYsBjbwyiW2xWMQ9DfAB4J41VpIk0Yu5MG5aiCmSKJnncCALaHAelzVF7nSLab8E5nnKC0Ju3ljm1d8Bt2H8PLm7ushjK1nxzJc85w/suXeciAmfU6qXmh1ERxZ3cSLGbdPBIu4CKeIWvV3MLb/JH2cTOAtdicCZwDbltNjsI5Pll1/suxB42lNeELI7d5lXr8dIlnxAdlcXeeZLVj2+kmf9gdiaWhZAbBZxj8Po29VK6tS+ytFHNmAWvZ0kSgKAqUA6sMv5o6zxymGRysCeYRbwgqe8IOTSR5lXbwbmAE0YG++G9L81eB/8jH+3+YM9cUQsaAKeMDuIjjp04q4DwHWSFHGLeDDUWkRM1etKohRlzkKXFTgF2A7gmJh2mLkRif10MvCqp7wgOdRgmVdvw5hZqgNyurrI69+w9t6PeaLVT0tkwhT76b+U6lqzg+ikP0bH4hosKTaSRkuPNREvYmpWSRKl6MvHqGNpSChIH2JJs3U58yBi1jHAm57ygpBtAcq8uhq4HaOupMtdsd9dx4a/f8TjLT6aIhOm2A+xuOxWAMEl2uwzxyhLQuLeTxei15BEKc6dgHErOQkFGTKb1HMdAbzjKS9whRos8+pa4P+ATRj7w4W0eAOb71zCvKY2GiMSpeiOVZTqxWYH0ZHFXZyAkZBvAyBtmtQxingyxVpEzDRVlUQpipyFrv4Y+7pttw1xZlr7J+SZHZM4KJOBhZ7ygr6hBsu8ug6jKeW3GBuahrRsM9v+vJi5ja3BWhQRbQ+bHUAIYzFaTrSScmi2cuR0+f0jRC+kMEpUYoIkStF1NMZdUTrxGNdU2a6kVxgHvOcpLwg5a1Tm1Y3A34FVGDu/h7RyG9U3vcfcuhZqIhKl6EoL8JjZQYTwI6AeAFexzCaJeBQzy2+SKEWJs9CVAhwFVKoUq8M+POkQk0MS4ZMHvO8pLxgaarDMq5swNtJdDgzGeLW0hzXV1JYsZG5ts1HoL6LieUr1DrOD6MjiLu6H8T1Vg8VpJXmMFHGLeDTDWkTIm2aiTRKl6DkMsAI+5/Huicpuke66vctgjGQpP9RgmVe3APcBH7GXZGltLfXXv8u86iYqIxSn+KFYLuLWuM8crSwJ0j5ExKOY2SRXEqUoCG5+ezKwHQWO8SlTzY5JRER/YJGnvGBCqMEyr27D+MO8CBhCFz9/G+tpvO5t5m1rZFPEIhUAXkr1QrOD6MjiLnZgFHEHO3EfIctuIp7FxPKbJErRMQbIAHYlFGYOt6TYskyOR0ROH2CBp7wgZDJc5tU+jJqYtzBmlkJui7JtF83Xvs3jWxpYH6lARUzOJo0BkoEWksdnqYT+uWYHJISJfmR2ACCJUsQ5C10KOAloAEiYmi6zSb1fJvC2p7zgyFCDZV7tB54CXgFyAVuo82qaab1mPk9u2Mm3EYs0frUSm0Xcx9FexJ11qswmiXiXYy0iZO1nNEmiFHkDMQozqy3Z9iRrX8cwswMSUZEKvO4pLwj5iqjMqwPAf4HnMZKlkHvI1bfSds3bPL22ljURizQ+vUiprjI7iI4s7uK+wChgByrRSvK4kEu4QsSZaWYHIIlS5B2D8eqVxCMzxyiLkq95/EgCyjzlBSHX2cu8WgNlGLNLAwFHqPOafPivmc9/vNV8EbFI408sLrsVAAFA4z4jX1kSk8wOSIgYcITZAcgf7QhyFrrSMf6TKwHsI5PHmRuRMEEC8JynvOCcUIPBZOkNYC7gCZ6/h7YAgd+9wwtfVrE8UoHGkW+Bd8wOoiOLu9gOHEt7EXd6oSy7CWGQGaVergDja+y35SZmWFx26a4bn2zAvz3lBT8NNVjm1brMqxcAD2LcORfydvCARl//Li99tpXyyIUaFx6mVGuzg+hkNEYRdzNJozNx9B9idkBCxIix1iJC7qsZLZIoRYiz0GXBeIVYDZBwRMZYacQd1yzAI57ygiu6OqHMqz/AaEzZF2PZbg8auHERr3+0iQ8iEmXv14YxexdrjoXgfn9Zp0+S3xVC7GYBDjc7ABEZgwAXwV9+9hGy7CZQwN2e8oLrujqhzKuXAX8DsoGUrs7782Lefm89C8IfYq/3MqU6ppp5WtzF2Rh7u1WjHBaSx080OSQhYo2py2+SKEXOZIzuuthHJfexpNn6mByPiB23e8oLbulqsMyrVwD/h9F7q8sp57uW8N7873gr/OH1ag+aHUAIh7O7iPv0kcrqjIltG4SIIZIo9TbOQpcVKAJjz66Ew9JlNkl0VuIpL/hLV4NlXr0KuAOjbiWjq/PuXsaSV77m1ZiruIlN64D5ZgfRkcVdbMPonRQs4j5SiriF2NPh1iLz8hVJlCJjOO3ddQHbsKSx5oYjYtRVnvKC+zzlBSELUsq8+mvgdoy2Aa6uLvLgp3z8wle8GNBIurR3j1CqA2YH0ckojJ5bzThHZuAYIH3WhNhTKmDahIMkSpFxGEbRKI7JaQMtSdYMc8MRMexSYJ6nvCDkViZlXr0WuA2jvsnd1UUeW8mKp7/gOX+AWEsEYoUfeNTsIEI4BtgFgPuMQ6WIW4gumdZPSRKlMHMWuhwY66nGstukNFl2E/tyIfCMp7wgZHfuMq/egJEs+TCKvEN6dhWrHlvJM74AvsiE2aO9SqnebHYQHVncxVnABGA7ym4hecJEk0MSIpaZVqckiVL45WM0DWzDpiy2XOdoswMSPcKZwP885QWJoQbLvHozMAdowth4N6QX1/D1Q5/xVJvfmNEUu8VqEbcGNFnFI5Q1KdXsgISIYZIo9SJHAM0ACQUZQ1WCRe5gEd11EvCKp7wg5PdMmVdvw5hZqgP6dXWR179h7b0f80Sr36iRE2zA6H4eM/Ys4j5KiriF2Lsh1qKuf+9FkiRKYeQsdCUBkwguuzkmpsqym9hfxwBvesoL0kMNlnl1NUaB9zaMLt4hvbuODX9bymPNPpoiE2aP8iil2m92EJ2MBNKBJhKHp5EwcLjZAQnRA5gyqySJUniNBqyAH7uy2DwJI80OSPRIRwDveMoLskINlnl1LXAnsBEY0NVFPtjIljs/ZF5TW7Djc3wKAI+YHUQIMyCYxLrPOFQpi1RxC7FvU8x4UkmUwqsIaABIODRtoLJbQm5wKkQ3TAIWesoL+oYaLPPqeuAvGBu8drmH4Mdb2Fb6Po82tFIXmTBj3huU6g1mB9GRxV3sAg4BtoNNkTLxELNjEqKHMGXyQRKlMHEWutIxZpR2ANhHJUs/FHGwxgLve8oLQiZCZV7dCPwdWIWxZU5IX1Sx46ZFPFrXQk1EooxtsVjEPTX4b4CsU0Yoa4qpG34K0YNIotTDjcPodaMBrAMSJVES4TACI1kaGmqwzKubMDbSXQ4Mxvge3IN3Bzv/tJC5tc1G/Vyc2Ay8YnYQHVncxVbgRwTrGMk46lBTAxKiZxlmLSJkz7lIkkQpfI7GuBsJS5bdacmwmVKdL3qlXIxkaVSowTKvbgHuA5ayl2RpXS31v3+XudVNxNSmsBE0NwaLuPOATGAXCYNTScjNMzsgIXoQB8bvuKiSRCkMnIWuNGAIsBMgYXLaUCUtdkV49QcWecoLJoQaLPPqNuBhYBHGL5KQP9ub69l13dvM29bIpkgFGiMCGF+PWHM0wfYhZJ95iBRxC7Hfor78JolSeAylvXEcYBueJMtuIhKygQWe8oKpoQbLvNoHPAa8hZEshZyi3raL5mvf5vEt9VREKtAYMJ9Svc7sIDqyuIszMIr0q8CiSDlEiriF2H9Rn4WVRCk8xsH320ZY+yVIoiQiJRN421NecGSowTKv9gNPAy9jLNnZQp1X00zr1fN5cv1Ovo1YpOZ6yOwAQpiCsSwawHXyMGVNzTA5HiF6IplR6mmchS4FTAbjjiJbXpLb4rTKXSwiklKBNzzlBceHGizz6gDwXPAxCAi5h1xDG75r5vP02hrWRCxSc1QCZWYH0ZHFXWwBZgLVAGQcLUXcQhwYmVHqgXKAFIJ1B47xqTKbJKLBCZR5ygtODTVY5tUaY1bpaYw+S45Q5zX78V/zNv/xVvNFxCKNvnmU6ljb6y4PcAGNJAxKIXGINKMV4sDIjFIPNJwOdxnZBjslURLR4gCe85QXnBNqsMyrdZlXvw7MBTwYmzXvoS1A4Hfv8MKXVXwWuVCjRhOby25FENx7z33mRKUs8rtXiAPT31pEVPdQlR/WgzcJgltEOJTVmu0YbGo0It7YgH97ygt+1tUJZV69AHgA4845Z6hzAhp9/buUfbaV8siEGTXvUqpjqu7K4i5Ox2gyWQUKUg6VZTchDpwiystvkigdBGehy4HRjbsWgtuW2FTIehAhIsgCPOwpL/hVVyeUefWHwN1AXyAp1DkauHERr3+0iQ8iEmV0xOJs0mSM/yM/rhOGKltaptkBCdHDRXX5TRKlg5NL+ya4gD1fti0RplHAPz3lBdd1dUKZV38M/BVwY9TVhfTnxbz9XgULwh9ixFUB/zM7iI72LOI+dpKpAQnRO8iMUleUUn9QSi1TStUppaqUUi8rpcZ2GLcrpe5QSq1USjUqpbYopZ5SSnW5D9ZByifYOwnAOlC2LRGmu91TXlDa1WCZV68E7gIygC7vzrxrKe/N/443wx9eRD1GqW41O4hOhmMkpg04+idJEbcQYSEzSntxFPAvYBowA6N30dtKKVdwPAk4FPhz8N9TMe74eUMpFbKfzEGaQrAbtyXL7rSk23Ii8BxC7K8/ecoL/trVYJlXrwLuAJIxEqaQ7l7G0le8vKJ1V2fEnFhcdjsSMJI396yJSlmjvk+VEL1QVGeUlO5BvwU7U0qlYCQqp2mtX+7inNHAl8B4rfXn4Xru4LYl/wDWAzqxKHNEUnGfn4Tr+kKEwQPALzdNXRLyh7w4Tw0BrsV4wbGjq4tcOJ7xZ+RzmkWF3kMuRiyiVB9ldhAdWdzFacDfMDbn9TPyiSuULT3L5LCE6A3q/ItIj9aT9bQZpc5SMT6Hmr2c0768sLdzDsQwOm5bkuv0hPn6Qhys2cBjnvKCkLMYZV69FrgNo77J3dVFHl/Jyqe/4Dl/gEBkwgyLB80OIIRDaS/izjx+sCRJQoRNmrUo9B28kdDTE6V/AMuBJaEGlVIO4C/Ay1rrjWF+7vHA7qZ2lr4OSZRELLoAeMZTXhDybswyr94AzMH4Xs7u6iLPrmLVYyt5xhf4fqueGLIDeN7sIDqyuIsVRhG3MVOXcZwUcQsRXlF74dFjEyWl1F+B6cCPtdb+EOM24EmMGoyfhvO5g9uWTKLDcoU1094/nM8hRBidCfzPU16QGGqwzKu3YMwsNWG0DwjpxTV8/eCnPNXmJ9a6Xj9OqW4xO4hOhmF8Leux5zhxDhtldkBC9DKSKO2NUupvwLnADK31dyHGbRhbN4wHjtFaV4c5hGyMQtgWANvgxAyVYAnZm0aIGHES8KqnvCBkR9syr96GkSztBPp1dZE3vmXtPR/zRKufWEpMYruIO3vWBCniFiLsuiwXCLcelygppf4B/AQjSfoqxLgdeBYjSTpaa701AmF46LBtiX1ksiy7iZ5gBvCWp7wgZBFkmVdXA7cD2zC6eIe0YB0b/raUx5p9NEUmzP3yAaV6ldlBdGRxF6dg3Jm7DYDUKbLsJkT4yYxSKEqpezGW0c4FapRSOcFHSnDcBvwXODx4ju5wTjgLv4bC94Wt1oGJkiiJnmIa8I6nvCDkL5kyr64F7gQ2AgO6usgHG9ly54fM29VGQ0Si7L5YLeI2GtFmHDNI2TKi9spXiDgiiVIXLsO40+0dYEuHxzXB8QEYvZP6A590OufsMMYxGqhrf8ea7ZD6JNGTTAIWesoLQvb9KvPqeoybIL4FumzW+vEWtt36PnMbWr//WYiyWowXRjGjQxG3cZdt5o9kNkmIyJBEKRSttericVNwfN1ezpkXjhichS4bxtYlxitpBdJoUvRAY4H3POUFA0MNlnl1I/B3jB5kuV1d5Isqdty0iEfrWsLefqM7nqRUx8LyX0dDMGq86rD3ScQ5YrTZAQnRS0miFMNyMOqTAgC23MQMZbckmBuSEAdkBPC+p7wg5NY7ZV7dBNwDfAoMhtANJ7072PmnhcytbWZ7pALtQiwuuxXS3jbEfeZ4pWyR2BFACCHF3DHtB4XctmFJMpskerJcjJmlkLevl3l1C3A/sJS9JEvraqn//bvMrd5FJG6eCOUjSsPXaT8cLO7iZIyWJcEi7qmy7CZE5MiMUgwbQfttv4DNkyiJkujp+gOLPOUFE0MNlnl1G/AwsAgjWQr5e2NzPbuue4fHtjWyKUJxdhSLs0kTARvgI71ogLK7+pgcjxC9mSRKMWwkfH+nj8Vtl0RJ9AbZwAJPecFhoQbLvNoHPAa8hZEshewLtG0Xzde+zeOb66mIVKAYN1I8E8Hr77cORdy1AGTOlNkkISJLEqVY5Cx02TFefTe2H7Nk2rvsZCxED5MBzPeUFxSFGizzaj9GI9cyjCW7kPU3Nc20XjOfJ9fv5NsIxfkUpXpXhK59oHIx7rrdic2VQNLIMWYHJEQvJ4lSjOpDh41wVbotwZJkzTA1IiHCKxV43VNecHyowTKvDmDsq/YcRuuAkHvINbThu2Y+T39Xwx5NYcMgFpfdCiG4D172rHFK2UJ+XYQQYZNuLQo9sx1ukijtn750+JrZRyRJDYLojZxAmae84LRQg2VerYGXgX8DAwFHqPOa/fivfZv/eqv5IoyxfUKp/iyM1ztoFndxEkaiFCziPlyW3YSIPEWUZpUkUdo/g+jYkbuPI9PEWISIJAfwX095wbmhBsu8Wpd59ZvAXIwlp5AtMtoCBH73Di98sY1wJTexOJs0AWMZso20wv7KniV1i0JEhyRKMWgEHQu5M+0h98wSopewAU96ygt+3tUJZV69AKN9QH+Mmag9BDT6jwso+2wr5QcZTwPw1EFeI6w6FHEb3cldUsQtRBRlRONJJFHqJmehS2F03f2+kDvdlmFaQEJEhwV4yFNe8OuuTijz6g+BuzGWppNCnaOBGxfx+tJNLD6IWJ6hVJu9t1xnAzEKuWuxpjtw5o81OyAh4khUGrpKotR9GRjLC23tByypUsi9P1o+q6P6mjVsPfkTNh+2lF2vbPvBeGCXn513rWXryZ+y+ciPqJy1nIant/zgnJ1/X8eW45ax9ZRP2fXGDxtBN79fw/ZLvkRrHfHPJc4o4B+e8oLfd3VCmVd/DPwVo1tuSlfnzVnMO4sqePcA44jFZbcjaP+dkD1rrLLYQ9ZrCSEiQoq5Y4yL4N1u7VSyJEr7Q+/yYx/qJP3KwaiEPb/16v5eQfMHtWTeNIw+z0wg9ace6u5dz67XqgAjEWp6s5qsf44i7YpB1M75Fn+t8Tcq0Ohn59/Xkf6HISgVsnm0OHi3ecoLbu1qsMyrVwJ3YbyoSOvqvL8s5f23vuXN/Xzu5ZTqZfv5MRFlcRc7gSLai7jTCmTZTYjokkQpxmTQcfsGBcpplRql/ZB4RCZplw3CeUxWyO+81s/rcZ7gJmFyOrb+iSSdmI1jbAqtXxqrLW3rmnAcmoZjVApJx7uxJNnwb24BoP6+9ThnurEPDbnyI8Lnj57ygr91NVjm1auAO4Bk9lI/cM/HLH3ZyysBTXen/x7aryijYxzts8ypBTnKnt3f7ICEiDOSKMUYFx0SJWu/hFRlUVH5T4oXjgmptCyuwV9pJD+tK+tp8+4isSADAPuIJNq+aiBQ56N1dQO6JYBtQCKtn9fT8kkdqRd7TIw+rvzWU17wgKe8IOTvjzKv/hq4HSOJcHV1kYc+45MXvuLFbiRLu4AnDzjaCNiziPtEmU0SIvqkRinG9Ada2t+x9k/IMC+U3in96sHYRiRTWfwZm6d9xPZLV5F2xSASpxtdGBIPz8A5003VTz+ntvRbMm4chkqyUHv7WtKvG8Kul6vYdvZyqi78nNaV9SZ/Nr3e/wMe85QXhHyxUObVa4E5GC8uutzl+/GVrHz6C/7rD3zfdiOE/1Cq6w4q2vDzYNzcUYM11U7SqHFmByREHJIZpRjTF2huf8ea7cgwL5TeqfE/W2ldWY/rrpFkPzaW9CtzqftnBc1Lanefk3bJQPo+fwh9npqA8ygXDY9vxjEuBUuKjfoHN5J172hSLxvIjuu96La9/e0VYXA+8KynvCBkF+oyr96AkSy1YewlF9Kzq1g9byXP+ALBztZ7itUibj8A7lljlcURso+UECKiopIoRWXaqpf4QaJkcdkzzAul99HNAer+tYHMOSNILDRmkOwjkmnzNtLw7827l9868q1vYtfLVWQ/MY5dr1bhOCQVq9uB1e2ANo2vohn7cKlZirAfAy96ygt+vGnqkubOg2VevaU4T90G/A7jZ6gy1EVeWsPXLT7+fckhnGu3/qDT9xeU6iURifwAWdzFicDRtBdxO3JcumXDd6YGJURvF2hLwJGzTlmTOu7zuL3L88NIEqVucBa6bEAmsKH9mPRQCi/tC4BPo6yd7lizKEItymitqb1tLWm/zsWSYjPO8endY9qnISBtAqLkROA1T3lB8aapS/boc1Tm1duCydI1QD9gS+dzAN74lnXNPp64bDIXJNp2J0uxXMTdCsCGOe+YGo0Q8WEA8Bf/9rLV0X5iWXrrnjQ6bIYL0kPpQAR2+WnzNtLmbYQA+Le20uZtxLe1BUuKDcehqdTdu56WT3bi29zMrle2sev1KhKP2rMeeFdZFZZUK86jjTHHxFRaPq6jZXkdu56vRNkUtkEhG0WLyDgaeMtTXhDyTtAyr67GuBtuG0Z9T0gLK9j5l6U8pTXVQBPwRCSCPVDBIu7jaS/iFkJEi8KknEUSpe7JQHooHbS21Q1UXfA5VRd8jm4JUP/QRqou+Jz6B42JusxbR2AflULNjd+w7ZwVNDy+mbT/N5DkWX1/cB1/dSsNczeSfs2Q3ccco1JIuag/Ndd5afj3FjJuGo5KlG/vKCsA3vWUF4Tcf6nMq2uBOzFmZgd2cY3MjzbxmFIUAXdTqmsiEumB6wcMA2ItLiF6O03HFj1RpKSL8b45C12HApfTvvSmIPPOvD9JewAhQvoSOHbT1CVbQw0W56lk4NcYeyeu7zBkxbi79LdlXh2Tty1a3MVnAmfRXp8khIiWTOCOwPayldF+YqlR6h7poSRE940B3vOUFxyzaeqSDZ0Hy7y6sThP/Q3jxcdYjGRJA32AJbGaJAVtBBaYHYQQcciH8fMXdZIodc8PeihZ3PYu97ISQgDGbNH7wWTp286DZV7dXJyn7sHoxzQJqAAcwKLohrl/AtvLlgJLzY5DCBE9UsTRPTl0bA2QZJWeKULsWy5GsjQ61GCZV7cA9wNLgDygCtgjqRJCCDNJotQ9fekwo6ScVtkhXIju6Qcs8pQXTAw1WObVbcAjQBnw3zKvli6hQoiYIsXc+xDsofQgRiG3BnCe4B7nPDbrDFMDE6JnqQVO2DR1iSxbCSF6FJlR2rdUOvVQUk6LLL0JsX8ygPme8oIiswMRQoj9IYnSviXSuYeSQxIlIQ5ACvC6p7zgeLMDEUKI7pJEad/2SIpUgiRKQhwgJ1DmKS84zexAhBCiOyRR2rc9EyWHRYq5hThwDuC/nvKCn5gdiBBC7IskSvvmoHPb9AQlM0pCHBwb8ISnvOAXZgcihBB7I4nSviXQKVFSdll6EyIMLMCDnvKCX5sdiBBCdEUSpX0LkSjJjJIQYaKAf3jKC/5gdiBCCBGKJEr7lrjHEZlREiLc5njKC/5sdhBCCNGZJEr7lgz4Ox5QdiXF3EKE3/We8oK/mR2EEEJ0tM9ESSnVVyn1iFLq9eD7o5VSP498aDFjj0QJmyy9CREhv/WUFzzoKS+QF3FCiJjQnV9G84A3gf7B973AbyMUTyxKBnwdDyhJlISIpEuAxz3lBVazAxFCiO4kSm6t9X+AAIDW2kfnGZbeLdSMkiy9CRFZ5wH/8ZQXyM+aEMJU3UmUGpVSWQS38VBKHQ7sjGhUsSWJzjNKSqkuzhVChM8ZwIue8oI9b6gQcUUpdZlSaq1Sqlkp9YlSqrDD2DVKqUql1Dal1NWdPu4QpdQapZQz+lGL3qI7idJVQBkwTCn1AfA48KuIRhVbkug0o6QDWndxrhAivE4AXvOUF6SYHYgwh1LqbOAfwBzgEOBD4HWl1CCl1HjgFuDc4ONWpdS44MdZgYeAy7XWTaYEL3qFfSZKWutPgSJgGjAbGKO1XhnpwGKIk85Lbzqulh6FMNvRwFue8oJ0swMRprgKmKe1fkhrvVpr/StgC/BLIB9YqbV+V2v9DrAyeAyMWtovtNZvmxG02D9KqXVKKR3i8WpwXCmlblJKbVZKNSmlFiqlxkQjNtu+TlBKndHpUJ5SaifwudZ6W2TCiilOoOYHR7QOdN7VRAgRUQX2tsD8Offd9NPbc6+y1VemKbUZ2ApUoqgCFZB2J72NbtloAyaROfMFaxGTdg8k5H6Gr/ZHasDVH+uKm0dZ8h48Ce0HrKNU7o0By4h7T0YlXKXGvHDBDz5OHIwK/yK2R/D6U4CON3D0Az4B/hN8/3fA1cDFwBrgBmC+Umqk1ro+gnHtO1ECfg4UAAuC7x8FLMVImG7RWj8RodhihYNgIftugU7vCyEiZti3zWt/+88t68d+lpTzxdE1t84/8W7rqtEN1nVjU60rHaMSVtgmODdZPH1afY4cfMpHKy200Urr7rfaaMHX4eGnhYBqIUArAVqA1h88FK1Y8GGhDQs+rPiw4cdGAHvwYUOTgMaBJgFIVD/8JS/Cwsh91cA/3N7xqMr5GXrbv1G5Jc9hz0Zv/MsrAGr4Paj+lz4X+HwmauSjEGh9J/DJeNAB1OBbUe7Tov8p9B7/D2MpMyK01lUd3w+2IaoD/husC/4tcLvW+vng+EXANuAnwAORigu6lygFgFFa60ow+ioB9wGHAe8BvT1RCtB5+khLoiREJDma/E3nP1P96QVPbU9Nr/OPB4Ys6Xftoq07N7j7v/41R316XtZHhdv8U1O+dI5O/7+NA5I+bfZbsKy0jd+62Da9anHi9LbltokJmy39+7aQMASl9vhdF+5CQ+3HTxvNtNESTNM6JmtGktbaKVEzHppW6JCwKdpQtGGhDSs+rPix4AsmaP5gsmYkaR0TNXuYP6XYscf9M5r2X8uq/6Wo/pd+P1L5pPFGxrHoZXmoQ5aADqCXHwFpXpSjT3Ri7n2iVpsbTIx+Djyptd6llBoK5ABv7Q5G6yal1HsYZUGmJ0qD25OkoG1AntZ6h1KqLUJxxRI/nRIlrbVfFt6ECL/8j+q2n/vINv/xK5tSHZojOo59l3HqALVrve2r9GNys7aNXXTC/6YcuWZs6gcfjB48FkVWiq1y46j0NzZfnvxg5pWWv41VypiOaMHRutI6/uvF9ulV79sKW1fYJiRusnj6tJAwKFQCdcCsWLGSTCLJ3Tk97IlagABttAQTte9n1Yzk7PtkzUjU2pM1HUzWOs+oGcmaL5iohZ5V65ioJShjX8zwsrsBK7Ru/eHn2roNHH33/Bq0VaPXlaAmLID6peAcgUoaZYw5R0D9R5B1StjDjBPRrM09DhgCPBx8Pyf4b2Wn8yoBT6SD6c4vifeVUq8A/w2+/2PgPaVUMlAbqcBiyB6Jkiy9CRE+yTVtLT9+tHLrma/vTB5QH3CHOmdt8uHfBiwJw/CNwB+wbl+sf1c4Qz+1Iv+L/tNz16TUfVBQ+VF9Tp8py6ovGrCs+iIcqqZ6aNL8b4elfpCYkbgjf4r/4xFT/B+PuJK/775ms3a0Lmfc2vctR9R8YJvWstI+IXGzbaCrxZbkCWsCFS0WLCTgJIFu3wofzmRNB7TGRyutuoVWHVzy1Ebq1qqDSZoOJmk60GFWTdOCpg0dTNDaZ9WM5c+0UaP0zuebyT1tizGjpmzUvJ6L+9RmrfzNaGUH5UCToL+9yqI8v0IlDkY3LAfd4bW8bsWoYxIHKJpfvEuAZVrr5Z2Od/6WVSGOhV13fhlcjtHPZHrw/XKgn9a6EeNulN5uz0RJlt6EOGiT59dUnv94VWvB1y397JrcvZ37as45A9tveVu3a2TKsJRVlrf9l4yf5J/bOpQ+ace+5zns0+TK5uWTd+DOSU5s1ZlZXzWelfVV41n42+r9jqaF9bnJy5g4cH1yUoLfApCoWh2H88mQw/UnQ65t+ycE/6Y2+Bz6vYYJuxY1T2r9hEMC3sTRqjJ9mKM1s08SVqtMJnfFohQOEnB0f+eCbv2FK/gT/P6CJD3tWBeHHgHP3g+WbTDvtynaY/2+bcSHb8Nfv0Q/eH+bbt3lZ8Mozc/XOAOTn9hFq0/z4VfJ+qxBNdq5xUdLQNOiNa1a06pRrWhatfE90KaMZM2nFD4FfqXwWxQBiwW/RaGVhYDVgrZYwGoBq7X9oVSv/v6IygqSUqoPcCpG7tGufUoxB9jQ4Xgf9pxlCrt9Jkpaa62U+hajJuksYC3wfKQDiyEhZpTkZYkQByJzS+uucx7cWnXqgrq0Pk16z7WTEBotTp2cWPh9/U1gIrAKq6XB8nHgt2QGHmrLtCTbD23smzhhYTbzh63fWjchkJnosCUAWO2pVr/9lNTvOIVvNzYFbK0f1gx0fqjH9f0uNd3p26OuJ8XWqk7MWJZ0IsuSOh7ftd2u362f2Lqw6VD/p4HxfJ04SlWlD7e2uPvZsfW8Cage48SzobYa7r8VqrbAiLFw/2vg6ZBbNzdB6eXwl2fA5bQDdnJGwi33w99+n4TWUPognHZoZqinCNeUhPYFNM0BH81+Hy0BP01+Py0BP82BAM0BPy2BgJGkoY1ZtYCmFa1atbHsacym0SFRMx5+FUzUlIWAxXhoixVtCSZpFitYbUpZI3lDQWsEr93RxRgVe890OLYWI1k6DlgGoJRKBAqBayMdkNJd9E5USuUB52A08aoGngWu0Vrv9ZVfb+MsdN2JUdDd3H4s48Zhv7Sk2aQiUIju8Ad00Us7tpz39HZ9yPq2ftbuNbrd7U33Obu29b1xd9LSan+/qX/OebuXl2yBCQ0n2P+aZFe23dettjf6X53wXUPa0LR0SxeN9LX260S9rHKQc1FLvsublZ7YekBNLZsC9sCHLePqFvmmNn2kJgXW2EdbtyYPTWpJyU7BapWWBSJ6Ahqa/Uai1hzw0+I3krPmgJ9mHQi+HTCSNK3bEzVatVbtNWptQEtbAtasrZDSsPvOzwxuCDz6fTF1JASLuNcAi7TWl3Qauw74I0Yi5QX+BBwJRLw9wN4SpQDwPvBzrfU3wWPfaa2HRjKgWOMsdM3BuO13d2fXjJKhsy0Z9pyuP0oIkfNtU935D1bWnPhhvSujldQDvc4jI16ocThG/WAmIM0ztMVh8e1e4kkJnND4I8fv9yiiXp2+qeGTqdXWNFfGXut2tA7g0F9UeRLebRyZuSo9O7kp5MzD/mgK2AMftY3ducg/tfEjNdm32jHWtsU5NKklOSsDiyRQ+/TgbTD/BVi7BhwJMOFwuPI2yBv7/TmP3gWP/h9oDb+4Dn7aYQeTVZ/B1efA/5ZDouxgEgbH6HzejeQTKKWOBt4FDtNal3caU8CNGI2vM4GPMLqufxHJmGDvidLpGDNK04A3MKbBHtZaD4l0ULHEWei6FeNujsb2Y+l/GnqJNdPe37yohIhN1ha/f+Yz1VvOfb7aml/py7EcZGfWtQm5rYuHv7HHxriBrKN29Un67gdLY/0DV+443HGaa49zdYClI7zrt4639rHZE7q1b5zF/83OHMc7NSMzV6R4UutDFpgfqJaALbC0bezOhf7DGsvVJN9qxzjbFueQpOYkdzrWiC6d9Cy/OB5OPAfGTgE0/PMGWLEEXl4FGS5YsxLOORzue8VIlH55MvynHPLGgd8PZx8GV90O0441+zPpLQ7X+XxkdhBm6HJhXWv9P+B/wbvbTgOuBPoqpe4D/qe1jugUXAzxAT/85So1SkL8wJCVDTUXPrit7thPG/sk+xkQrusuzbqoAdgj+VHNBdtJ+m5Qx2Ob1N9c3/lGbhxqG/WD57coC9O+yR9UX7GradGkr9f7B2UM3NfG1gHr8PTN/uHpm7dDYMv6lgz1bkO+6zPLcNeODIs6uOQvweKzFCUszyxi+fezVq3Q0mwLfNQ2pmah/7DGj9Rk/2rHWMsW59DkuE2gHn7zh+/f8QRMTYfPPoCjT4HvvoK88XD4DGN85PjgsXHw+N+NWiZJksKpcd+n9E5dziiFPFkpFzALOFtrPSNiUcUQZ6HrTxjTfLvXQNP/MORiq9sRV7VaQnSWWO9vK368cstZL9cmDq3xh71mz4/Sj+UvbbZb0/ZYN/Fb36/u2/+8rD0+SCe2FVqe3Jltze5yFsibsX7n54fvbLOnp+/3TFGgrdLn9L/TNiztMz0up9Jpt+qI3+XUErAFytvG1C3yT2lYqqb4VjnG2bY4hzqbk9wZcZVAbdsCRf3hyfdh0nT4djWcdwS8sNyYUTpjIjz1obHMdtHR8N+PIXPPbxFxwIbqfNaaHYQZ9itRikfOQtcfgGyMVuoApF83+AJrn4S4qtUSot24xTurLpi7ralwVXNOQoA9lsXC5eP0EzevHvCXkEvcWvtwDRjeYrUE9rgV3RLo23ic7TGSLc4uGz/6tZ+FQ1bU7TwkJdHmSDywz8G/05fim98wIHmZdXTfrclJjkBU645aA1b9UduY9hqotlWOcdbNzqHJzUnZvXMG6sqzoOJrIwFq//SeuR8e+5vx9kVXwjmXwiUz4dQLITEJ7r4BAgH4za1w7Gmmhd5L5Oj8yN+KH4skUdoHZ6Hrdxib8+1sP5b2m0Fn2gY5o7JrsRCxIHV7W/OsRyorz3izNqV/o47Ky/THhzyzUSVN6HIZz+Y6YntG8oaQs0I234T6ExP+6rSpvd+3X2Or980f90Vbwoh+TqUOIs/RTb6swIJtHuf7lmHuTa7kBB2xBHJf2hOo9/xTGj5Sk/1f2sdZtiQNS2pKyu65M1C3XwWvPQP/XgwD9/IatexJePlJuP1xOCEPnl5iJErnHQGveyFLblY+CKk6nwazgzCDNP/Ytz23MNkViMtvFhFfdCBAwZu1W89/oqptynet+2wKGU47ra4m7Rzbb2/rWo27DknKSN4QcsxnW5H6VvPfGk9IvMa2t3KkTF+q7azPCmxfrd28c/nkKntSVmZSlyfvjXLaqq0n9q9uPZGVm3w6I7B4a67z3ZahWRVZyYmBA2o7cKAcFr8qTFiZUcjKDHjEONgKrc1WXd42uuY9/9TGpWqSb5VjvHVz4tCkpuQ+sZ1A3XalkSQ9tmDvSVJNNfyzxDhvxVLIHQHDjO1LyB0BKz8yapvEgdpldgBmkURp33x0SpQCu/xxW9Qmej/3xubGcx+s3F68sD4jq0Wb0gbjg6yLtlmUda+JmWo7oQ3Kuhxvtr+S/H7T0MYjk368z73X8mv7p4+Yn6MXj1hbsX2c7md3OA58RkjZVK31qJza1qNYvjlAauCTqkEJ8xuHub5OT0/2HXTbgQPlsPjV9ITPM6fzeebuBKoNWndY9cdto2rbl/C+sI+zbnYOS2pKzk7HanInzTm/CSZJC2Fo/t7PveMqOP9X4BkMq5eDr0Mj6bZW4044caAadH787kghidK++enUIE83+CRREr2Kagvoo1+s3nze09WM39TWz0r0Zo9C2Zp5esoeLbM7sft+lOYLKL/NorucDdnu+GfyqqahtaOdh2Ts6zmtyqKKvhmWW7euuendyWvXq0FJg/Zxc9w+KWWhwTole5VvSvaqbeD0r64Z4Hh957CMVSnutJawth04UA6LX01L+CJjGl9kwKPGwWAC9Ulbfu0i/9TGpWqy70v7OMsm57CkpuQ+0Umgbrkcyp6Ae16EtEyoCu5ikZQCyZ0m6T58G75dBX8Oxj9uitF/acHLxtLb2jUwfmrEQ+7FtpkdgJmkRmkfnIWunwOT6PCNkni0Ky/p5OxzzYtKiPDweJt2XvDA1tqZHzVkpbUR1SWirniTJm//aMgT3Uoi7O5DNqc7q/fe00wn+I7Qj9f1deTs0WZgb77OrKpaftgOlZDujEhC4/Cvr/PYXqsZmv5ZQt/0XX0tloNrOxAtPm3RH7fm71zkP6xxqZrU9oV9vHWzc5hzV3KfjLAmUKO6+HJcfiNccdP37zc3wekTje1LRh/y/fEXH4O/XW/cEXfVbXDaRWELLQ4t0flMMzsIs0iitA/OQtfpwInApvZjjkNSPSnn9/+FeVEJceBsTX7/SU9VbT7nhR32vO3+nFj76/z0oPsqfKlHdWtGy59yybq+mW8O3td5Vr+78VjbEzrZmrRfyaBfB/T7I9au3zFe9bXZbd1qVnkgbIFtu3LU69uHpi+zeTJ29rVaid2aoS74tEV/0jaybqHvsIalanLbl/Zx1k3O4eFPoIQZXtL5nGZ2EGaRRGkfnIWuIoy9ZSraj9lyEzPSfp37G9OCEuIAjPi0YccFD1XWz1ixq2+Sn4j90T8YLSrB93T+R36rJaFbO9D77C9W5uT8ulub6yb6xm4/zvGPdLvFtq9VvT3stDftenfSuu2WMCzH7YsK1LX2VW9tG5LyAYNc2/vYbZFrwRANPm3Rn7aNrFvkm9KwRE3xfWkfpzY6hyftSu4rCVTP8ZDO5/9F8gmUUv2A2zEmJlKB74Bfaq0XBcfbtzD5f/xwC5MvIxkXSKK0T85C1yTgMmD37TXKabFl3jrij+ZFJUT3OHe2tZ4+r2rrrFdrnLk7A9lmx7Mv77nO31DR748Du3t+QO/yZw3I11ZL9+otXa0nbSxyXjvgQJMdb+a2bSsOr7EkpEVmOW4PgWa/m3crBye95xuctTk70aF7zaZlPm3Rn7Xl1S30TW1YyuS2LxzjrZsShzsbk/ukY7PvdzIrIupWnU9JpC6ulMoAPgUWA/cAVcBQYLPWenXwnOswNsK9GGPj3BuA6Zi5Ka4wOAtd+cA1wMaOxzPvGPEHZbP06Fd6oveauGDntgse29Z8xFfN/RyaHvNHZ+7wV7faEobu1512juzxW9MSa7v9Mbmtv103Ken0wfsdXFC0luP2oH06I/BBZa7z3ZYhWetcKYmBA95oOJYFNHzaOrJuoX9q/RI1pe1L+zjLxsThSY3JfSWBMs+vdT53R+riSqk5QJHW+oguxhWwGbhHa/3n4DEnRu3wNVrrByIVG8hdb90R8g433aIbVQ+fEhe9S9q21qazHq7cdsb8nak5u3SP66y31T6ozuoYst/tCJqaJzanJS7s9vkVjr8Pzmgeun5Y4oRB+z57T1ZlUUd9Myx3Z0XTrncnrVsfjeU4INh2oCintrWIFVsgxf9J1aCEt3YNdXnTMkxsOxBuFgWTE9akTWZNGjxhHPRBoBY+ax1Zt8g/peFDNaX1C/t4y8bE4c7G5L4ZkkBFXKQ7cp8GvKGUehY4GiMpehi4VxuzOUOAHGD3HrNa6yal1HvANEASJZM1EGIHdN3sbyDZ2mt+OYmeSQcCTH+tZst5T273T17b2s9m8m39B2NJ9iU1Sqm0/f24QPNJibBwvz5mhfVqT2rrE5V9HP26Vd8USnqbM+n0paMGeb3btq04LIrLcUEN1knZq3yT+L7twBs7h2Z8mZyd1hLzS6wHwqJgUsKatEmsSbuKJ42DwQRqeWte3UL/1IalTG793D7BssEpCVSYbdr3KQdlKEaJy98w6pQmwu4ZrHswkiTYM2GrBDwRjk2W3vbFWehyAPcD6zseT7sq92ybJ3EfHdCEiIw+65rrf/JQZfUp79W7Mlv1ficXsSYAzMsvr7NbU/c/UdL1PvfAMcqi9u9OMavftesY65O+FFvyQX/9/Pj1eyPWra8Zp3Jsdlu3CtEjxeFfX9ff9lrNsPTliX3TG/v0lLYD4RbQsKItr36hb0rdEjW57QvbeMsG5whnQ3LfdGwH0VA0Pg3W+d/f0BRuSqlW4GOt9bQOx+YAp2utRymlpgEfAIO01hs6nDMX6Ke1nhmp2EASpW5xFroewFgL3d3aNfWXA0+2D0+aZF5UIt5YWgOBY5/fvvknz1Zbxm7x9bOEmOnsqT5LO27LFwP/2e9APz6hz5jK1IT6/Z4dSvTl7zjOcU+K3WIPyx/OGvuuXQsnV2y3DIzSctw+WAPbd/WzvLp9aOoyqydzZ05PbDsQbgENK9tG1C30TWlYoia3fm4zZqAaknMkgQotACTqfNr2eeYBUkpVAPO11r/ocOwC4H6tdbJSaijwLTBVa72swzmvAtu11hFtkiWJUjc4C113BN9saj+WcmH/oxwTUotMCknEkUGrGmsveLCy9vhljX1SfBzYXmQx7okh/95A0qHdvtuts0Dquev6ZHww+EA+NqPtR5uOTry+vwpjZrPGta1y5WE1toQ0Z1Q2EO6OYNuByiHJHzIoq6pvT287EG4BDZ+3Datb6J/asERPbltpn6A2OEc4G5Jy0rHHdQK1VedzwC9iukMp9RQwUGtd2OFYKfBjrfXoDsXcd2ut5wTHEzEmMK6NdDG3JErd4Cx0/QHIBurajyWd0WdK4hGZJ5oXlejNHI1+38n/rtpy9os7HCOq/QdcR9MT1Fsyml/IX2yzKOsB10y2OR7b3K9vyd47dO/FwNbLKqYknR3W+i4/fv1eXnA5zmbuctweAs1+NwsqBycv8g12xU7bgduegBcWwZr1kOCAw0fDbZfC2A574d71FPzf00bD7evOg6s77JHwmRfOuRGWzwNnGL/iK1uH1S/0Talfoqa0rbSNVxsSRzjrk/ulYXfE1v9rZHys85kSySdQSk0BPgRuAp4FDsEo5r5ea31v8JzrgD9itAfwYrQKOBJpDxAbnIWuS4GxwPb2Y4nHuPKTTsw+27yoRG+Uv6xu+wUPb2s8amVTjjNAPPwS5o0+v66oyv7lQSUpAWpa3QMm2Czqh/sy7o+xvr+sz0ucfEB3wu1NjX3XrgWTK7ZbY2Q5bg/ap9P1h5WDE98xve3A8VfBOcfAlFFGInTDw7DkS1j1JLjSYOU3cPhseOVOY/zk30H5QzBumLHn7WH/D26/FI6N6J/1733eOqR+oe+whg/V5JbPbRMs6xNHJNYn90vvZQnUizqf0yP9JEqpk4A5wEiMmuB7MGaQdHC8veHkbH7YcPKLiMcmidK+OQtdZwHHYkz9AWDLS3KnzR54uXlRid4iuaat5Yy527ae+Vpt8sD6QExslBpNj+Yt3G639z3ozzuxz6iqlITGA77jS2tr4Aj9+LYcx4D9blHQHV9lVVZ+flitLSE1dpbjQknxf7J9UMJbDUNd3nSz2w407IL0mfDiHDhlOvznHfjrs7D0QWP8sEvgmnNh1gz4y9Pw+XcwLwZaAX/RNrh+Ydth9R8ypW2lfYLq4QnUPTqfX5kdhJmkPUD3VMMPm/b5vmvaoQM6oCzqgF/Bivg26e2aygser2o53NvSz6F77m39B+Nb5/jqcCRJAE3NYxpTEsoPOFFSym9Zqi9PP8b35M5UW2p6OGLqKL+6b98Rr7n1ory1FbXjLLG3HBfUYJ3kXuWb5F61DRL9X9UMtL+xc2jmF6a0HajfBYEAZAbnuMYNA+8GWL8VNMbbY4fCui1wzwvw8cPRjjC0sfZ1qWPt61Kv4FnjgB+ogy/bBjcsbJta9yGT21baJqgKZ14wgerelj0mWWt2AGaTGaVucBa6DsOY7vtBi4CMm4Zdbkm1xd0MgDhwmVtad5390NZtp71bl96nScd9H65nB/6zojXtuLAkiW2OBzf363vrAdcptUvwjag5znFfksNij9gfrxpH464Fk9dX2wYmH3ABe7TZ/evrPbbXdwxN/ywhJ72xbzTaDpxVAl9vNBIga/B+vftfhL8F848rz4ZLT4OZV8GFMyEpEW54xEiubr0ETjsy0hGGx6rW3IaF/qn1H+gpLSvtxhJeXXL/WEmgTtL5vGZ2EGaSRKkbnIWuMcCVdNrGJO3K3LNsAxJHmROV6DH8AV1UtmPLeU9XBw6paO1v5cDraHqTVmX3/zu/vNVmSQxLIXGAbS3ZAyY7lDr4P+BpbUdvnpF4Qz+LskQ0GVidVVn5RQ9YjuvMaDvw+vYhqeXWAZm1EWk7cNXd8MzbsPhfMHQvLQWffNN4PF4CeefCkvuNROmIy8D7NPTpwS9HVrcOaljgm1r/IVNaV9onUJGY56xP7p+uo5tADdP5fBfF54s5svTWPbWhDgZ2tG1nQExuwi5iQM63TXXnPVi546QP67MyWjnomY7eZlnGGVtslsQB4bqehT4Ju9qc25MdTQc9y1tnX9B/WdPwisOSzo/okuio6r59815z60Uj11bUjo3d5bjO/BZ30kYuGLSx/gLUzrrWPszfPDT1AzXIVdUnHG0HrvwnPPMOLPjn3pOk6p1Q8rBx3tIvYcQAGDXYGBsxAD760qht6qlGOdanjHKsT7mM54wDwSW8r1oHNS70Tan7gCmtK2wT1XpnXkJdcv+MCCRQLcC6MF+zx5FEqXu2Y8wCKIylcQD821qrTItIxCRri99//LPVW859rto6qtKXY4Ee3zU7Ur52/cQS7mmIXc35jcmOz8KyHL7J8VDuV03DKvKdBRFNlqxY1Yw1w3Nr1jY2LpiyfpttQM9ZjgPQljRHJT8eWNn4Y5bUN/vdLNicm7TINyRrszvRofe779dv/m4kSQvvhvx9fOWvuht+9WMY3A+Wfw1tvu/HWtvAH9jfZ+8Z8h3rk/Md65Mv5XnjQDCBWtM6sHGBb0r9h0xpWWGbqCoS8xLrkvunaUfigb6i/1rn00u/it0niVI3NL2/o8VZ6KoGEoDm9uO+Tc3bu/4oEU+GrGyoufChbXXHftKYnewnbLMkvdU2m6fekjAi7E3sfM3HWkn7LGzXW2X748D0lnlb+iUMimjDPYDM1uTkMz4YldxTl+MAsCRat3NC/+3NJ/DJRp9O1x9uzU18t2Woa60rxbnvtgOX/wWeeBNevM0o4N5abRxPcUJKp5Tr7WWwah08+gfj/SmjjP5LLy82mkeu2QBTR4f584txIx0bkkc6NiRfygvGgQBQD2vaBjQubJtS9yFTW1fYJrAucWRiXXL/9G4kUGsiHXNPIDVK3eQsdP0aGIFxBxwAKsliz7hl+PUx2RtFRFxivb/tlCcqt5xdVps4tMbfx+x4epKX+t1YUec6J+wzNX61cVcfz7SkcP5IqkB68zGWJ5rTbOkZ4bvq3vnwBxaNXLt+51hLv56yHLcvKf5Ptg9MeKthWKY3PSMldNsB1cUy2Y0/hZt+/v37TS0w8WJ45mY4JO/744+9Dtc/YPRYuu1SuOiEMH4CvZC3zdO40De17kM9pXW5baJaZx+WUucaatUWW/tdn3/W+fzJ1CBjgCRK3eQsdJ0CnAZs6Hg8o3T4byxJ1gwzYhLmGPvBzqoLHt3WVLiquW9inDSFDCdjA9ylO+3W9LDfgg+QlDNiR5K9xRXOazr8Q2qPsz+YmGBxRLUoscbR2LhgyvodPW05bl8S/WtqB9pfrx2a8UVydnr02w6Ivdus+lUttR++yWvJu/X3k25/3ux4zCaJUjc5C12TgV/SKVFKu3bwebachOHmRCWiJXV7W/OZj1ZWnvHmzhRPQ6DnLYnEkJUpR1euyP1X5LZlyTixwp36Rdhnq1Lbpm85JrG0r0VZon7X4mr31q1fHFbnSEhJDGsCGAvMaDsgum0CR+iVZgdhNqlR6r6QhduBmrYqJFHqlXQgwOFv7dx6/hNVbVO/belnj9OmkOG20n1xaySv39Y8w0Jq+Hc1qLcv7vdR07yKgqSfRf37YNT2nJwRr2YHFuWvragbY+1ntVl7zSatbdZBqev07NR1tWDdsX1Xjnp9+9C0yLUdEN3WBnxldhCxQGaUuslZ6EoG7qZT08mkU7MPTTzSdYo5UYlIcG9sbjznocqq4oX1me5mHZHloXjVaElteS7/Q4tF2ez7PvvA+NV3jX0HHJUcqevnt91aMdpZaFrSvCOhsXHh5N63HNeZCtS39lFvbRuS/IHOzarqG462A2K/fMERepzZQcQCSZT2g7PQ9U+gAdj9itgxOW1gyrn9fmZeVCIcVFtAH/3ijs3nPbOd8Rvb+klTyMiYn33p+q19fhP2jWc7S84ZVuu0t2VE4tpaW/ThgUe3eBKGmNoba5V769Yve+ly3B4Czf4sFm4dnLTIPyRr0wG1HRD77SmO0OeZHUQskKW3/bMeGECHRMn37S7ppdSDebxNO89/cGvNCUsb3Glt7KW1nQiHDRlnOiM2ldTBruahdU77moxIXFupgCpXl2cd3fZUTYY9w7S+z6O35+TkvZodWJi/tqK+ly3H7cGSaK1mpqe6eabRdiCwZGuu851utx0QByTua5PaSaK0fyqAkXTo1B2o8TXrlkCjSrBEbKpfhNf/b+++46Sqzv+Bf869d9r23hsg3Q6IimADV8Tey6oxiWmab4oxicYkRqNJjDH+TNREDWqwERULIiwgVTrS21K378723ekz997z++MusLAzwLIzc6c879drXuzOvTv3AWZnnjnnOc+RXIpyzfutjXfO6TSMbJXzGEDTa2FQbR7TYTAWhmWFk9d9GUNy6FrAcMFhWqn82D1NecNlFk1B2YLldEgQhal7zihtP2S3L59QZ5UKY3s6DgDAJNYtTs7b5p2Mbc1AorKprcS00DE0vSolPUDbAXJatusdQKSgqbcBsEzOuBDA93BcnRKtfIsOZ2y2t9/3utV+xRZnboIC2nsmzP5X9EKNJ3V6WGp7FLarJ7fo6pB3RU/yTbReaf5zlsiC3mT8tOzMbmredYHNZEoyx2XCYFaquooOtx1I8WRTi7tBKcYkXn/y02IfJUoDYJmccQaAX+O4zXET78mfbDo/5Qp9oiInYu7xeW96q7X59i86LaXdKvVr0YkPkvrO6PVuSbCErbYkOX9Ij0lSQp4s5Xrvrp2U8P2Q112dKh8Udfnog7W2MVJBTE/HnYRBqbcViF92DEvdZMpLo7YDA9SKSZya6PaiqbeBaQX6/7LJ+5y1pvNpS69Icu7y7pZ732xxX7zHnWfiiJg3sXi1Me36RkmwhHVrF4e7rMuUdCDkv5hW43slO1zDa860XBER7SMMEIWpu4eXtR2025dPqGsxFCbG5ZY6PrEouQbfS67pBsSONleeML91aMp6sTC9K1cS6b3vJNboHUAkoSfLwPRAK+SWABzZftG7zdaQcFuuwgQWEcPv8Sqlxeu6/Q1ry82LupPznPRpKJJUZVSE/ZfD654MJB0Iy7WqpKdKUj0lDcWmMyJmQUCWJynplq9HJ+3IbmraPdFmNiXG53QcAChilqUB95Y02O4F67Z5c9ii+iGJq3hJRkuO0UDd9f1YpXcAkYSm3gbIMjnjcQDZALr73p/6+NDviJmGuPzkpieuqrjky86me95pU8Yf8uZLoAZ1kaZNynN8OeKrBMaEsE59KMKm7tzCG8NWqM/UBO9l7F1buiEj4jq3+6Coy0YfrLOPkWJ7ddxAqR4lE8usZQnL5LKMhiyLidoO9JqMSfxrvYOIFJQoDVCgPd+Svl04zTg26WJdgopD2TVu+z2vWduuW2HLSPdymveMYHPzHq/uyry3TI9rpxSU2Y2imhSu60lyQc80w5uSRTRH5Btum9luWz6hrttQEJ/TcSfCucLT1NUtpZav3EMzDqUnWdR4fV3xAkjFJO7WO5BIQYnSAFkmZ4wB8Asct/LNfHnGyIRrs+/UJ6r4IHhVderHbY13z24XzmyS8wU/9WIk8swcubrTIKXrMu0jZFxSl5FYG9Yl8wm+8S3TzM9likyM2NHNHdmNTbsn2nWfjvv888/x4YcfYurUqbj//vsBAPPmzcOXX34JzjmuvfZaXHPNNUfOr66uxssvv4xnnnkGRmNoB8YSlc1tJcZK+9CMqtQ4azuwFpP4RXoHEUmoRmng6uDnDdq7zVZrmZEFRutRg65kl6Pr3tesXeUbHDlJMuiTcBTZmTjJapDSQ7cB7kl43ZdwJL4X1ms6DRtzVrtfqZts+XHE9jQ6s7Ugf+QXirp0zMFqxxipUBTFcPQBPcb+/fuxdOlSFBcf/Weqra3FnDlz8POf/xwA8Le//Q1nnXUWiouLoaoqZs6cifvvvz/kSRIAOMTzsnYr52XtbgVMzXs7iw3zu7W2A+5YbzuwWu8AIg0lSgPkWtlhs0zOaAaQCMBx+H613efidqWNJUtZ+kUXO4wORb723damOz7tMA5vV3IBpOkdExm4LVnf9uh5fe65IRkIb6IEAK2Gj4q3uUZUn20pLwv7xU+RAaJw1a7hZW0H7bblE+qs4ZyOczqdePXVV/Hd734Xn3766ZH7m5qaUFxcjLFjxwIAiouL0djYiOLiYixYsACFhYU488wzwxXmER5xRPp+dUT6/g7A0NpgL5TmtQ9J2WzKT7PnCELMbXdEhdzHibX/4HDZBj/dnBWrt9bPuWQARm3oaXvm+/trlk7dpTzxn9bi3iSJRCEXS/D5Eifk6RmDQbko3acwpx7X3ic9W1bj3hPxDfuy3EnJt6wcXVS2VGryONyd4bjmzJkzMWHChCMJ0WFFRUVobm5GW1sb2tra0NzcjKKiIrS2tmLRokW4++67wxHeCfnEwqRq/r3Spd2v5s0++KJn6aHyuurW9AZZOboSOsqFrIibMfYkY4wfd2vuc/wtP8fXhiqeU0UjSqenCsC04++Ua121hjMSztchnqiW2Onz3PxmS/OtX3YlFtvULAA0KhcD1mTe1SQyg+49rOye/I70hMawF1czBmwSfpKb5Hu3LdOQFfHP6bNbCvJHz1OUpaMP1jjGSAWhmo5bunQprFYrfvCDH/Q7VlhYiNtuuw1/+ctfAAC33347CgsL8dxzz+G2225DVVUV5syZA1VVceutt2L8+PGhCPGUKWKmpQEVxQ32CrAehy8blfVDk6K67cBOTOItIb5GFYDL+nyvHHd8MYB7+3zvhc4oUTo9fkeOfLsctZYrIm5lcMQat7jTeu9/Wz0X7vXkGzkiolkfCZ7q9NtNYS988cPjulhBwke6XJsLbsPXykPmq5S3HBbREvH7QRq4KF61a3hp20G7bfkFdVZDfnCn45qamvDhhx/iiSeegCT5f/u58sorceWVVx75ftUqbSZo7Nix+OUvf4nf/e534Jzj6aefxvDhw5GaGhlbNXIh0dCCm4tanDdjrd2jZGBZ45CE5XJZRn00tR1YGoZryJzz5hMc95zkeNhRonR62gHYAZgAHKnBkA+5OlW3YhPMIu1mHUB6k9d5x+vNLTcu6UnNcXGaVotRdabhnQZjSUT8/3LP9UmAPokSAChic9Jy369bp7IXTJIgRsVrbpY7KfmWFaOTt+U2NlZNsCeYEs1pwXjcffv2wWaz4bHHHjtyn6qqqKqqwpIlS/DGG2/AYDiaXttsNnz00Ud4/PHHceDAAeTm5qKwUOvpmZubiwMHDuD88yNwEF8wiR0oL+hwl2Njg8LT1DXWEvNXrqGZBzOSI7vtQDgSpaGMsQZoI0XrADzOOT/Y5/gljLEWaJvPLwfwG85DPsp1QlHxSxtpXCs7uGVyxk4A5wA45j9QbfXVCcXiGH0ii1CKyi/9vKPpnvfb1fNqvAUiUKZ3SCS01mU92AMgIpZUS/IlGbLK3JLAddsI2SltyV7lfqluiuWnxdG0MvZsa0HB6HmKsmT0gWrnGMOgV8eNGzcOQ4YMOea+119/HXl5ebjuuuv6jTK99957uOqqq5CdnY2amhooytFZGlmWoarqYMIJC8ZE1i1ekrvddwm2N/e2HTBV2oemV6WkJ8kZesfXB4eWmITSOgDfArAHQA6AJwCsZoyN5Zy3A1gAYA6AQ9DeJ/4IYAljbBznXLeFIZQonb7tAC48/k653l0rFZspUQKQd8DVc89r1o4Zq22ZaV4U6B0PCQ8ZArelXJkVKS8ujEnM7s5pT0uw6rq9SLvx0+KtruHV5yZcW6ZnHANl4KJYvmtEWcshW8/KCfWDmo5LTExEYuKxM5AmkwmJiYnHtAkAgB07dqChoQEPPvggAGDo0KFoamrCpk2bwDlHc3Mzhg0bdrqh6MYhnpe1W9baDpib93UVGb7sGpq2IyE7xZ2jcw69DZN4eygvwDmf3/f73kLtgwDuB/AC5/yDPoe3M8a+AVADYAa0BEoXkfJaFo1qoWXgx/DtslebL0oLfzQRQvQoSvns9qa7PmoXR1vlPAGI5GFmEgKbUmc0SUJCRCXGHvcFMhLm6h0GDhr/WpbqLqsbYj4zYnssBZLjSk65ZcXolK25jY37LrAnGBOCMx3nj9frxdtvv42HHnoIgqAtzs7IyMADDzyAt956C5xzPPDAA0jXp49p0LjF4Wn71Z+kHW47UCB92T40ZZMxP82eq0PbgXBMux2Dc25njO0EMDzA8UbGWH2g4+FCnblPk2VyhgjgFQCtwLHLQtOePuOnQoIYGRWGYTJkm73zvtdbeqZ+48hOVBAthYskBN4e+r8GwXJWxGwOCwA+aUFrfv73svWOAwDATfIUPqszy5gbGfGcBh9TlCVjDtQ5Rw9+Oo70JyrtrjxhQeuQlHViUXpnriSGZVDjBkzin4fhOkcwxszQptle5Zw/5ed4FoBGAN/lnP83nLEdEwclSqfPMjnjEQClADr63p/8YNHVhlGJE/WJKnxMdsV3/X+tTXd83mUe2qnk6B0P0V+nmOX8fORys8CEiOrRxrmPpxcN80kCImJDWFHJckyVZvFEMSFs+9CFQovF1rPygnqbIS8xohLjWMJUhy8bi6xDkr7mpRnWULUd8ADIwiRuD8FjH8EYex7AXGgzMjkAfgtgCoCzoC2SehLAxwCaoNUo/QlAMYDRnHNbKGM7EUqUBsEyOWMqgLtw3Aa5potShyTemnefPlGF3pmrulvvndnimrzLnWtWo7JXCAmRebmP1nRkfTsiWz0Yss5vTLW0RcyUoFk+s22a8f+lGgQp6kdktOk4R6IxwRRXI+lhp3qUDL68pSxxmW9IcNsOzMckfs3JTxscxtgH0BKjLGizMWsB/JZzvosxZgHwKYDzoO3E0ARtOvC3nPM6vw8YJpQoDYJlcsYZAB7DcYkSJCakP33Go8wo6LbKJtiS23zuW2darTdXdicV2lVqFkX8mjny6w6DlBlJK3mOUJIerM5NryzTO46+Mrwz6i+1PFoUTSvhAvEwWVk29mC9c5ShUBSjow1CNONc4anqmpZSy1fuoRkH0wfZduCHmMT/FbTgYgw9mQenFlpXUQl965RkriqNnr1SmeVsvQILBq6quHBhd3PFrFbfBQc8+QZqCklOYE/CBS0GKTNip2BV97UWoFLvMI7RYZxXtMk1vHpcwk1lescyWCYuieU7RpS2HLD1rLig3mak6biQYkxkPeIludu9WtuBBGVLW4mp0jEsvSo5Pck3kA8rHNp0GAmARpQGyTI54wcAzsZx/ZTM0zJHJ1yddbs+UQ1OZoPbcddr1tbrl9nSs9ychtLJKXmv5N+1SvIU3bcsCUTlbjWzaIQiCoi4qa5z5Jdqh5nPidh/u9OxJa+hcf8EJ03H6cCs7OsqNMzvGpa2PTE7xZ19kgHLbzCJ67sXTISjEaXBWw+gX+G2Z3XXfsu0TJmJLCr+jZlP5Zd/2tF4zwdtOLvel09NIclAuJlZ9iZemCvqHcgJCMwsOLxpLSnmLl036vVnq/hIYbJ3VkuOMT9iR+QG6tzmwoLRX8jK0rEHq12jDEU0HRc+bnF42gF1eNqBDsDQ1mAvEL5sH5q6yZSfZs/x03YgrCvdohE9cQdvLwAVgND7JwCAOxSf0uI9JOWbdO3/cDKFe13dFa81d05fa89K8YGGyslpWZt+R5MoGCO+N5DLfZ47xRz2djEnx3ziavWhpKnyrJ4kKTFmeo+ZuCRevWNEmfWAtjqOpuPCzycUJtXgwaSabkDsaHdl8y97xmRvtOWndhQyBgsoUTopmnoLAsvkjF8CKMJxbQISbsg+3zwl4zp9ogpMcinKNe+3Nt45p9MwslXOi/4yUqK3N8+Y3yyZyiJupOZ4smG2NS/v0YjYg84fszyqY5rxn0kGwRARbQyCbXN+feOBCa5Eo4Wm4/QmMbdjWPLypROunxVx71GRJqJ6nUSx1QD69UNxr+2u4hGUiZ6x2d7+1I8O1Cy7cpfvyX+3Fo+iJIkEQaNxSLdoLI34JAkABO81mSqHcvIz9eGW9mSs9DzXGkmvG8F0XlNRwXVzhyQad7mrVUWVT/4TJFRkbk6s6infq3cc0YCm3oJjN4B+OYdq9TrUDl+9mKnflIS5x+e96a3W5tu/6LSUdqvZAGhpPwmqtVnf7WSMRcUIgcCSJYc32ZpsskXsqFKXYWHhRtcZNRMS7ojJVaYmLklXbx9RZj3Q07PyggabMZem43T0kd4BRAMaUQoC18qOdmi9lJKPPyYfdFWFPyLg3OXdLX/71r7apVftwaPvtpf0JkmEBJUCxrtSroqq5NvlOtuldwwnU2d8pXSve2Ot3nGEUq4zJeXWZaMLi1cIDV6Xp1vveOJQPbSGj+QkKFEKnlXQuokew7OxZ0+4Akhp8bq++2xdzZeX7+iY+cvanMt3u0tMPDK2bCCxaUtKeZNBTOr3ASGSKe5roqKb/Hbxl0XN3vpmveMItfOaigp7p+NqaDourOZUVFTE5BRvsFGiFDw74Wf6Td7vbFdtcluoLspVFZO+aG965c6q+sXXVxl/9FlXaZ6TR2RnZBJ7dmber578rMgi+q7LUjkiPm7GFGEtHkq1ybaYH23pnY4rvfDLDIe3xdGgdzxxgqbdThElSsHTAKATgOX4A3K1a3ewL5Zd47b/9Dc11V9dtqvnH0835l94yFskcURyGxsSY7rFdBe3nJWvdxwDJSDN4PQmhuzDSzCpQpdlhfwz1av6PHrHEg55zpTUW5eOLixaKTR4XZ4eveOJYU3QZkHIKaBEKUhcKzs4tNVv/UZz3Ku7tgXjGoJXVa96v6X+rRt3N86/fV/ifYt7yjI8PGZ6rpDosjrz/haBiVGZnLvcYyO+Tukwj7QvfYXnmXaVq3EzTXJ+Y1HhdXOHJBh2uWh1XGjMqqioiPhR1UhBq96CaxuAfjswy3udbUqHr17MMBSdzoOW7HJ03fuateuqDY7sZBmn9RiEBFtT2k1JEbcXyCmS3eUGpK7XO4xT1mNYWrDBdUbNxISKmFwJ54+JS9L07SPLmg70dK+a2OAw5iQW6B1TDJmpdwDRhEaUgusQAA/Qfy8p3077loE8kNGhyDe/1lw3+5pd1k8fOJh2yxpHWbKMxCDFScig7LOc32Yw5ETVare+RO8NmZwjqkZoGoyvl+5xranRO45wy9em4woKVzKajguOVRUVFbqsxo5WlCgFkWtlhwxgA4CsfseWduzgCj/pEPKoDT1tz3x/f83SqbuUJ/7TWjy8XYnYfi8kfn2T/R2H3jEMhoAck9Nnadc7joHaJf2muMlT26R3HHoY11hceN0XQxKk3a5qVVUjtmloFKDRpAGiRCn41gP9l+Tzbtmj1Lv9tgpI6PR57n2hoeazqTvb3nu4Jmv6FlepRUVULGEm8cfDDIo7cVLUJ/BO96joS/aYIqxlD6f3yN1deoeiB5MqSddsG1k2cV66zdviaNQ7nihkB/A/vYOINpQoBV8VtCej+fgDnm96Nvf9ftziTuuL9+2tXTJ9j/Cz2R2lxTa130gUIZFmfdptTaJg6vf8jjaye2pUFqJzodu8QvkJPKrXrXcsesl3pqbdunR0QeHXNB03QB9WVFTY9Q4i2lCiFGS9029fwc/0m2dN16G0gy7rD56qrV5w2Y7O139TnzulylNi5P1rmgiJVPsz74rKBON4gvfmzGjdUc0rHkpb4flDp8rVuF65NK6hdzpuj6uGpuNOyX/0DiAaUaIUGusBPz2NVPBfPHxgz/fmdZfluHh6+MMiZHCshuIe0TgsKjbAPRmRF1pcsqlD7zhOl83wdf4611t1obzGn6reROoXlx5zG77opiPHXzrwAc5YeCOGLbwB/zgw+5if3dq9F+OWVsClhLYFlEmVpGu2jiydOC/d5mml6bgTqKqoqKDeSaeB2gOERhOAagDpALr6Hni1UNh0dbsyRfDTxZuQSLcm6zudjLGY6d3ldA+3JRh2RG0n+ybj26W7XMNrxlgmh6xtwPDEEsy76MUj34tM+wy4o+cAnq2aidkX/BkcHHes/zWuyB6PsSnDoHAF/7fteTx/5k9hEcNTbpnvTE27bUlq2sbCuvrqce4Uo8UUM8/TIHlT7wCiFY0ohUBv88nFAI7sqG70qsk5Vu8EX6Nn6k5RpTl1EnVUAB2p02NqJNTnujLqXwN3S78rafAcCtlIiiSIyDVnHrllmdIAAHvtNRibMgyXZp2Py7LGYWzKMOy1a/v4vnLwI4xJHoLLs8eHKqyAxjcUF137RalF2kOr4/qQAbytdxDRKupfJCLYVqZyNbVbHlFW7b5qZJVrenG9x5zWJa/aqShf6h0cIQO1LXlqk0FMialP6YL3pqgdTTqMMZWtZw9ldvm6OkPx+NWORoxadAvO+uoOPLDpDzjUO7s1Nnko9jvqUOeyotbZjP2OOoxJHoIaZxNeq56DZ8b8KBThnBKzajRcs3Vk2QU0HXfYgoqKipjfYDlUGI/WasYoMLoo4en0Lvkag48fMHr5XkHL6iEC7GWYfpqA2JnCILFvVtmsOiSOL9Y7jmBLzBvWZTH40vSOY7AMSkn3NOkNo1k09dtv8nQtalkLm+zEiKRStHo68fy+WdjrqMW6S99ChjEV/6n5DK8c/BAA8KOht+E7pTfg5nWP4q6iq2ARzXi2aiZUcDwx8ju4Nm9ysMIasA2FdfU1492pRrMpWbcg9HVTRUXFp3oHEa0oUQqhciaNAPAYgH7ddH8Ew6UXQrws7EERchpsQop7zqjVksDEmKtrZGlX1WQm74mJrUGSfBOtV5r/nCUyISQrE+2yE+csuQs/O+NuPDz0jn7HZ9cvxOyGRfj3uY9j3NIKLJr0MlRwlK96GN9c/g6yTfrN3LoFr++rsw81+oabigQhNP8+EaoGwLCKigqahjxNNPUWWvsBtAFIOv7AHMgbZJy8UzchkWB15r3WWEySAMDnvixmXgfthnW5a11vNITq8ZOkBIxOLsMBR32/Yx3ebvyx6j/4+1k/x4bOXRiaWIiRyWUYnTwEQxMLsbFrV6jCOiVm1WiYsWVk6QVfpvd4Wh3x1N38H5QkDU7MvEBEokouqwAWAOhXB9EM7twLdWv4oyJk4BrSb0nQO4ZQYZ6b0vSOIZisxndLdriWhGRPOLfiwV57LfJM/bf5e3zXy/j+kJtRmpAPFSpkfvS92afKUHhktHwqcKSm37ZkdH7+KtR73V6b3vGEmB3AG3oHEe0oUQq9DdAWDPUb6v0MyhoOmvvU0xoouA9unAsn8uDAB/Adc/wv8OISODEEDoyEA7fChQ049sPZ7+HBKDhwPpz4GMcOEi6EjOvhQpTtv3qMg+YzOwyG/Gy94wgVkY9O9shiTK1ErZKeKqnz7B/0yNJvdr2Cr9u3oNrZhI2du3DfN7+HU3HjrqKrjzlvaetG7LFV44dDbgUAnJ86CvvstZhvXYV5zV9jn6MO49JGDzacoJpQX1I0Y26JWaxy1qhqzDbunFlRUdGtdxDRLiaH0iNJJZd7ypm0HsA4aP2VjtgNtb0OfG8J2Eh9oiMOcIyCgNsg4f/QvzHeMAj4E0woAYMLwGvw4S64sQYJyAbDQsiYAwUfwIxD4PgZPLgMIjLBYAfH7+DF2zCDRXHbrA3ZD9rgZ1Q0ltjdZV2mpAMxs7iCMc42sh9nJ/nebU83ZPQf/jlFje5WfGfTU2j3diPLmIbx6WOweNKrKEk42nPUpXjwix0vYub5vzvSY6nAko2/n/UIfrbtBXBwvHjWI8g3R94OTRbVaJixZVRp/f6uzjUTm9ymrMR8vWMKIhXAS3oHEQuomDsMypk0DMAT8FPUPQViyXdheCD8UZHjDYUDz8KIO0+wo4wNHMPhxPsw4XJI+Ce82A4V/+7d2u9MODALZpwHEY/Dg3QwPNp/j+So4YOkvjN6g0cSzEFbSRWJZMuTtXlZM0v0jiPYDEphzzRppmQWzTE7dRpM64tq62vHedOMZmO/utIo9FlFRcWNegcRC2jqLTwO9t76fSpfAaW2DTxkxZckeLzgmAUZyQDO7J1JHQsBW6GiCxxbocANYAgEfAMFq6DgJ1G+jd+GtJsaYz1JAgB4bkw9+UnRxyc2pCzz/saucIWKeU/BBdp0nEnY66qOgem4v+odQKygRCkMKrnMAXwOwG8PjxWQV4c3IjIQCyFjKBwohROvwYfZMCO7dyrtcki4BRKuhgs/gQcvwYREAI/Ci+dgwgeQMRlOXOWntika7M28Jy5eIyT13FSvIsTkrupOw8ac1e5X6cPYKbKoRsO1m0eWjZ+f1u1pi9rVcatoX7fgiYsXwQixA0A7/LQKmAtltx28K+wRkVMyCSK+ggVfwIzLIeJ78MCKox82H4URa5GAZUjANZDwT/gwHgJSwPAcvPgIZjwOAx6EB94oKupulQrsgml4LNVsnJDdXRySztaRoNXwYck2V2W13nFEkyJ7WvptX43Oz12NOp/HG21J9F/0DiCWUKIUJpVcVqCNKvUrrFQAvgHK2vBHRU5FIhiGQMA4iPg7TDAAeBf+W2AdgIr3IeMJGLEKCi6EiFwIuAwSvOA4EEWJ0prsb7czJkRvFfoAed2XRPtUywntk54tq3Hv6d8AiZzQxLqS4ulzS4zC3qhZHbcLwBehenDG2JOMMX7crbnPcdZ7TiNjzMUYW8YYGxuqeMKBEqXwWg/ABaDfdtofQd7kBXeHPyQyUCoAr5/7OTgehQe/hxEpYFCBI+kUB4cMQImiRKktdUaa3jGElefGmFn15g9jwCbhJ7kdvrY2vWOJNgmK0Xjt5lGl4+andXvaHZG+Z9pfKyoqQv1CUwUgv8/trD7HfgngEQA/BjABQAuARYyxqN0+hhKlMKrkshvAfAA5xx+zAb5NUGlUKcwc4NgBBTt6U5iG3u/rocIGjj/Di02932+Fgp/CgyZwXO+ns8Z7kJEKhhm9xy6AgK+hYB0UvAUZErR2A9Fge9IUq0FMi8kC50AkZWK6T2FOveMIJS64DSvVh8wuxeXQO5ZoVGxPS79t8ei83DWoj9DpuHoA74bhOjLnvLnPrRXQRpMA/BTAnznnH3POdwC4H1p97t1hiCskouNVO7asBMDhpwHlu/Ct8YC7wh9S/NoCFVPhxlS44QLwV/gwFW48Bx9EAFVQ8QA8uBgu3AcPOsHxKcwYc9yvTis4/g4fnu3TCuBciPg/GPAA3HgVPvwTJliipJ/S1swH/A2axTy7p6BD7xhCTRGbk5b7fu2UVYW2UDpNE2tLiqbPLTGyyJuOe7qiosJ38tMGbShjrIExdogx9gFjbGjv/UMA5AFYePhEzrkLwAoAF4chrpCgPko6KGfSfQAuAdB4/LHvwTDpEohTwx8VIRqHkOT9cNRqJjJDdPc2OA1yws9r8jI/iokNck8m03tj3RTLT4u1QQByuuqSOjvWXmj1mjL7dOHUxz4AYyoqKkKaADPGpkMbIdoDbXbkCQCjAIwFMBLAKgClnPPaPj8zE0Ah57w8lLGFCo0o6WMxAAPQf3jhPfjWu8AjcUiXxIk1GXc3x2OSBADcc0MsNBo8Je3GT4u3uuZV6x1HtCu2p2fctnhUXs4arvfquN+HOkkCAM75fM75/zjn2zjniwFcCy2XuL/vacf9GPNzX9SgREkHlVxuBLAFfmqV7IBvLZSvwx4UIb1q028z6x2DXiR5cqassrhZVHHQ+NeyQ+4ddXrHEQsurC0tnj632Mj26TIdtw3AB2G+JgCAc24HsBPAcACHC92PH13LAWANZ1zBRImSfj4DYIGfUaX3IW90gMfUJp0kOtSaR3YajEX9Evh4wZgAuzunXe84wmmz+PP8Nq+1Ve84YkGCYjJet2lU6fkLUrs87c5wro57Igwr3fxijJmhTb01ATgELVmadtzxyQCitrEyJUo6qeRyNYANAHKPP+YGlFVQVoQ9KBL31mU9GPc7jbvdE8NRDBs5mEdaxX+U4FCcNOUfJCW2Y6bjQr3CcHVFRcXcEF/jCMbY84yxSxljQxhjEwF8BCARwNtcK3p+EcCvGWM3M8bOBPAWADuA98IVY7BRoqSvz6D1VOr3//AB5M028JjtFEwijwxRtSdfEbejSYdxz3VxU6d0mCK2JS73Per2qXJ8JYkh1jsdZ2D7Qzod93iIHjeQIgDvQ+ulNAeAB8CFnPPDm74/B+AFAC8D2Aitz9JVnHNbmOMMGlr1prNyJn0PwDhow5bHuB3S2ddCuin8UZF4tDbtxoZ9hX8q1DsOvXHu4+lFw7yS0L8xbKzL8M6ov9TyaBGthAu+2uTO9nUXWmVTRkK/WYRBWFRRUXFVEB+P+EEjSvr7HIARfvoqfQR5ezc4ddElYVGVca/eIUQExgzM4cmKqzqlwzqM84o2uT6t1juOWFRiS8+8bdGo3Ky1ajCn48I9mhSXKFHSWSWXmwEsQ/9VAlABvhDyV2EPisSdDinbycyj4mYD3JNxu8fHZcNNAKgxvlh2wL219uRnktNxcU1Z8dVzi6UgTMfNqaio2Bi0wEhAlChFhi+h/V/0G1WaC2VPE9RD4Q+JxJPVmd9uYUyg14NeqvvaBL1j0NNW8ZHCFm9Ti95xxKpExWS67ptRpedVpnR5Opyns2xehdbokYQBvTBGgEout0JrQum3s+u7kOer4JHUJp/EmJa06+NqX7eTEX1XZSkq4rewmfnE1fyhJLvsoDYlIVTak5Fx26JRuVnrBjwdN7OiomJ3yAIjx6BEKXJUQuup1G+31W1QW3dCpSFWEhK7Ey9qMUgZ6XrHEUkEZhYc3vS4rg9UxfaEFfLPZZ/qi9tpyHC5uFqbjsN+Zw0/+QqrLlBtUlhRohQhKrncAWABgAJ/x2fCt9QDHtM7mxN9bM76dtx0oh4It/u8uE8Q3NKejJWe51pP4c2bDFKiYjJd/82o0nMWJHd4Ok84Hff7iooKahAaRpQoRZZKAG5oHbuP0Q64l0NZEv6QSCxzMYvPmzhR7808I5Livibu2gP402VYWLjR9SEVd4dJWU9G5i2VI3Iz16m1Pq/v+A/HOwC8okdc8YwSpQhSyWUbgNnw060bAN6DvKkDPJxt8UmMW5txZ5PIDEa944hEond6lsqh6B1HJKgzvly6z72RkqUwEZiASdVlJeVzi0R1v72eq+rhEb3/C8fGt+RY1HAywpQzSQLwJIAUAB3HH58MseRBGB4Id1wkNr05vNIqGUuC2QAvpphyzrQmm3pC8u/zi2VAu59Jz7OzgZ+NA+YfAhYc0rZcv2YIcPWQo+fU9AD/2gL8YRJg7LdWNjQ4F9VJ/L8tecYiGoEMs+Y0e83Oi3q+uOlHdz6sdyzxiEaUIkwll2UA/wWQCj8b5q6EUnsA6o6wB0ZiTr3pjC5Kkk7M5TrbFarH/t3FwIuXH709ebH2Cz8hD6izAZ/uA75/DvCDc4A5+7T7AEDlwFs7gIox4UuSAIAxRViLh1Jtsi3u9wMMt9zOxMwr5xf8We844hUlSpFpH4A10PbI6edN+BbK4PG7dJkExbqs79Ib3kko7ukhq1NKMQKppqO3ba2AWdISpSY7UJQMjMnUbsXJQHPv4vGF1UBhEjA2K1SRBaYKXZYV8s9Ur+rzhP/q8Ysx9oeUuVPq9Y4jXlGiFIEqucyh7cgsQNve5Bi14La1UJeHPTASM2QIvCd5aqbecUQ60XddlsoR8h5mnAMr64GLCgCTqCVJVifQ7gLaXFqSVJgEtDmBr2qBO0eFOqLAPNK+9BWeZ9pVrlLdRnjsAPCi3kHEM0qUIlQll9sAfIIAo0r/gW91O3hjeKMisWJz6vQmSUxM0juOSCcgzeD0JoW8n9LOdqDVBVxapH1fkATcMhx4fgPwtw3ArSO0+97eBdw8HNjbCfz2a+CJr4FNp9PXeZB6DEsLNrjep+LuEOtty/DDlLlTqIBbR5QoRbbF0Aq6k48/oAD8bfg+o47d5HTszriPnjenyOUeG/L+ZcvrgCGpQEnK0fsuLwH+NEW7XV4CrO79WDQ2E3hjO/DDc4EfnqN93aPDRFiD8bXSPa61NeG/cvxgjP0rZe6Ur/WOI95RohTBKrnsAfAOAL/VCFugtmyEujK8UZFo1yVmOrllLG2Ae4pkd7khlI/f4wE2txwdTfLH7gU+2QfcPwY40A3kJmgjTIXJ2tcHdao22yU9XtzkqW3S5+qxjXNeA+CXesdBKFGKBlugzVH7XZ30GnwrusBp80pyylZn3t8qMDGM66Wim+i9MYtzhKwe5+sGwCAAF5wgdX1/DzC1BMhK0OqZlD7RKFxbCacLpghr2cPpPXJ3l04RxCzG2IMpc6fY9Y6DUKIU8XoLu9+FVtTdr7DbC6iz4PtUBTXEIqemOf1Gqk0aAAFZJqfP0h6Kx+YcWFGvJUmWfrs8ana2AY12YFqZ9v2QVK24e0uLVp/U5NDu0wsXus0rlZ/Ao3ppK5zgeSNl7pRFegdBNJQoRYFKLjcC+B8C7AO3AWrTFqirwxsViUZ7E8a3GqRsWu02QE736JB8st/Toa1uCzTt5lWAd3YB3zoTEHq7qqWbgfvGAm/vBGbtAu4fq92nJ494KG2F5w+dKlep9m2QVM4bADyidxzkKOrMHSV6O3Y/ASAbQL8NES2A9BxM308F06G7CokW75e8WiMnX1aqdxzRxmd6uSE/5y+FescR6fK999dclPBten4NzoyUuVO+1DsIchSNKEWJ3o7d/wGQAKBfcakLkD+A73NOU3AkADczy57Ei2n7idMgeG/MoN+sk2syvl26y7WSVsKdJs75fylJijyUKEWRSi7XAfgYgN9Ptqug1m2Huj68UZFosS79tiZRMIas03QsE3mhxSWb+u29SPrbLf2upMFziHq8DZDKeRNj7Kd6x0H6o0Qp+lQCqAfgt87kVfgWd4P3m5oj5GDGnSFd5h7rnO4RNr1jiAaMqWw9eyizy9fVqXcs0YJzrgqMVaTMnUL/ZhGIEqUoU8llH4A3oDWh7LdOxgHIb8D3kQJOnVzJEU2G0h7ROCRs024HHevwZu238XTVBDy6swQbOj885jjnHAtbXsDTVePx2K7hePXQ7Wh2Vx1zzufNT+F3e87CH6smYlPXJ8cc22VbhJcP3Yxw1lj6XFdQS4VTxAWHaaX6Y8GteEK2qXCMeS5l7pQlegdB/KNEKQpVcrkawOcIMAW3FWrLEiiVYQ2KRLS12d/tYIyF7Xoe1YE800jckPckDKz/kqxlba9iRfvruCH/Kfxk6BdIkjLxes09cCva4rJdtkXY3P0ZHix9BzPyHseHjb+EQ9ZmvtyKHZ83P4Vb8/+McP6dBM/NGWG7WAzwibWpK7y/7VG4qugdSyRTuPINY+y3esdBAqNEKXrNA9ACIN3fwVmQN1ZD3R3ekEgkUsB4Z0p5WFsCjE6+AtNzf4WzU2eAsWNfZjjnWNnxH1ye9SOcnXIN8swjcWfh3+FRHdjc/SkAwOrZj2EJF6LYcg7OS70BZiEZHb46AMCCludwfupNyDWPCOdfCSKGJLh8BpoaGQC7YV3uWtcbDXrHEalUrjpFJt5Be7lFNkqUolTv9iavA0iFnyk4APh/8H7uANdpcwMSKbalTG02iMn99gvUS4evFja5FSOSphy5zyCYMSRhImqc3wAACsxjUO/eBqfShXrXNvi4G5nGUtQ4N2G/YzWuyHpYl9id7mFUpzRAVuO7JTtcS2glnF/shylzpxzQOwpyYpQoRbFKLu8HMAeA33Z17YD7Hfg+po1z49uOzG9F1KdVm6ytNUgSj235lSxlHTk2MulSnJ96E146eB1mNzyCOwpfgElIxMeNj+GW/Gexoet/+Ou+K/DigWtQ7dwYtth97svDN9cXQ6qkp0rqPPtpZKkPnyr/L+2LS/+rdxzk5ChRin5fAqgC4LdQdxXUurVQl4U1IhIxbEKaW7WcE5Eb4B5fX8TBgT73XZXzc/x6+Eo8csYinJVyNZa2vYrShPNhFlOwsOUFfL/sfUzP/TVm1f0QsuoNT8yem9PCcqEYwxhnG9mPszt9HSHZCibayKpcbxCkB/WOg5waSpSiXG8jytcBcACJ/s55Db6vm6AeCmtgJCKsyrrfKjAxwC5i+kiWsgEcHVk6zC63I1n031i+1XMQGzpn45rcx3DAsRpDEy9AiiEXI5OmQOE+tHoPhjxuABD5yGS3LPWE5WIxhgtO49fqwwa34nbqHYueVK76JEG6KWXuFHoeRQlKlGJAJZfbAPwbQA6AfkuYVYD/A745bvC4foGKR41pN/lNnvWUYShBspSNvfaVR+7zqW4ccq5HacK4fudzzvFx42O4Nu8JWMQUcKhQertfcM6hcBkqD9/CKoe7rCtsF4sxPrEhZZn3N3aFK3G7Ek7mysMpc6eEb76YDBolSrFjK7RmlH7rlerB7R9CnkNbnMSP/ZZz2wyGXF32/vMoDjS4dqLBtROcq+jyNaDBtROd3gYwxjA54ztY2vYKtvfMR7O7CrMbHoFJSMB5qTf2e6z1XR/ALKbgrJTpAICyhAnY71iNQ471WNM5CyKTkGMaFra/m8895eQnkYCcho05q92vxmW9klNxz8qad+VresdBBoY2xY0h5UwyAfgNtK7dfrtzPwjp4smQpoU1MKKLD4r/UeNLmarLBqUHHGvwr+o7+t0/Lu1W3Fn4AjjnWNT6d6ztfBcupQcllnNxU/4fkWceecz5NrkV/zh4Ax4aMgephqNleEta/4kV7W/AJCTipvxnMCr5slD/lY6Qha3deYXXpYbtgjHqDN9vas62XBU3G+g6FfeuBNF8fsrcKR69YyEDQ4lSjClnUgGAPwBoB+D2d85vYbxpOISzwxoYCSsPMyjvjdrgkwRT/26PZNCS88vsJklN0juOaMY5MF75d32peZTfUfBY4lV9NgBjs+ZdWad3LGTgaOotxlRyuRHAmwAKAPhdyvw8vHPbwGnTyhi2Ie2WJkqSQsfhKabGk4PEGLBJ+Eluh6+tTe9YQknlKncq7tspSYpelCjFpjUAVgIo9nfQBch/h/cDF7g9vGGRcNmfcTftSxZCXtdk6k0WBFxwG75WHzK5FJdD71hCpdtn/2PJghkL9I6DnD5KlGJQJZc5gHcBNEFbCddPHbjtLfg+UBDG5UIkLFqkQptgOiNsG+DGJe8NVKMUJLLYnLzc92unrCoR1Rg1GLp99gWlldf+Tu84yOBQohSjKrnsBPAStOk3v9tXrIHasADK3LAGRkJujbYBLnWQDiFJmZjmVRi12wgSp7Qle5X7paZYqpnt8Tn2phqSbtI7DjJ4lCjFsEouW6ElS1kAjP7OmQ1561Yoa8MaGAkZFUB76vQ0veOIBw5PQYfeMcSSduOnxVvdX8bEnnBO2d0pc/mylLlT/C6oIdGFEqUYV8nl3QD+C62/kt//7xfhW9gAlTZmjAHbk65oNoipNC0UBh7XxTRtHWQHpOdKD7l3RnXRs0+VfS3ejmvKKq9r0jsWEhyUKMWHJQC+QoDibgXgf4P3o27wmF59Eg+2Z33Lp3cMccNzg98pbXL6GAM2iz/Lb/Na/faBi3QqV/lBR8N3z/7qThqljyGUKMWB3uLu9wHsA+B3g9Q2wP03eGc5wWn/oSjlEJI9SsJ5EbkBbiwS5UsyfCqjqZVgYx5pFX84waE4o25V7j573XMTlt37X73jIMFFiVKcqOSyF8CrAJwA0v2dUw3e8wp873jB6cU/Cq3OvLdZYFJEbYAbyxgT4HDntusdRyxSxJbEFb5H3T5VjpoR0gOO+k8mLLv313rHQYKPEqU4UsnlTgD/D0ASAIu/c7ZBbX0Lvvdk8Jhbqhvr6tJvSdA7hnjjdk+k35MQcUk7sla5X7BGw0q4Wmfzxs+bVtyqdxwkNChRijOVXK4G8Bq0KTi/ow9fQ637CPKHKm2gGzWqzWM6DIaCbL3jiDfcfV2i3jHEsg7jvKJNrs8ieiVcvcu6d3Hrust+v/tf1IQ0RlGiFJ/WA/gYQAkCPAe+hLK3knosRY31WQ/a9I4hHkny5ZmyCtrkNIRqjH8vPeDeWqt3HP40u9saFljXXPrTbX+L2c7ihBKluNRb3P05gEUAShFgT7j3IW9eDWVJOGMjA+eDpDqSL6XRJB0wZmAOTxbVKYXYVvGRwhZvU4vecfTV6ulsn9u88sqfb3+hWe9YSGhRohSn+qyEWwdtZMmvf8G3cjuUdWELjAzYxrTrGyXBQvVJOnG7J3j1jiHmMZ+4mj+UZJcdEbEqt8tr6/mkael1j2z/e5XesZDQo0QpjlVyWQbwHwC7oTWk9Ot5+BYcgLojbIGRAanKrKDtSnSkumdQkhoGqtiesEL+uexTfbompjbZ6fy4ack9v9j+4ho94yDhQ4lSnKvksgfAy9A20PW7kSoH8Cd4P6mFSp+eIkyblOcQTCML9I4jnom+q7IUFVGzjD2auaU9GSs9z7VynZbCuRSP55PGpT/42ba/fRHuazPGHmeMccbYP/vc91bvfX1v1OwyyChRIqjksgPACwDs0PaF68cLqE/D+2Ed1L1hDY6c0Oqs77QxJtCIko4EZhYc3nTqah8mXYaFhRtdH4a9uNuteLyfNC79xcNb/zIr3NdmjF0I4EEA2/wcXgxtFfPh2zVhDC0uUKJEABzpsfQ8tMLuNH/neADlKXj/Vwd1XzhjI4G1pc6gfd0igMt9Pq18C6M648ul+9wbw5YsuRSP9736Bb/5rHn5y+G65mGMsVQA7wL4DoBOP6d4OOfNfW60WXOQUaJEjqjkcjO0ZCkRWlPKfjyA8jS8s+uh7g9rcKSfHYmXtBik9DS94yCA6p5h1juGeLNN/GVRs7c+5CvOXIrH83btF09Xtqx9YX7zKj2m/F4D8BHnPNAK5EsYYy2Msb2MsdcZYznhDC4eUKJEjlHJ5UMA/g4gE4DfIlW3NrL0QT2NLOlqa9YDtNVMhBC907NVDkXvOOIJY4qwFg+l2mRbd6iu4VLcnterP/nr0raNf5rfvCrsDSUZYw8COAPAbwOcsgDAfQCuBPAIgAsALGGMmcITYXygRIn0U8nlXQBeBJCDEyRLf4B3NhV468MpJHp9iRP8Ft+T8BNYoujwpFCdUpipQpdlhfwz1av6gj716VTc7lcPffTSqo6tT89vXhX2JJgxNhLAswDu4Zz7XenHOf+Ac/4553w753wugOkARgKYEcZQYx4lSsSvSi5vhbYvXA4C7At3uGapGurusAZHsDbjrmaRGYx6x0GOcrnPcekdQzzySPvSV3ieaVe5GrRpMafsdr988H//WNe583fzm1fp1Y7gImiLa3YwxmTGmAzgUgA/6v2+36gR57wRQD2A4eENNbZRokQCquTyZgAvAchFgGTJC6hPwfvRQag7wxpcnKtJv51qYiKM4r6apjt00mNYWrDB9X5Qirsdssv1j4OzX9zYtfu385tX6Tm9/SmAswCc2+e2EcAHvV/3S+AYY1kACqG1eyFBQokSOaFKLm8C8A+cIFmStdYBH++BuimswcWpOtPwTslYTAWbEUb03ZClctDGqDppML5Wuse1dlAb6HZ6bT3P73/n+U3de56c37xK15WMnPMuzvmOvjcADgAdvV8nMsaeZ4xdxBgrY4xdBmAugBYAn+gXeeyhRImcVCWXv4E2shSwZkkB+LPwzl0PZXlYg4tD67IeDFnxKjl9AlIMTm8S1SnpaJf0eHGTp/a0RlOs7vb2Z/fOfG6X7eAzeidJp0iBNuL0GYC9AN4GUAXgIs45bZIdREynBqckCpUz6RwAPwXQBu2TjV8VkMZNhThDAKNGiEEmQ1RnjV7vkoSERL1jIf2pKbdX56SuLdM7jnjG1FT3lcIsd4qUmnaqP1PtbGr6y963X+jwdb+kY00SiVA0okROWW+B9wvQWgf47bMEAO9A/uZDyLNlcDlswcWJTanXNlGSFLkU91VUYK8zLnSbV8g/5R7Ve0r1Rbtth6qf3P3vv1CSRAKhRIkMSCWXt0NrSpkGICXQefOgVP0Hvrc94LQSKIh2Z1boHQI5AdF7YybnoGF6nXmlg+krPE91qlw9Yc3Yhs6dVU/veeOvLtXzCiVJJBBKlMiA9fZZ+gu04u7MQOetglr/InwzHeBUUxMEnWK2E+Yx+XrHQQITkGVy+iztesdBAJthZf4611t1gY5/1bp+6/P73/mjAvXf85tX0abGJCBKlKIUY+whxtg2xlhP720NY2xGn+OMMfYkY6yRMeZijC1jjI0N1vUrubwPwB8B+KCtiPNrJ9S2Z+B9oxPcGqxrx6vVWQ+0Ckyg39kI53SPCVi/R8Kryfh26W7X18eshFO4qsyuX7j6tepPfg/gXT2aSZLoQi+60asewK8AnA9gPIAlAD5ljJ3de/yX0Fra/xjABGhLRhcxxpKDFUAllxugJUtt0Hp3BAiU238Pz5tNUA8F69rxyJp2fdD+70joyO5pkt4xkKN2Sb8tafAcagQAt+J1vXTgg8VzmpY+AeBznfZuI1GGVr3FEMZYB4DHoG2i2Ajgn5zzZ3qPWaAlS7/gnP87mNctZ1ISgIegtc6vA/zXaBgB4ecwTB8DcXwwrx8P9iRMbN0w5K1sveMgJ6ewJldO4UQLrfmMHExN9JyrvGx9/dCXGw446v88v3nVRr1jItGDRpRiAGNMZIzdCW0l2moAQwDkAVh4+BzOuQvACgAXB/v6lVy2Q9sbbgOAMgR4XnkB9c/wzauEPFcBp+HuAdiU9W0qio8SIs+3uHwmqlOKIJ0e3vzknn8uPeCo/y0lSWSgKFGKYoyxsxhjdgAeAP8CcBPnfDu0JAkAjq8LsvY5FlSVXPZAG8laAC1ZMgQ6913Im96A7y0XuD0UscQaF7P4vIkXBqwDI5HH6R5Jz+0IUd+VsW3hnrO/cMvGJ+c3r6J9KcmAUaIU3aqg7flzIYBXAbzNGDuzz/Hjp8CYn/uCppLLCrR9iN4DUAQg4H5kq6DW/xHe19rAG0IVT6xYl3FHsygYaR+xKOJzXynqHUO8UzmUHU1FK1cdGvUFh/CH+c2rqvWOiUQnSpSiGOfcyznfzznfyDl/DMAWAD8D0Nx7yvGjRznoP8oUVJVc5pVcXgBthCsHQGqgc+vAbY/D82YV1M2hjCnaHUq/g5oYRhnBc2OG3jHEM7csyqsOjli8s7nkEwDPzm9e1ap3TCR6UaIUWwQAJgCHoCVL0w4fYIyZAUyGVsMUcpVcXgPgWQAiTjDd5waUZ+D9/CvIX6rgtKHocRqMQ7tFYylNu0UZEUMSXD5Dl95xxKNON+rm7ElZd6jbsBDAP+Y3r6J2DWRQaBlrlGKM/RnAPGirzJIB3A3gMgAzOOecMfYigN8wxvZA2zDxCQB2aNNiYVHJ5f3lTHoSwI8ADIXW0sBvMvQ25A3V4C33QLrdDOZ34914tC7ru12MsYCjciRyOdzDeiyGPWl6xxEvOAff24l1C6uxV0Xnm0Dn8s3NtKybDB4lStErD8A7vX92A9gGYDrnvLL3+HPQOme/DCAdwDoAV4V7V+lKLneUM+mvAO4CcAW0ZMnvVgHLodTUQP33QzDckguhJJxxRiIFjHenTMukX9Lo5HNfwZC8R+8w4oJXgWNZHb7a3YF6AC9ttvIqvWMisYP6KJGwKGcSgzbidT+ADgA9gc4VAfYDGKZMgHCpgPjtRrMxZXrT7uIXaMuSKKWwKltu0TRqEhpiHW4c+nw/1nR7cQhaktSid0wktlCiRMKqnEkjoXULF6A1wAxoMsSSuyHdnIj4nHr675D361nCuUV6x0FOX1L+0G6zJMfl8zfUOAev6sTKhdWo4cB6ADM3W7lT77hI7KFEiYRdOZOyoCVLxThBJ28AyATM/wfjdUMgjAlXfJGgW8xwfTpyhVFgIi0zj2Is/YrazKT9cT+NHGweBbZldVi4pwM2AO8DWLzZSotBSGjQqjcSdpVcbgPwJwBroHURD9gjqB1w/x7eDyshz5XB42aH79WZ97VQkhT9vO5L9Q4h5rS7sP+93fh8TwdqADy92coXUpJEQolGlIhueuuWLgVwLwA3gBP2OhkLIetBGG7JAAtJd/FIMnPE8naDISdT7zjI4MjCtp68wmtT9I4jFqgcyu4OrFhcg3poU21vbbZSd38SepQoEd2VM6kIwA8BFECbigv46dAMiA/DMPUsCBcyxGad996EcW3rhryTpXccJDiS84fYTJJCRd2D0ONBw+JaLKuzwQttte8yGkUi4UKJEokI5UwyAbgFQDm0kaUTflK8AuKQWyBdlwyWHo74wumDkldqfMmXl+odBwkOIWNKXUZidbHecUQjlUPe04FlX9WgVgXaAbyy2cqr9Y6LxBdKlEhEKWfSOQC+D62jd9OJzk0CDN+D4fKzIVwYK20EPMwkvz9qnSwKpoD75JHoIlser83LeocKugeo24O6xTWYX2+HBdqOArM2Wzl12SZhR4kSiTjlTMoA8B0AZ0JrUHnCIu6JEArugeGGNLCccMQXSisz7qmrzn+CRh9iiCyu78oruDVN7ziihaLCt7sDS5bUYj/Xmub+F8CKzVZ6syL6oESJRKRyJonQpuFuh9Z5vPNE5xsB4bswXDIBwhQRLGpXi715xhdNkmkYNZmMMSkFZQ6jqCbqHUek63KjZmEN5jU5kAitXvH1zVZeq3dcJL5RokQiWjmThkLbKy4DQAMA5UTnnwUh+1uQrs+GEHWNGpsNJT0Lhy9IZiw2phHJUWLGxfXpifVR95wMF0WFd2c7Fi+twyEACQA+AVC52cr9bndESDhRokQiXjmTLACuB3ANtNGljhOdLwDsfkgXTIZ4pQRmCEeMwfBJwR+q7em3l+kdBwk+OeEXNXmZ/6MCfT/aXdi/qAYLrE4kA6gG8J/NVl6nc1iEHEGJEoka5UwaBuDbAAqhjS6dsHZpKFjqt2AoL4MwOhzxDYYK4K1R63oMYgr13IlBsriyI6/gngy944gkLh86NlpRuakFnQDMAD4GsGizNX4ay5LoQIkSiSrlTDJCq126CVqTypNugHk5xLIbIV2dDpYb6vhO15bkqU3bS/5BtUkxinMVaYVDXAaRW/SORW+yCu/eTixfWodNsoo8AAeg7dPWoHdshPhDiRKJSr1NKh8AcAaARgCeE50vAuwuSOdfCvEKE1hCOGIciFlls+qQOJ5Wu8UwKfOChrSE5kK949AL50CjA1uW1GJxhxuJAIwA/gdgyWYrl3UOj5CAKFEiUat3ZdxlAO6EVuTdfLKfyQTM34Lh0rMgXCCARcRehzYhxT1n1GpJYKKkdywkdOTEH9fkZXwWl3VK3R7Ur2rA/H1d6ACQD6AKwJubrfyEvdIIiQSUKJGoV86kHAD3ATgb2lTcSfd/GgMh8x5I5cUQhoc6vpOpzH64piXnobh8A40nPnFRW37Bd+JqaxqPAtu2Vixa3Yhd0BIkGcBsaH2RTriClZBIQYkSiQnlTBIAjAdwD4BkaF29T1oUWg7xjGshlaeC6fYGNnPE0jaDIS+u3kDjEecyTy8a6pUEmPSOJdRUDvlgN9YsqcVKl4x0aI0jlwD4fLOVd+scHiEDQokSiSm9rQSmArgB2mKyJgAnfJJLgHAHpHMvgTglESw1DGEeccByVvvqof/LDOc1iX4MWeMaUy2tBXrHESoqh9pox5avG7DC6oQCIBvAbgDvUeNIEq0oUSIxqZxJ2dA22b0IQA+0DTVPyASId0A672KIkxPAwrJMf3bx/6vxplxF025xQkn6fnVu+vwyveMINs7Bm53YsaoByxrssAEoANAFYBaALZutXNU1QEIGgRIlEtPKmTQcQAWAMgBWAM6T/YwZEO+ENO4iiJMtYEmhis3LDMq7o9Z7JcEc90vG44VPmtuSn/9Q1O9J2FeLE3vWNGJpdQ9aodUhCQA+BbB4s5W7dQ2OkCCgRInEvN7VcRcCuAva9giN0IpKTygRkO6ENH4ixEvMYEHfp2tV+u31Bwv+QNtaxBHOPWpG0XBFFBA1HeP94RxodWHP+iYsP9CNZmhbDKUCWA3g481W3qZvhIQEDyVKJG6UMykRwNXQtkJRobUTOOnKmyTAcBcMEy6AMCmYPZjeGvZpo2geGbP1KsQ/Y/Y5TSnmzqhsLso50OLCrnVNWHGoG1YAKQAyAdQAeGezle/VN0JCgo8SJRJ3euuXpkPrwSRDS5hOWkORAhjvgGH8OAgTB1vD1CoV2OePWJTImEAb4MYZJenb1bnpi8v0jmMgOAe3OrFzbRNW1GhTbEkAsqC145gNrQ6JlvuTmESJEolb5UzKhTa6NBkDSJgkQLgR0thJEC/MBDutEaHP8n9b3ZNxd9np/CyJbj7DR9b8vJ9H7HY6fckq3HU2bFrXhPVWJ7qhTV1nQyvUng1gI3XVJrGOEiUS98qZlAdgBoBLoPVeOqWECQCmQCyZBvGiErCRDOyURoe0DXDXdhvE1LC2IiCRQeUOJat4NBcYIrYTu9OH9v1dWLe2CVtcMnzQEqQcADYAHwJYu9nKvboGSUiYUKJESK9yJhUAuBZaSwEvtITplH5BRoCl3wjpwlEQzpPATliouz3p0uYtpf/KG3TAJGoZs89qTjF3R9xzoMOFAzvasXZzC/b33pUIbYqtB8AcaAnSCfdVJCTWUKJEyHF6N9y9HsAEaCNMVpxC0Teg7SV3CwzjzodwQaA6pnfK3qrliRNLghYwiTpqckVNTtqKiOifpXDITXZs3WjFut76I+BoDVIXgI8BrKcEicQrSpQICaCcScUApgGY1HtXC4BTerOQAOEaiCMvhHh+AYRhAsAAwCEkeT8atYYJTIrq5eFkcHyGd5vy8x7TdeWbR0bPwW5sWNuEb3q8cEF7jmZAS5LaAXwCYANNsZF4R4kSISdRzqQMaAXfVwMwQ3sTOenGu4clGIqumcF50mVyV8G6rAe7m3J/QqNJcU5Fjy+r6ExRYBDCeV1Fha/FhT1VHdiyrRWHuDa1LALIBWAAUAXgSwA7aRUbIRpKlAg5Rb37yI2HNi2XBS1ZOuHWKAozJHaYR8/wiOmfCmC+sxLGlRWnXHN+prFklMCkiC3mJaFnzhnTkmSyh7xLN+dAtwc1B7ux5RsrdjllHB4hMkMr0FYBrIS2aW39Ziu9KRDSFyVKhAxQb6fvMdAKv0dCK/z2W8fklLLP6zGWpcpi0rK+9yeIaaYzk68eU2w555xkKaeUndqCORJD1JQ7qnNS15SF6vFdMjpqe7B1Syu2NTvQ1edQGrQu2nZoo0erN1t5d6jiICTaUaJEyGkqZxIDUALgSmitBQBthMkBaHManaZRN7ikzG+4YKwP9Dg5xjPSRidPPafAPOYcs5iUHuq4SWTwGWc25uc+GdTO7LIKd7MDO3e1Y+vuDtT1OSRAGz0yAagFMBfANqo/IuTkKFEiJAjKmZQGYBy0OqYsAF6fkCh1mkaM94qpn5xiiyUMSZhYWJYwbkS2cdjIRCk9KpoSktOjot2bXXSegTEMajjRp8LV5sS+6h7s2dKKfV7lmH0MU3tvHMA3ABYCOEDTa4ScOkqUCAmiciYJAIYBuNQh5d7abRpmVAXTNuCYqY9TkmksSxmeOGlEnmnkiFRD/hCBiVTTFGMsuaPaEo3OrIH+nEtGp9WBqgPdqNrdjlqFH9Mg1QwtWRehjR4tBrB1s5X3BCdqQuILJUqEhMhE8+hUu6HwTDB2JYAh0D7VtwJwDfSxTEKiYUTSlKFF5rNHZBhLRhgFS1Kw4yXhx1NuqslO/eak/ZQ4B2xeNDQ6sGdPB6r69Ds6TIS2tYgRWu3REgAbADRG8ugRY+xxAM8AeJlz/nDvfQzA7wF8D0A6gHUAHuKc79QtUBLXKFEiJMTGpkxj0JZfj4dWz5QGrZFlC4DT2CeLoSxhfEFZwvgROcZhIxLE9HwqBo9OPtOrDfk5fyr0d0zhkDvdOFhnQ9XONuxtd/drScGgPZeSoS0kWA/gawB7o2FpP2PsQgDvQ+v6vbJPovQrAE8A+Ba0dgW/g1YDOJJzbtMnWhLPKFEiJIzGpkwToU3NXdx7k6AlS+04xWaWx0s3FCcPT7xkeL551MhUQ/4QkZpZRg2FNbtzCi8wMwaoHKrNi8ZWFw7V9aC6qhO1HqVfIs2g1Rwd7vq+D9ro0fbNVu4MZ+yDwRhLBbAJwIPQEqEdnPOHe0eTGgH8k3P+TO+5FmgfKn7BOf+3XjGT+EWJEiE6GZsyzQzgDADnArgAWkdkQKtnOq16EomZxGLLObl5plFFmcbiomQpt4hW0kUmlcuKU21q8iRfvb/ZaWuo6kSt62iPo74kaB2zzb3f7wewGlpTyOOn4KICY2w2gGrO+a8YY8twNFEaCuAAgAs45xv6nD8PQBvn/H59IibxjBIlQiLA2JRpAoAiAGOhbcpbBG30wAGgE6e415w/KVJuQonlvKIc07CiNENBUZKUVSAygykYcZNT51Udcrdc1WZXq3c2e1fV1nkXNPq4LdDUqxlaciRC+7/fAm1qbW+0F2Uzxh4E8AMAF3HOvcclShcDWAWglHNe2+dnZgIo5JyX6xI0iWu0ioaQCLCzZ5EKbYVSLYD5Y1OmZQAYDuBCAGdBS5pUaFN07oE8do9sde6wLdgLG/YCAIPACsxjswrNY4syjaVFKYbcIouQms2o0CloZNXjcirdrQ6lvbXDW9dY795e2+RdXiAa9mcIgv3rAD+WDK3miEEryF4KLUE6ECv9jhhjIwE8C2Ay5yf8Ox3/CZ75uY+QsKARJUIi3NiUaSZodU3nAJiIo/UpXQBsCMIbiEVINZYknFeYaxpelCLl5ljE1AyzkJwhCUbzyX86fvlUj9OldLXalfbWHp+1tcNX29Ls3tfaLTc6+p3MnJmSYdelgtg1p/ceC7TE6HBNWRO0KbUdAOo2W7na7zGiHGPsWwDexLEjpCK057AKbUR1D2jqjUQQSpQIiSK9U3SFAEZDm6IrhfYmc3iazgb4rXM5LUliliXbNCwj3VCYkSxlpydKmRkJvUmUQTAnBus6kc6nuh1OpbvVIbe1dsvW1g5fXWuze09Lj2wdQAE1TxAN264TxLZNjHEPgA5oI0Y7AVRvtvLOkAQfQRhjadCmlft6E1pR+rPQ/i0aAfyDc/5s78+YoRVzP0rF3EQPlCgREsXGpkxLgJY4lUD7ND4S2kgFoH1C74E2jRP00QmzkGLMMQ3LSDcUZ6QYctKTxMwMi5iWYRaTMwzMlCgwUQz2NYNN5Yrs426HT3U7vKrL7lUdDo/qcLhVm92ldDvscltPs6eq1Sa3DrT3lQCtOD+l92sAaBfEplbRULWcMXk/gI5I7nEULn1rlHq//xWA30BrD7AXWquAKaD2AEQnlCgREkN6ezZlQUuehkFLng43NGTQ6pt6MMA6p9NhFlKMyVJ2QqKYbkmQ0hLMQkqCWUxKMAmJFgOzWCRmMoqCwSQxo1FkBpPIDNqfkIwCk4wAwMFVgHPOuXrka3CVQ1XBD3+t/QnOVQ718H0q56rq4y6HR3U4PIrd7lZtDpfS7XAonXa73Oboka0Op9J1Wi0ZjiMASACQCG0vtcMvqtUAtgI4CKB2Z8+iqC7CDhU/idLhhpPfx7ENJ3foFiSJa5QoERLjxqZMMwIogDblMQbatF0ajr6hu/rcIr5RoY5EaAlRArRVaSq05FMB0AAtMToEoA5Aw86eRcFIwgghOqNEiZA40zvqlApt1KkUQHHv17nQCotVHJ0ucuNoEnUaXcSj0uGEKBHaliCHa8BkHJsQtfbeOnpXLRJCYhAlSoQQAEcSqCRo/XsyoE3hlUAbjcrHsaMoArQk6vDNhxDUQQWZAC0RNPb509h7jPfeBGgJUR20hKgaRxOiTkqICIk/lCgRQk6qN4lKwNEkKgNHR6JyoPUAEnA04ThMwNHpqb43+bjvDydg6P3z+Ju/+4+/T4SW+BzuD6ced87h4vYuaE08O6D1peqBtmLQ3nt/FyVEhJDDKFEihAxabyJlxNEaHstxXydBm8pKPO64BdpI1eEpv8NJU9+bcopfu6AlPh3Qkh47tATocBLk3tmziF7wCCEDQokSIYQQQkgAwslPIYQQQgiJT5QoEUIIIYQEQIkSIYQQQkgAlCgRQgghhARAiRIhhBBCSACUKBFCCCGEBECJEiGEEEJIAJQoEUIIIYQEQIkSIYQQQkgAlCgRQgghhARAiRIh5JQxxh5ijG1jjPX03tYwxmb0Of4WY4wfd1urZ8yEEDIY0slPIYSQI+oB/ArAPmgftO4H8CljbBznfFvvOYsB3NvnZ7zhDZEQQoKHNsUlhAwKY6wDwGOc838zxt4CkMU5v1bnsAghJCho6o0QcloYYyJj7E4ASQBW9zl0CWOshTG2lzH2OmMsR6cQCSFk0GhEiRAyIIyxswCsAWAGYAdwD+d8Xu+xOwE4ARwCUAbgjwBEAOM45x5dAiaEkEGgRIkQMiCMMSOAEgBpAG4B8CCAyzjnO/ycWwCgBsAdnPM54YyTEEKCgYq5CSEDwjn3Atjf++1GxtgEAD8D8B0/5zYyxuoBDA9jiIQQEjRUo0QIGSwBgMnfAcZYFoBCAE1hjYgQQoKERpQIIaeMMfZnAPMA1AFIBnA3gMsAzGCMJQF4EsDH0BKjMgB/AtAC4JPwR0sIIYNHiRIhZCDyALzT+2c3gG0ApnPOKxljFgBnAbgPWv1SE4ClAG7nnNv0CZcQQgaHirkJIYQQQgKgGiVCCCGEkAAoUSKEEEIICYASJUIIIYSQAChRIoQQQggJgBIlQgghhJAAKFEihBBCCAmAEiVCCCGEkAAoUSKEEEIICYASJUIIIYSQAChRIoQQQggJgBIlQgghhJAAKFEihBBCCAmAEiVCCCGEkAAoUSKEEEIICYASJUIIIYSQAChRIoQQQggJgBIlQgghhJAAKFEihBBCCAmAEiVCCCGEkAAoUSKEEEIICYASJUIIIYSQAChRIoQQQggJgBIlQgghhJAAKFEihBBCCAmAEiVCCCGEkAAoUSKEEEIICYASJUIIIYSQAChRIoQQQggJgBIlQgghhJAAKFEihBBCCAmAEiVCCCGEkAAoUSKEEEIICYASJUIIIYSQAChRIoQQQggJgBIlQgghhJAAKFEihBBCCAng/wNnaTtMYCUlKwAAAABJRU5ErkJggg==)"
   ]
  },
  {
   "cell_type": "markdown",
   "id": "6abe6b13-6e41-4479-b4c2-40e95c096a3e",
   "metadata": {},
   "source": [
    "**PS 1.2** According to our Problem Statement, we are going to use <u>**Test of\n",
    "Hypothesis concerning difference of means (Two Populations)**</u> and our prediction is **“In Men and Women, more languages are learned by men comparatively women.”**\n",
    "\n",
    "So here are some calculation:\n",
    "<center>\n",
    "𝜇1 = 𝑀𝑒𝑛 <br> 𝜇2 = 𝑊𝑜𝑚𝑒𝑛\n",
    "</center>\n",
    "\n",
    "Step 1 : Null Hypothesis H 0 : μ 1 - μ 2 = d\n",
    "\n",
    "Alternative Hypothesis: μ 1 - μ 2 > d (Right tailed); μ 1 - μ 2 < d (Left tailed);\n",
    "\n",
    "μ 1 - μ 2 = ̸ d (Two tailed) Level of Significance: α Sample Size: Sample 1 - n 1 and Sample 2 – n 2\n",
    "\n",
    "H0=𝜇1 − 𝜇2 = 0\n",
    "\n",
    "Ha= 𝜇1 − 𝜇2 ≠ 0\n",
    "\n",
    "Level of Significance: 𝜶 = 𝟎. 𝟎𝟓\n",
    "\n",
    "**N1=162 and N2=162 (Two Tailed)**\n",
    "\n",
    "Step 2: Test Statistic:\n",
    "N1+N2=324>30 large sample.\n",
    "𝛼1 ! 𝑎𝑛𝑑 𝛼2 ! are not known.\n",
    "\n",
    "![img](data:image/png;base64,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)\n",
    "\n",
    "![img](data:image/png;base64,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)\n",
    "\n",
    "![img](data:image/png;base64,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)\n",
    "\n",
    "![img](data:image/png;base64,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)\n",
    "\n"
   ]
  },
  {
   "cell_type": "code",
   "execution_count": 12,
   "id": "9f6115b3-e6bf-4cca-9cda-69539549a0b3",
   "metadata": {},
   "outputs": [],
   "source": [
    "import pandas as pd\n",
    "import numpy as np\n",
    "import seaborn as sns\n",
    "import plotly.express as px\n",
    "import matplotlib.pyplot as plt\n",
    "from sklearn.linear_model import LinearRegression\n",
    "%matplotlib inline\n",
    "\n",
    "def plotworld(dataset, title):    \n",
    "    tot_woman_country_wise_df = pd.read_csv(dataset)\n",
    "    fig = px.choropleth(tot_woman_country_wise_df, \n",
    "                    locations='Country', locationmode=\"country names\", \n",
    "                    color='Responses', color_continuous_scale=px.colors.sequential.Turbo,\n",
    "                   width=800, height=400, title=title)\n",
    "    fig.show()"
   ]
  },
  {
   "cell_type": "code",
   "execution_count": 13,
   "id": "935e3062-67dd-40bf-b42d-d0b2e1345a6a",
   "metadata": {},
   "outputs": [
    {
     "data": {
      "application/vnd.plotly.v1+json": {
       "config": {
        "plotlyServerURL": "https://plot.ly"
       },
       "data": [
        {
         "coloraxis": "coloraxis",
         "geo": "geo",
         "hovertemplate": "Country=%{location}<br>Responses=%{z}<extra></extra>",
         "locationmode": "country names",
         "locations": [
          "Algeria",
          "Argentina",
          "Australia",
          "Austria",
          "Bangladesh",
          "Belarus",
          "Belgium",
          "Brazil",
          "Canada",
          "Chile",
          "China",
          "Colombia",
          "Czech Republic",
          "Denmark",
          "Ecuador",
          "Egypt",
          "Ethiopia",
          "France",
          "Germany",
          "Ghana",
          "Greece",
          "Hong Kong (S.A.R.)",
          "I do not wish to disclose my location",
          "India",
          "Indonesia",
          "Iran, Islamic Republic of...",
          "Iraq",
          "Ireland",
          "Israel",
          "Italy",
          "Japan",
          "Kazakhstan",
          "Kenya",
          "Malaysia",
          "Mexico",
          "Morocco",
          "Nepal",
          "Netherlands",
          "Nigeria",
          "Norway",
          "Other",
          "Pakistan",
          "Peru",
          "Philippines",
          "Poland",
          "Portugal",
          "Romania",
          "Russia",
          "Saudi Arabia",
          "Singapore",
          "South Africa",
          "South Korea",
          "Spain",
          "Sri Lanka",
          "Sweden",
          "Switzerland",
          "Taiwan",
          "Thailand",
          "Tunisia",
          "Turkey",
          "Uganda",
          "Ukraine",
          "United Arab Emirates",
          "United Kingdom of Great Britain and Northern Ireland",
          "United States of America",
          "Viet Nam"
         ],
         "name": "",
         "type": "choropleth",
         "z": [
          12,
          24,
          38,
          8,
          43,
          6,
          8,
          81,
          64,
          9,
          106,
          25,
          11,
          6,
          8,
          127,
          2,
          67,
          81,
          8,
          16,
          14,
          8,
          1656,
          96,
          52,
          8,
          8,
          24,
          30,
          68,
          7,
          53,
          43,
          33,
          27,
          7,
          25,
          107,
          10,
          227,
          81,
          5,
          26,
          30,
          29,
          16,
          104,
          27,
          38,
          28,
          72,
          57,
          36,
          11,
          13,
          81,
          24,
          42,
          79,
          9,
          30,
          28,
          113,
          606,
          52
         ]
        }
       ],
       "layout": {
        "coloraxis": {
         "colorbar": {
          "title": {
           "text": "Responses"
          }
         },
         "colorscale": [
          [
           0,
           "#30123b"
          ],
          [
           0.07142857142857142,
           "#4145ab"
          ],
          [
           0.14285714285714285,
           "#4675ed"
          ],
          [
           0.21428571428571427,
           "#39a2fc"
          ],
          [
           0.2857142857142857,
           "#1bcfd4"
          ],
          [
           0.35714285714285715,
           "#24eca6"
          ],
          [
           0.42857142857142855,
           "#61fc6c"
          ],
          [
           0.5,
           "#a4fc3b"
          ],
          [
           0.5714285714285714,
           "#d1e834"
          ],
          [
           0.6428571428571429,
           "#f3c63a"
          ],
          [
           0.7142857142857143,
           "#fe9b2d"
          ],
          [
           0.7857142857142857,
           "#f36315"
          ],
          [
           0.8571428571428571,
           "#d93806"
          ],
          [
           0.9285714285714286,
           "#b11901"
          ],
          [
           1,
           "#7a0402"
          ]
         ]
        },
        "geo": {
         "center": {},
         "domain": {
          "x": [
           0,
           1
          ],
          "y": [
           0,
           1
          ]
         }
        },
        "height": 400,
        "legend": {
         "tracegroupgap": 0
        },
        "template": {
         "data": {
          "bar": [
           {
            "error_x": {
             "color": "#2a3f5f"
            },
            "error_y": {
             "color": "#2a3f5f"
            },
            "marker": {
             "line": {
              "color": "#E5ECF6",
              "width": 0.5
             },
             "pattern": {
              "fillmode": "overlay",
              "size": 10,
              "solidity": 0.2
             }
            },
            "type": "bar"
           }
          ],
          "barpolar": [
           {
            "marker": {
             "line": {
              "color": "#E5ECF6",
              "width": 0.5
             },
             "pattern": {
              "fillmode": "overlay",
              "size": 10,
              "solidity": 0.2
             }
            },
            "type": "barpolar"
           }
          ],
          "carpet": [
           {
            "aaxis": {
             "endlinecolor": "#2a3f5f",
             "gridcolor": "white",
             "linecolor": "white",
             "minorgridcolor": "white",
             "startlinecolor": "#2a3f5f"
            },
            "baxis": {
             "endlinecolor": "#2a3f5f",
             "gridcolor": "white",
             "linecolor": "white",
             "minorgridcolor": "white",
             "startlinecolor": "#2a3f5f"
            },
            "type": "carpet"
           }
          ],
          "choropleth": [
           {
            "colorbar": {
             "outlinewidth": 0,
             "ticks": ""
            },
            "type": "choropleth"
           }
          ],
          "contour": [
           {
            "colorbar": {
             "outlinewidth": 0,
             "ticks": ""
            },
            "colorscale": [
             [
              0,
              "#0d0887"
             ],
             [
              0.1111111111111111,
              "#46039f"
             ],
             [
              0.2222222222222222,
              "#7201a8"
             ],
             [
              0.3333333333333333,
              "#9c179e"
             ],
             [
              0.4444444444444444,
              "#bd3786"
             ],
             [
              0.5555555555555556,
              "#d8576b"
             ],
             [
              0.6666666666666666,
              "#ed7953"
             ],
             [
              0.7777777777777778,
              "#fb9f3a"
             ],
             [
              0.8888888888888888,
              "#fdca26"
             ],
             [
              1,
              "#f0f921"
             ]
            ],
            "type": "contour"
           }
          ],
          "contourcarpet": [
           {
            "colorbar": {
             "outlinewidth": 0,
             "ticks": ""
            },
            "type": "contourcarpet"
           }
          ],
          "heatmap": [
           {
            "colorbar": {
             "outlinewidth": 0,
             "ticks": ""
            },
            "colorscale": [
             [
              0,
              "#0d0887"
             ],
             [
              0.1111111111111111,
              "#46039f"
             ],
             [
              0.2222222222222222,
              "#7201a8"
             ],
             [
              0.3333333333333333,
              "#9c179e"
             ],
             [
              0.4444444444444444,
              "#bd3786"
             ],
             [
              0.5555555555555556,
              "#d8576b"
             ],
             [
              0.6666666666666666,
              "#ed7953"
             ],
             [
              0.7777777777777778,
              "#fb9f3a"
             ],
             [
              0.8888888888888888,
              "#fdca26"
             ],
             [
              1,
              "#f0f921"
             ]
            ],
            "type": "heatmap"
           }
          ],
          "heatmapgl": [
           {
            "colorbar": {
             "outlinewidth": 0,
             "ticks": ""
            },
            "colorscale": [
             [
              0,
              "#0d0887"
             ],
             [
              0.1111111111111111,
              "#46039f"
             ],
             [
              0.2222222222222222,
              "#7201a8"
             ],
             [
              0.3333333333333333,
              "#9c179e"
             ],
             [
              0.4444444444444444,
              "#bd3786"
             ],
             [
              0.5555555555555556,
              "#d8576b"
             ],
             [
              0.6666666666666666,
              "#ed7953"
             ],
             [
              0.7777777777777778,
              "#fb9f3a"
             ],
             [
              0.8888888888888888,
              "#fdca26"
             ],
             [
              1,
              "#f0f921"
             ]
            ],
            "type": "heatmapgl"
           }
          ],
          "histogram": [
           {
            "marker": {
             "pattern": {
              "fillmode": "overlay",
              "size": 10,
              "solidity": 0.2
             }
            },
            "type": "histogram"
           }
          ],
          "histogram2d": [
           {
            "colorbar": {
             "outlinewidth": 0,
             "ticks": ""
            },
            "colorscale": [
             [
              0,
              "#0d0887"
             ],
             [
              0.1111111111111111,
              "#46039f"
             ],
             [
              0.2222222222222222,
              "#7201a8"
             ],
             [
              0.3333333333333333,
              "#9c179e"
             ],
             [
              0.4444444444444444,
              "#bd3786"
             ],
             [
              0.5555555555555556,
              "#d8576b"
             ],
             [
              0.6666666666666666,
              "#ed7953"
             ],
             [
              0.7777777777777778,
              "#fb9f3a"
             ],
             [
              0.8888888888888888,
              "#fdca26"
             ],
             [
              1,
              "#f0f921"
             ]
            ],
            "type": "histogram2d"
           }
          ],
          "histogram2dcontour": [
           {
            "colorbar": {
             "outlinewidth": 0,
             "ticks": ""
            },
            "colorscale": [
             [
              0,
              "#0d0887"
             ],
             [
              0.1111111111111111,
              "#46039f"
             ],
             [
              0.2222222222222222,
              "#7201a8"
             ],
             [
              0.3333333333333333,
              "#9c179e"
             ],
             [
              0.4444444444444444,
              "#bd3786"
             ],
             [
              0.5555555555555556,
              "#d8576b"
             ],
             [
              0.6666666666666666,
              "#ed7953"
             ],
             [
              0.7777777777777778,
              "#fb9f3a"
             ],
             [
              0.8888888888888888,
              "#fdca26"
             ],
             [
              1,
              "#f0f921"
             ]
            ],
            "type": "histogram2dcontour"
           }
          ],
          "mesh3d": [
           {
            "colorbar": {
             "outlinewidth": 0,
             "ticks": ""
            },
            "type": "mesh3d"
           }
          ],
          "parcoords": [
           {
            "line": {
             "colorbar": {
              "outlinewidth": 0,
              "ticks": ""
             }
            },
            "type": "parcoords"
           }
          ],
          "pie": [
           {
            "automargin": true,
            "type": "pie"
           }
          ],
          "scatter": [
           {
            "marker": {
             "colorbar": {
              "outlinewidth": 0,
              "ticks": ""
             }
            },
            "type": "scatter"
           }
          ],
          "scatter3d": [
           {
            "line": {
             "colorbar": {
              "outlinewidth": 0,
              "ticks": ""
             }
            },
            "marker": {
             "colorbar": {
              "outlinewidth": 0,
              "ticks": ""
             }
            },
            "type": "scatter3d"
           }
          ],
          "scattercarpet": [
           {
            "marker": {
             "colorbar": {
              "outlinewidth": 0,
              "ticks": ""
             }
            },
            "type": "scattercarpet"
           }
          ],
          "scattergeo": [
           {
            "marker": {
             "colorbar": {
              "outlinewidth": 0,
              "ticks": ""
             }
            },
            "type": "scattergeo"
           }
          ],
          "scattergl": [
           {
            "marker": {
             "colorbar": {
              "outlinewidth": 0,
              "ticks": ""
             }
            },
            "type": "scattergl"
           }
          ],
          "scattermapbox": [
           {
            "marker": {
             "colorbar": {
              "outlinewidth": 0,
              "ticks": ""
             }
            },
            "type": "scattermapbox"
           }
          ],
          "scatterpolar": [
           {
            "marker": {
             "colorbar": {
              "outlinewidth": 0,
              "ticks": ""
             }
            },
            "type": "scatterpolar"
           }
          ],
          "scatterpolargl": [
           {
            "marker": {
             "colorbar": {
              "outlinewidth": 0,
              "ticks": ""
             }
            },
            "type": "scatterpolargl"
           }
          ],
          "scatterternary": [
           {
            "marker": {
             "colorbar": {
              "outlinewidth": 0,
              "ticks": ""
             }
            },
            "type": "scatterternary"
           }
          ],
          "surface": [
           {
            "colorbar": {
             "outlinewidth": 0,
             "ticks": ""
            },
            "colorscale": [
             [
              0,
              "#0d0887"
             ],
             [
              0.1111111111111111,
              "#46039f"
             ],
             [
              0.2222222222222222,
              "#7201a8"
             ],
             [
              0.3333333333333333,
              "#9c179e"
             ],
             [
              0.4444444444444444,
              "#bd3786"
             ],
             [
              0.5555555555555556,
              "#d8576b"
             ],
             [
              0.6666666666666666,
              "#ed7953"
             ],
             [
              0.7777777777777778,
              "#fb9f3a"
             ],
             [
              0.8888888888888888,
              "#fdca26"
             ],
             [
              1,
              "#f0f921"
             ]
            ],
            "type": "surface"
           }
          ],
          "table": [
           {
            "cells": {
             "fill": {
              "color": "#EBF0F8"
             },
             "line": {
              "color": "white"
             }
            },
            "header": {
             "fill": {
              "color": "#C8D4E3"
             },
             "line": {
              "color": "white"
             }
            },
            "type": "table"
           }
          ]
         },
         "layout": {
          "annotationdefaults": {
           "arrowcolor": "#2a3f5f",
           "arrowhead": 0,
           "arrowwidth": 1
          },
          "autotypenumbers": "strict",
          "coloraxis": {
           "colorbar": {
            "outlinewidth": 0,
            "ticks": ""
           }
          },
          "colorscale": {
           "diverging": [
            [
             0,
             "#8e0152"
            ],
            [
             0.1,
             "#c51b7d"
            ],
            [
             0.2,
             "#de77ae"
            ],
            [
             0.3,
             "#f1b6da"
            ],
            [
             0.4,
             "#fde0ef"
            ],
            [
             0.5,
             "#f7f7f7"
            ],
            [
             0.6,
             "#e6f5d0"
            ],
            [
             0.7,
             "#b8e186"
            ],
            [
             0.8,
             "#7fbc41"
            ],
            [
             0.9,
             "#4d9221"
            ],
            [
             1,
             "#276419"
            ]
           ],
           "sequential": [
            [
             0,
             "#0d0887"
            ],
            [
             0.1111111111111111,
             "#46039f"
            ],
            [
             0.2222222222222222,
             "#7201a8"
            ],
            [
             0.3333333333333333,
             "#9c179e"
            ],
            [
             0.4444444444444444,
             "#bd3786"
            ],
            [
             0.5555555555555556,
             "#d8576b"
            ],
            [
             0.6666666666666666,
             "#ed7953"
            ],
            [
             0.7777777777777778,
             "#fb9f3a"
            ],
            [
             0.8888888888888888,
             "#fdca26"
            ],
            [
             1,
             "#f0f921"
            ]
           ],
           "sequentialminus": [
            [
             0,
             "#0d0887"
            ],
            [
             0.1111111111111111,
             "#46039f"
            ],
            [
             0.2222222222222222,
             "#7201a8"
            ],
            [
             0.3333333333333333,
             "#9c179e"
            ],
            [
             0.4444444444444444,
             "#bd3786"
            ],
            [
             0.5555555555555556,
             "#d8576b"
            ],
            [
             0.6666666666666666,
             "#ed7953"
            ],
            [
             0.7777777777777778,
             "#fb9f3a"
            ],
            [
             0.8888888888888888,
             "#fdca26"
            ],
            [
             1,
             "#f0f921"
            ]
           ]
          },
          "colorway": [
           "#636efa",
           "#EF553B",
           "#00cc96",
           "#ab63fa",
           "#FFA15A",
           "#19d3f3",
           "#FF6692",
           "#B6E880",
           "#FF97FF",
           "#FECB52"
          ],
          "font": {
           "color": "#2a3f5f"
          },
          "geo": {
           "bgcolor": "white",
           "lakecolor": "white",
           "landcolor": "#E5ECF6",
           "showlakes": true,
           "showland": true,
           "subunitcolor": "white"
          },
          "hoverlabel": {
           "align": "left"
          },
          "hovermode": "closest",
          "mapbox": {
           "style": "light"
          },
          "paper_bgcolor": "white",
          "plot_bgcolor": "#E5ECF6",
          "polar": {
           "angularaxis": {
            "gridcolor": "white",
            "linecolor": "white",
            "ticks": ""
           },
           "bgcolor": "#E5ECF6",
           "radialaxis": {
            "gridcolor": "white",
            "linecolor": "white",
            "ticks": ""
           }
          },
          "scene": {
           "xaxis": {
            "backgroundcolor": "#E5ECF6",
            "gridcolor": "white",
            "gridwidth": 2,
            "linecolor": "white",
            "showbackground": true,
            "ticks": "",
            "zerolinecolor": "white"
           },
           "yaxis": {
            "backgroundcolor": "#E5ECF6",
            "gridcolor": "white",
            "gridwidth": 2,
            "linecolor": "white",
            "showbackground": true,
            "ticks": "",
            "zerolinecolor": "white"
           },
           "zaxis": {
            "backgroundcolor": "#E5ECF6",
            "gridcolor": "white",
            "gridwidth": 2,
            "linecolor": "white",
            "showbackground": true,
            "ticks": "",
            "zerolinecolor": "white"
           }
          },
          "shapedefaults": {
           "line": {
            "color": "#2a3f5f"
           }
          },
          "ternary": {
           "aaxis": {
            "gridcolor": "white",
            "linecolor": "white",
            "ticks": ""
           },
           "baxis": {
            "gridcolor": "white",
            "linecolor": "white",
            "ticks": ""
           },
           "bgcolor": "#E5ECF6",
           "caxis": {
            "gridcolor": "white",
            "linecolor": "white",
            "ticks": ""
           }
          },
          "title": {
           "x": 0.05
          },
          "xaxis": {
           "automargin": true,
           "gridcolor": "white",
           "linecolor": "white",
           "ticks": "",
           "title": {
            "standoff": 15
           },
           "zerolinecolor": "white",
           "zerolinewidth": 2
          },
          "yaxis": {
           "automargin": true,
           "gridcolor": "white",
           "linecolor": "white",
           "ticks": "",
           "title": {
            "standoff": 15
           },
           "zerolinecolor": "white",
           "zerolinewidth": 2
          }
         }
        },
        "title": {
         "text": "Year 2021"
        },
        "width": 800
       }
      },
      "image/png": "[encoded data removed]",
      "text/html": [
       "<div>                            <div id=\"b43698ea-73f8-4265-bcde-ba6744a04583\" class=\"plotly-graph-div\" style=\"height:400px; width:800px;\"></div>            <script type=\"text/javascript\">                require([\"plotly\"], function(Plotly) {                    window.PLOTLYENV=window.PLOTLYENV || {};                                    if (document.getElementById(\"b43698ea-73f8-4265-bcde-ba6744a04583\")) {                    Plotly.newPlot(                        \"b43698ea-73f8-4265-bcde-ba6744a04583\",                        [{\"coloraxis\":\"coloraxis\",\"geo\":\"geo\",\"hovertemplate\":\"Country=%{location}<br>Responses=%{z}<extra></extra>\",\"locationmode\":\"country names\",\"locations\":[\"Algeria\",\"Argentina\",\"Australia\",\"Austria\",\"Bangladesh\",\"Belarus\",\"Belgium\",\"Brazil\",\"Canada\",\"Chile\",\"China\",\"Colombia\",\"Czech Republic\",\"Denmark\",\"Ecuador\",\"Egypt\",\"Ethiopia\",\"France\",\"Germany\",\"Ghana\",\"Greece\",\"Hong Kong (S.A.R.)\",\"I do not wish to disclose my location\",\"India\",\"Indonesia\",\"Iran, Islamic Republic of...\",\"Iraq\",\"Ireland\",\"Israel\",\"Italy\",\"Japan\",\"Kazakhstan\",\"Kenya\",\"Malaysia\",\"Mexico\",\"Morocco\",\"Nepal\",\"Netherlands\",\"Nigeria\",\"Norway\",\"Other\",\"Pakistan\",\"Peru\",\"Philippines\",\"Poland\",\"Portugal\",\"Romania\",\"Russia\",\"Saudi Arabia\",\"Singapore\",\"South Africa\",\"South Korea\",\"Spain\",\"Sri Lanka\",\"Sweden\",\"Switzerland\",\"Taiwan\",\"Thailand\",\"Tunisia\",\"Turkey\",\"Uganda\",\"Ukraine\",\"United Arab Emirates\",\"United Kingdom of Great Britain and Northern Ireland\",\"United States of America\",\"Viet Nam\"],\"name\":\"\",\"z\":[12,24,38,8,43,6,8,81,64,9,106,25,11,6,8,127,2,67,81,8,16,14,8,1656,96,52,8,8,24,30,68,7,53,43,33,27,7,25,107,10,227,81,5,26,30,29,16,104,27,38,28,72,57,36,11,13,81,24,42,79,9,30,28,113,606,52],\"type\":\"choropleth\"}],                        {\"template\":{\"data\":{\"bar\":[{\"error_x\":{\"color\":\"#2a3f5f\"},\"error_y\":{\"color\":\"#2a3f5f\"},\"marker\":{\"line\":{\"color\":\"#E5ECF6\",\"width\":0.5},\"pattern\":{\"fillmode\":\"overlay\",\"size\":10,\"solidity\":0.2}},\"type\":\"bar\"}],\"barpolar\":[{\"marker\":{\"line\":{\"color\":\"#E5ECF6\",\"width\":0.5},\"pattern\":{\"fillmode\":\"overlay\",\"size\":10,\"solidity\":0.2}},\"type\":\"barpolar\"}],\"carpet\":[{\"aaxis\":{\"endlinecolor\":\"#2a3f5f\",\"gridcolor\":\"white\",\"linecolor\":\"white\",\"minorgridcolor\":\"white\",\"startlinecolor\":\"#2a3f5f\"},\"baxis\":{\"endlinecolor\":\"#2a3f5f\",\"gridcolor\":\"white\",\"linecolor\":\"white\",\"minorgridcolor\":\"white\",\"startlinecolor\":\"#2a3f5f\"},\"type\":\"carpet\"}],\"choropleth\":[{\"colorbar\":{\"outlinewidth\":0,\"ticks\":\"\"},\"type\":\"choropleth\"}],\"contour\":[{\"colorbar\":{\"outlinewidth\":0,\"ticks\":\"\"},\"colorscale\":[[0.0,\"#0d0887\"],[0.1111111111111111,\"#46039f\"],[0.2222222222222222,\"#7201a8\"],[0.3333333333333333,\"#9c179e\"],[0.4444444444444444,\"#bd3786\"],[0.5555555555555556,\"#d8576b\"],[0.6666666666666666,\"#ed7953\"],[0.7777777777777778,\"#fb9f3a\"],[0.8888888888888888,\"#fdca26\"],[1.0,\"#f0f921\"]],\"type\":\"contour\"}],\"contourcarpet\":[{\"colorbar\":{\"outlinewidth\":0,\"ticks\":\"\"},\"type\":\"contourcarpet\"}],\"heatmap\":[{\"colorbar\":{\"outlinewidth\":0,\"ticks\":\"\"},\"colorscale\":[[0.0,\"#0d0887\"],[0.1111111111111111,\"#46039f\"],[0.2222222222222222,\"#7201a8\"],[0.3333333333333333,\"#9c179e\"],[0.4444444444444444,\"#bd3786\"],[0.5555555555555556,\"#d8576b\"],[0.6666666666666666,\"#ed7953\"],[0.7777777777777778,\"#fb9f3a\"],[0.8888888888888888,\"#fdca26\"],[1.0,\"#f0f921\"]],\"type\":\"heatmap\"}],\"heatmapgl\":[{\"colorbar\":{\"outlinewidth\":0,\"ticks\":\"\"},\"colorscale\":[[0.0,\"#0d0887\"],[0.1111111111111111,\"#46039f\"],[0.2222222222222222,\"#7201a8\"],[0.3333333333333333,\"#9c179e\"],[0.4444444444444444,\"#bd3786\"],[0.5555555555555556,\"#d8576b\"],[0.6666666666666666,\"#ed7953\"],[0.7777777777777778,\"#fb9f3a\"],[0.8888888888888888,\"#fdca26\"],[1.0,\"#f0f921\"]],\"type\":\"heatmapgl\"}],\"histogram\":[{\"marker\":{\"pattern\":{\"fillmode\":\"overlay\",\"size\":10,\"solidity\":0.2}},\"type\":\"histogram\"}],\"histogram2d\":[{\"colorbar\":{\"outlinewidth\":0,\"ticks\":\"\"},\"colorscale\":[[0.0,\"#0d0887\"],[0.1111111111111111,\"#46039f\"],[0.2222222222222222,\"#7201a8\"],[0.3333333333333333,\"#9c179e\"],[0.4444444444444444,\"#bd3786\"],[0.5555555555555556,\"#d8576b\"],[0.6666666666666666,\"#ed7953\"],[0.7777777777777778,\"#fb9f3a\"],[0.8888888888888888,\"#fdca26\"],[1.0,\"#f0f921\"]],\"type\":\"histogram2d\"}],\"histogram2dcontour\":[{\"colorbar\":{\"outlinewidth\":0,\"ticks\":\"\"},\"colorscale\":[[0.0,\"#0d0887\"],[0.1111111111111111,\"#46039f\"],[0.2222222222222222,\"#7201a8\"],[0.3333333333333333,\"#9c179e\"],[0.4444444444444444,\"#bd3786\"],[0.5555555555555556,\"#d8576b\"],[0.6666666666666666,\"#ed7953\"],[0.7777777777777778,\"#fb9f3a\"],[0.8888888888888888,\"#fdca26\"],[1.0,\"#f0f921\"]],\"type\":\"histogram2dcontour\"}],\"mesh3d\":[{\"colorbar\":{\"outlinewidth\":0,\"ticks\":\"\"},\"type\":\"mesh3d\"}],\"parcoords\":[{\"line\":{\"colorbar\":{\"outlinewidth\":0,\"ticks\":\"\"}},\"type\":\"parcoords\"}],\"pie\":[{\"automargin\":true,\"type\":\"pie\"}],\"scatter\":[{\"marker\":{\"colorbar\":{\"outlinewidth\":0,\"ticks\":\"\"}},\"type\":\"scatter\"}],\"scatter3d\":[{\"line\":{\"colorbar\":{\"outlinewidth\":0,\"ticks\":\"\"}},\"marker\":{\"colorbar\":{\"outlinewidth\":0,\"ticks\":\"\"}},\"type\":\"scatter3d\"}],\"scattercarpet\":[{\"marker\":{\"colorbar\":{\"outlinewidth\":0,\"ticks\":\"\"}},\"type\":\"scattercarpet\"}],\"scattergeo\":[{\"marker\":{\"colorbar\":{\"outlinewidth\":0,\"ticks\":\"\"}},\"type\":\"scattergeo\"}],\"scattergl\":[{\"marker\":{\"colorbar\":{\"outlinewidth\":0,\"ticks\":\"\"}},\"type\":\"scattergl\"}],\"scattermapbox\":[{\"marker\":{\"colorbar\":{\"outlinewidth\":0,\"ticks\":\"\"}},\"type\":\"scattermapbox\"}],\"scatterpolar\":[{\"marker\":{\"colorbar\":{\"outlinewidth\":0,\"ticks\":\"\"}},\"type\":\"scatterpolar\"}],\"scatterpolargl\":[{\"marker\":{\"colorbar\":{\"outlinewidth\":0,\"ticks\":\"\"}},\"type\":\"scatterpolargl\"}],\"scatterternary\":[{\"marker\":{\"colorbar\":{\"outlinewidth\":0,\"ticks\":\"\"}},\"type\":\"scatterternary\"}],\"surface\":[{\"colorbar\":{\"outlinewidth\":0,\"ticks\":\"\"},\"colorscale\":[[0.0,\"#0d0887\"],[0.1111111111111111,\"#46039f\"],[0.2222222222222222,\"#7201a8\"],[0.3333333333333333,\"#9c179e\"],[0.4444444444444444,\"#bd3786\"],[0.5555555555555556,\"#d8576b\"],[0.6666666666666666,\"#ed7953\"],[0.7777777777777778,\"#fb9f3a\"],[0.8888888888888888,\"#fdca26\"],[1.0,\"#f0f921\"]],\"type\":\"surface\"}],\"table\":[{\"cells\":{\"fill\":{\"color\":\"#EBF0F8\"},\"line\":{\"color\":\"white\"}},\"header\":{\"fill\":{\"color\":\"#C8D4E3\"},\"line\":{\"color\":\"white\"}},\"type\":\"table\"}]},\"layout\":{\"annotationdefaults\":{\"arrowcolor\":\"#2a3f5f\",\"arrowhead\":0,\"arrowwidth\":1},\"autotypenumbers\":\"strict\",\"coloraxis\":{\"colorbar\":{\"outlinewidth\":0,\"ticks\":\"\"}},\"colorscale\":{\"diverging\":[[0,\"#8e0152\"],[0.1,\"#c51b7d\"],[0.2,\"#de77ae\"],[0.3,\"#f1b6da\"],[0.4,\"#fde0ef\"],[0.5,\"#f7f7f7\"],[0.6,\"#e6f5d0\"],[0.7,\"#b8e186\"],[0.8,\"#7fbc41\"],[0.9,\"#4d9221\"],[1,\"#276419\"]],\"sequential\":[[0.0,\"#0d0887\"],[0.1111111111111111,\"#46039f\"],[0.2222222222222222,\"#7201a8\"],[0.3333333333333333,\"#9c179e\"],[0.4444444444444444,\"#bd3786\"],[0.5555555555555556,\"#d8576b\"],[0.6666666666666666,\"#ed7953\"],[0.7777777777777778,\"#fb9f3a\"],[0.8888888888888888,\"#fdca26\"],[1.0,\"#f0f921\"]],\"sequentialminus\":[[0.0,\"#0d0887\"],[0.1111111111111111,\"#46039f\"],[0.2222222222222222,\"#7201a8\"],[0.3333333333333333,\"#9c179e\"],[0.4444444444444444,\"#bd3786\"],[0.5555555555555556,\"#d8576b\"],[0.6666666666666666,\"#ed7953\"],[0.7777777777777778,\"#fb9f3a\"],[0.8888888888888888,\"#fdca26\"],[1.0,\"#f0f921\"]]},\"colorway\":[\"#636efa\",\"#EF553B\",\"#00cc96\",\"#ab63fa\",\"#FFA15A\",\"#19d3f3\",\"#FF6692\",\"#B6E880\",\"#FF97FF\",\"#FECB52\"],\"font\":{\"color\":\"#2a3f5f\"},\"geo\":{\"bgcolor\":\"white\",\"lakecolor\":\"white\",\"landcolor\":\"#E5ECF6\",\"showlakes\":true,\"showland\":true,\"subunitcolor\":\"white\"},\"hoverlabel\":{\"align\":\"left\"},\"hovermode\":\"closest\",\"mapbox\":{\"style\":\"light\"},\"paper_bgcolor\":\"white\",\"plot_bgcolor\":\"#E5ECF6\",\"polar\":{\"angularaxis\":{\"gridcolor\":\"white\",\"linecolor\":\"white\",\"ticks\":\"\"},\"bgcolor\":\"#E5ECF6\",\"radialaxis\":{\"gridcolor\":\"white\",\"linecolor\":\"white\",\"ticks\":\"\"}},\"scene\":{\"xaxis\":{\"backgroundcolor\":\"#E5ECF6\",\"gridcolor\":\"white\",\"gridwidth\":2,\"linecolor\":\"white\",\"showbackground\":true,\"ticks\":\"\",\"zerolinecolor\":\"white\"},\"yaxis\":{\"backgroundcolor\":\"#E5ECF6\",\"gridcolor\":\"white\",\"gridwidth\":2,\"linecolor\":\"white\",\"showbackground\":true,\"ticks\":\"\",\"zerolinecolor\":\"white\"},\"zaxis\":{\"backgroundcolor\":\"#E5ECF6\",\"gridcolor\":\"white\",\"gridwidth\":2,\"linecolor\":\"white\",\"showbackground\":true,\"ticks\":\"\",\"zerolinecolor\":\"white\"}},\"shapedefaults\":{\"line\":{\"color\":\"#2a3f5f\"}},\"ternary\":{\"aaxis\":{\"gridcolor\":\"white\",\"linecolor\":\"white\",\"ticks\":\"\"},\"baxis\":{\"gridcolor\":\"white\",\"linecolor\":\"white\",\"ticks\":\"\"},\"bgcolor\":\"#E5ECF6\",\"caxis\":{\"gridcolor\":\"white\",\"linecolor\":\"white\",\"ticks\":\"\"}},\"title\":{\"x\":0.05},\"xaxis\":{\"automargin\":true,\"gridcolor\":\"white\",\"linecolor\":\"white\",\"ticks\":\"\",\"title\":{\"standoff\":15},\"zerolinecolor\":\"white\",\"zerolinewidth\":2},\"yaxis\":{\"automargin\":true,\"gridcolor\":\"white\",\"linecolor\":\"white\",\"ticks\":\"\",\"title\":{\"standoff\":15},\"zerolinecolor\":\"white\",\"zerolinewidth\":2}}},\"geo\":{\"domain\":{\"x\":[0.0,1.0],\"y\":[0.0,1.0]},\"center\":{}},\"coloraxis\":{\"colorbar\":{\"title\":{\"text\":\"Responses\"}},\"colorscale\":[[0.0,\"#30123b\"],[0.07142857142857142,\"#4145ab\"],[0.14285714285714285,\"#4675ed\"],[0.21428571428571427,\"#39a2fc\"],[0.2857142857142857,\"#1bcfd4\"],[0.35714285714285715,\"#24eca6\"],[0.42857142857142855,\"#61fc6c\"],[0.5,\"#a4fc3b\"],[0.5714285714285714,\"#d1e834\"],[0.6428571428571429,\"#f3c63a\"],[0.7142857142857143,\"#fe9b2d\"],[0.7857142857142857,\"#f36315\"],[0.8571428571428571,\"#d93806\"],[0.9285714285714286,\"#b11901\"],[1.0,\"#7a0402\"]]},\"legend\":{\"tracegroupgap\":0},\"title\":{\"text\":\"Year 2021\"},\"height\":400,\"width\":800},                        {\"responsive\": true}                    ).then(function(){\n",
       "                            \n",
       "var gd = document.getElementById('b43698ea-73f8-4265-bcde-ba6744a04583');\n",
       "var x = new MutationObserver(function (mutations, observer) {{\n",
       "        var display = window.getComputedStyle(gd).display;\n",
       "        if (!display || display === 'none') {{\n",
       "            console.log([gd, 'removed!']);\n",
       "            Plotly.purge(gd);\n",
       "            observer.disconnect();\n",
       "        }}\n",
       "}});\n",
       "\n",
       "// Listen for the removal of the full notebook cells\n",
       "var notebookContainer = gd.closest('#notebook-container');\n",
       "if (notebookContainer) {{\n",
       "    x.observe(notebookContainer, {childList: true});\n",
       "}}\n",
       "\n",
       "// Listen for the clearing of the current output cell\n",
       "var outputEl = gd.closest('.output');\n",
       "if (outputEl) {{\n",
       "    x.observe(outputEl, {childList: true});\n",
       "}}\n",
       "\n",
       "                        })                };                });            </script>        </div>"
      ]
     },
     "metadata": {},
     "output_type": "display_data"
    }
   ],
   "source": [
    "plotworld(\"r/r2021.csv\", \"Year 2021\")"
   ]
  },
  {
   "cell_type": "code",
   "execution_count": 14,
   "id": "efdcab40-5909-449f-bd1d-58667b9aeddb",
   "metadata": {},
   "outputs": [
    {
     "data": {
      "application/vnd.plotly.v1+json": {
       "config": {
        "plotlyServerURL": "https://plot.ly"
       },
       "data": [
        {
         "coloraxis": "coloraxis",
         "geo": "geo",
         "hovertemplate": "Country=%{location}<br>Responses=%{z}<extra></extra>",
         "locationmode": "country names",
         "locations": [
          "India",
          "United States of America",
          "Other",
          "Brazil",
          "United Kingdom of Great Britain and Northern Ireland",
          "Turkey",
          "Nigeria",
          "Russia",
          "Indonesia",
          "Canada",
          "China",
          "Germany",
          "Iran, Islamic Republic of...",
          "Taiwan",
          "France",
          "Malaysia",
          "Pakistan",
          "Spain",
          "Egypt",
          "Japan",
          "South Korea",
          "Australia",
          "Singapore",
          "Tunisia",
          "Mexico",
          "Thailand",
          "Portugal",
          "Italy",
          "Philippines",
          "Morocco",
          "South Africa",
          "Kenya",
          "Poland",
          "Bangladesh",
          "Ukraine",
          "Sri Lanka",
          "Netherlands",
          "Viet Nam",
          "Colombia",
          "Saudi Arabia",
          "Argentina",
          "Ireland",
          "Israel",
          "Peru",
          "Sweden",
          "Romania",
          "Switzerland",
          "Greece",
          "United Arab Emirates",
          "Belarus",
          "Nepal",
          "Belgium",
          "Chile",
          "Ghana",
          "Republic of Korea"
         ],
         "name": "",
         "type": "choropleth",
         "z": [
          1289,
          483,
          241,
          93,
          91,
          87,
          81,
          80,
          79,
          71,
          69,
          66,
          59,
          58,
          54,
          51,
          48,
          44,
          43,
          42,
          39,
          38,
          37,
          37,
          33,
          32,
          31,
          29,
          29,
          28,
          28,
          26,
          25,
          24,
          23,
          22,
          22,
          21,
          21,
          20,
          20,
          17,
          16,
          15,
          14,
          13,
          12,
          12,
          12,
          12,
          10,
          10,
          8,
          7,
          6
         ]
        }
       ],
       "layout": {
        "coloraxis": {
         "colorbar": {
          "title": {
           "text": "Responses"
          }
         },
         "colorscale": [
          [
           0,
           "#30123b"
          ],
          [
           0.07142857142857142,
           "#4145ab"
          ],
          [
           0.14285714285714285,
           "#4675ed"
          ],
          [
           0.21428571428571427,
           "#39a2fc"
          ],
          [
           0.2857142857142857,
           "#1bcfd4"
          ],
          [
           0.35714285714285715,
           "#24eca6"
          ],
          [
           0.42857142857142855,
           "#61fc6c"
          ],
          [
           0.5,
           "#a4fc3b"
          ],
          [
           0.5714285714285714,
           "#d1e834"
          ],
          [
           0.6428571428571429,
           "#f3c63a"
          ],
          [
           0.7142857142857143,
           "#fe9b2d"
          ],
          [
           0.7857142857142857,
           "#f36315"
          ],
          [
           0.8571428571428571,
           "#d93806"
          ],
          [
           0.9285714285714286,
           "#b11901"
          ],
          [
           1,
           "#7a0402"
          ]
         ]
        },
        "geo": {
         "center": {},
         "domain": {
          "x": [
           0,
           1
          ],
          "y": [
           0,
           1
          ]
         }
        },
        "height": 400,
        "legend": {
         "tracegroupgap": 0
        },
        "template": {
         "data": {
          "bar": [
           {
            "error_x": {
             "color": "#2a3f5f"
            },
            "error_y": {
             "color": "#2a3f5f"
            },
            "marker": {
             "line": {
              "color": "#E5ECF6",
              "width": 0.5
             },
             "pattern": {
              "fillmode": "overlay",
              "size": 10,
              "solidity": 0.2
             }
            },
            "type": "bar"
           }
          ],
          "barpolar": [
           {
            "marker": {
             "line": {
              "color": "#E5ECF6",
              "width": 0.5
             },
             "pattern": {
              "fillmode": "overlay",
              "size": 10,
              "solidity": 0.2
             }
            },
            "type": "barpolar"
           }
          ],
          "carpet": [
           {
            "aaxis": {
             "endlinecolor": "#2a3f5f",
             "gridcolor": "white",
             "linecolor": "white",
             "minorgridcolor": "white",
             "startlinecolor": "#2a3f5f"
            },
            "baxis": {
             "endlinecolor": "#2a3f5f",
             "gridcolor": "white",
             "linecolor": "white",
             "minorgridcolor": "white",
             "startlinecolor": "#2a3f5f"
            },
            "type": "carpet"
           }
          ],
          "choropleth": [
           {
            "colorbar": {
             "outlinewidth": 0,
             "ticks": ""
            },
            "type": "choropleth"
           }
          ],
          "contour": [
           {
            "colorbar": {
             "outlinewidth": 0,
             "ticks": ""
            },
            "colorscale": [
             [
              0,
              "#0d0887"
             ],
             [
              0.1111111111111111,
              "#46039f"
             ],
             [
              0.2222222222222222,
              "#7201a8"
             ],
             [
              0.3333333333333333,
              "#9c179e"
             ],
             [
              0.4444444444444444,
              "#bd3786"
             ],
             [
              0.5555555555555556,
              "#d8576b"
             ],
             [
              0.6666666666666666,
              "#ed7953"
             ],
             [
              0.7777777777777778,
              "#fb9f3a"
             ],
             [
              0.8888888888888888,
              "#fdca26"
             ],
             [
              1,
              "#f0f921"
             ]
            ],
            "type": "contour"
           }
          ],
          "contourcarpet": [
           {
            "colorbar": {
             "outlinewidth": 0,
             "ticks": ""
            },
            "type": "contourcarpet"
           }
          ],
          "heatmap": [
           {
            "colorbar": {
             "outlinewidth": 0,
             "ticks": ""
            },
            "colorscale": [
             [
              0,
              "#0d0887"
             ],
             [
              0.1111111111111111,
              "#46039f"
             ],
             [
              0.2222222222222222,
              "#7201a8"
             ],
             [
              0.3333333333333333,
              "#9c179e"
             ],
             [
              0.4444444444444444,
              "#bd3786"
             ],
             [
              0.5555555555555556,
              "#d8576b"
             ],
             [
              0.6666666666666666,
              "#ed7953"
             ],
             [
              0.7777777777777778,
              "#fb9f3a"
             ],
             [
              0.8888888888888888,
              "#fdca26"
             ],
             [
              1,
              "#f0f921"
             ]
            ],
            "type": "heatmap"
           }
          ],
          "heatmapgl": [
           {
            "colorbar": {
             "outlinewidth": 0,
             "ticks": ""
            },
            "colorscale": [
             [
              0,
              "#0d0887"
             ],
             [
              0.1111111111111111,
              "#46039f"
             ],
             [
              0.2222222222222222,
              "#7201a8"
             ],
             [
              0.3333333333333333,
              "#9c179e"
             ],
             [
              0.4444444444444444,
              "#bd3786"
             ],
             [
              0.5555555555555556,
              "#d8576b"
             ],
             [
              0.6666666666666666,
              "#ed7953"
             ],
             [
              0.7777777777777778,
              "#fb9f3a"
             ],
             [
              0.8888888888888888,
              "#fdca26"
             ],
             [
              1,
              "#f0f921"
             ]
            ],
            "type": "heatmapgl"
           }
          ],
          "histogram": [
           {
            "marker": {
             "pattern": {
              "fillmode": "overlay",
              "size": 10,
              "solidity": 0.2
             }
            },
            "type": "histogram"
           }
          ],
          "histogram2d": [
           {
            "colorbar": {
             "outlinewidth": 0,
             "ticks": ""
            },
            "colorscale": [
             [
              0,
              "#0d0887"
             ],
             [
              0.1111111111111111,
              "#46039f"
             ],
             [
              0.2222222222222222,
              "#7201a8"
             ],
             [
              0.3333333333333333,
              "#9c179e"
             ],
             [
              0.4444444444444444,
              "#bd3786"
             ],
             [
              0.5555555555555556,
              "#d8576b"
             ],
             [
              0.6666666666666666,
              "#ed7953"
             ],
             [
              0.7777777777777778,
              "#fb9f3a"
             ],
             [
              0.8888888888888888,
              "#fdca26"
             ],
             [
              1,
              "#f0f921"
             ]
            ],
            "type": "histogram2d"
           }
          ],
          "histogram2dcontour": [
           {
            "colorbar": {
             "outlinewidth": 0,
             "ticks": ""
            },
            "colorscale": [
             [
              0,
              "#0d0887"
             ],
             [
              0.1111111111111111,
              "#46039f"
             ],
             [
              0.2222222222222222,
              "#7201a8"
             ],
             [
              0.3333333333333333,
              "#9c179e"
             ],
             [
              0.4444444444444444,
              "#bd3786"
             ],
             [
              0.5555555555555556,
              "#d8576b"
             ],
             [
              0.6666666666666666,
              "#ed7953"
             ],
             [
              0.7777777777777778,
              "#fb9f3a"
             ],
             [
              0.8888888888888888,
              "#fdca26"
             ],
             [
              1,
              "#f0f921"
             ]
            ],
            "type": "histogram2dcontour"
           }
          ],
          "mesh3d": [
           {
            "colorbar": {
             "outlinewidth": 0,
             "ticks": ""
            },
            "type": "mesh3d"
           }
          ],
          "parcoords": [
           {
            "line": {
             "colorbar": {
              "outlinewidth": 0,
              "ticks": ""
             }
            },
            "type": "parcoords"
           }
          ],
          "pie": [
           {
            "automargin": true,
            "type": "pie"
           }
          ],
          "scatter": [
           {
            "marker": {
             "colorbar": {
              "outlinewidth": 0,
              "ticks": ""
             }
            },
            "type": "scatter"
           }
          ],
          "scatter3d": [
           {
            "line": {
             "colorbar": {
              "outlinewidth": 0,
              "ticks": ""
             }
            },
            "marker": {
             "colorbar": {
              "outlinewidth": 0,
              "ticks": ""
             }
            },
            "type": "scatter3d"
           }
          ],
          "scattercarpet": [
           {
            "marker": {
             "colorbar": {
              "outlinewidth": 0,
              "ticks": ""
             }
            },
            "type": "scattercarpet"
           }
          ],
          "scattergeo": [
           {
            "marker": {
             "colorbar": {
              "outlinewidth": 0,
              "ticks": ""
             }
            },
            "type": "scattergeo"
           }
          ],
          "scattergl": [
           {
            "marker": {
             "colorbar": {
              "outlinewidth": 0,
              "ticks": ""
             }
            },
            "type": "scattergl"
           }
          ],
          "scattermapbox": [
           {
            "marker": {
             "colorbar": {
              "outlinewidth": 0,
              "ticks": ""
             }
            },
            "type": "scattermapbox"
           }
          ],
          "scatterpolar": [
           {
            "marker": {
             "colorbar": {
              "outlinewidth": 0,
              "ticks": ""
             }
            },
            "type": "scatterpolar"
           }
          ],
          "scatterpolargl": [
           {
            "marker": {
             "colorbar": {
              "outlinewidth": 0,
              "ticks": ""
             }
            },
            "type": "scatterpolargl"
           }
          ],
          "scatterternary": [
           {
            "marker": {
             "colorbar": {
              "outlinewidth": 0,
              "ticks": ""
             }
            },
            "type": "scatterternary"
           }
          ],
          "surface": [
           {
            "colorbar": {
             "outlinewidth": 0,
             "ticks": ""
            },
            "colorscale": [
             [
              0,
              "#0d0887"
             ],
             [
              0.1111111111111111,
              "#46039f"
             ],
             [
              0.2222222222222222,
              "#7201a8"
             ],
             [
              0.3333333333333333,
              "#9c179e"
             ],
             [
              0.4444444444444444,
              "#bd3786"
             ],
             [
              0.5555555555555556,
              "#d8576b"
             ],
             [
              0.6666666666666666,
              "#ed7953"
             ],
             [
              0.7777777777777778,
              "#fb9f3a"
             ],
             [
              0.8888888888888888,
              "#fdca26"
             ],
             [
              1,
              "#f0f921"
             ]
            ],
            "type": "surface"
           }
          ],
          "table": [
           {
            "cells": {
             "fill": {
              "color": "#EBF0F8"
             },
             "line": {
              "color": "white"
             }
            },
            "header": {
             "fill": {
              "color": "#C8D4E3"
             },
             "line": {
              "color": "white"
             }
            },
            "type": "table"
           }
          ]
         },
         "layout": {
          "annotationdefaults": {
           "arrowcolor": "#2a3f5f",
           "arrowhead": 0,
           "arrowwidth": 1
          },
          "autotypenumbers": "strict",
          "coloraxis": {
           "colorbar": {
            "outlinewidth": 0,
            "ticks": ""
           }
          },
          "colorscale": {
           "diverging": [
            [
             0,
             "#8e0152"
            ],
            [
             0.1,
             "#c51b7d"
            ],
            [
             0.2,
             "#de77ae"
            ],
            [
             0.3,
             "#f1b6da"
            ],
            [
             0.4,
             "#fde0ef"
            ],
            [
             0.5,
             "#f7f7f7"
            ],
            [
             0.6,
             "#e6f5d0"
            ],
            [
             0.7,
             "#b8e186"
            ],
            [
             0.8,
             "#7fbc41"
            ],
            [
             0.9,
             "#4d9221"
            ],
            [
             1,
             "#276419"
            ]
           ],
           "sequential": [
            [
             0,
             "#0d0887"
            ],
            [
             0.1111111111111111,
             "#46039f"
            ],
            [
             0.2222222222222222,
             "#7201a8"
            ],
            [
             0.3333333333333333,
             "#9c179e"
            ],
            [
             0.4444444444444444,
             "#bd3786"
            ],
            [
             0.5555555555555556,
             "#d8576b"
            ],
            [
             0.6666666666666666,
             "#ed7953"
            ],
            [
             0.7777777777777778,
             "#fb9f3a"
            ],
            [
             0.8888888888888888,
             "#fdca26"
            ],
            [
             1,
             "#f0f921"
            ]
           ],
           "sequentialminus": [
            [
             0,
             "#0d0887"
            ],
            [
             0.1111111111111111,
             "#46039f"
            ],
            [
             0.2222222222222222,
             "#7201a8"
            ],
            [
             0.3333333333333333,
             "#9c179e"
            ],
            [
             0.4444444444444444,
             "#bd3786"
            ],
            [
             0.5555555555555556,
             "#d8576b"
            ],
            [
             0.6666666666666666,
             "#ed7953"
            ],
            [
             0.7777777777777778,
             "#fb9f3a"
            ],
            [
             0.8888888888888888,
             "#fdca26"
            ],
            [
             1,
             "#f0f921"
            ]
           ]
          },
          "colorway": [
           "#636efa",
           "#EF553B",
           "#00cc96",
           "#ab63fa",
           "#FFA15A",
           "#19d3f3",
           "#FF6692",
           "#B6E880",
           "#FF97FF",
           "#FECB52"
          ],
          "font": {
           "color": "#2a3f5f"
          },
          "geo": {
           "bgcolor": "white",
           "lakecolor": "white",
           "landcolor": "#E5ECF6",
           "showlakes": true,
           "showland": true,
           "subunitcolor": "white"
          },
          "hoverlabel": {
           "align": "left"
          },
          "hovermode": "closest",
          "mapbox": {
           "style": "light"
          },
          "paper_bgcolor": "white",
          "plot_bgcolor": "#E5ECF6",
          "polar": {
           "angularaxis": {
            "gridcolor": "white",
            "linecolor": "white",
            "ticks": ""
           },
           "bgcolor": "#E5ECF6",
           "radialaxis": {
            "gridcolor": "white",
            "linecolor": "white",
            "ticks": ""
           }
          },
          "scene": {
           "xaxis": {
            "backgroundcolor": "#E5ECF6",
            "gridcolor": "white",
            "gridwidth": 2,
            "linecolor": "white",
            "showbackground": true,
            "ticks": "",
            "zerolinecolor": "white"
           },
           "yaxis": {
            "backgroundcolor": "#E5ECF6",
            "gridcolor": "white",
            "gridwidth": 2,
            "linecolor": "white",
            "showbackground": true,
            "ticks": "",
            "zerolinecolor": "white"
           },
           "zaxis": {
            "backgroundcolor": "#E5ECF6",
            "gridcolor": "white",
            "gridwidth": 2,
            "linecolor": "white",
            "showbackground": true,
            "ticks": "",
            "zerolinecolor": "white"
           }
          },
          "shapedefaults": {
           "line": {
            "color": "#2a3f5f"
           }
          },
          "ternary": {
           "aaxis": {
            "gridcolor": "white",
            "linecolor": "white",
            "ticks": ""
           },
           "baxis": {
            "gridcolor": "white",
            "linecolor": "white",
            "ticks": ""
           },
           "bgcolor": "#E5ECF6",
           "caxis": {
            "gridcolor": "white",
            "linecolor": "white",
            "ticks": ""
           }
          },
          "title": {
           "x": 0.05
          },
          "xaxis": {
           "automargin": true,
           "gridcolor": "white",
           "linecolor": "white",
           "ticks": "",
           "title": {
            "standoff": 15
           },
           "zerolinecolor": "white",
           "zerolinewidth": 2
          },
          "yaxis": {
           "automargin": true,
           "gridcolor": "white",
           "linecolor": "white",
           "ticks": "",
           "title": {
            "standoff": 15
           },
           "zerolinecolor": "white",
           "zerolinewidth": 2
          }
         }
        },
        "title": {
         "text": "Year 2020"
        },
        "width": 800
       }
      },
      "image/png": "[encoded data removed]",
      "text/html": [
       "<div>                            <div id=\"b19d0646-563f-4152-8d12-1910567c611e\" class=\"plotly-graph-div\" style=\"height:400px; width:800px;\"></div>            <script type=\"text/javascript\">                require([\"plotly\"], function(Plotly) {                    window.PLOTLYENV=window.PLOTLYENV || {};                                    if (document.getElementById(\"b19d0646-563f-4152-8d12-1910567c611e\")) {                    Plotly.newPlot(                        \"b19d0646-563f-4152-8d12-1910567c611e\",                        [{\"coloraxis\":\"coloraxis\",\"geo\":\"geo\",\"hovertemplate\":\"Country=%{location}<br>Responses=%{z}<extra></extra>\",\"locationmode\":\"country names\",\"locations\":[\"India\",\"United States of America\",\"Other\",\"Brazil\",\"United Kingdom of Great Britain and Northern Ireland\",\"Turkey\",\"Nigeria\",\"Russia\",\"Indonesia\",\"Canada\",\"China\",\"Germany\",\"Iran, Islamic Republic of...\",\"Taiwan\",\"France\",\"Malaysia\",\"Pakistan\",\"Spain\",\"Egypt\",\"Japan\",\"South Korea\",\"Australia\",\"Singapore\",\"Tunisia\",\"Mexico\",\"Thailand\",\"Portugal\",\"Italy\",\"Philippines\",\"Morocco\",\"South Africa\",\"Kenya\",\"Poland\",\"Bangladesh\",\"Ukraine\",\"Sri Lanka\",\"Netherlands\",\"Viet Nam\",\"Colombia\",\"Saudi Arabia\",\"Argentina\",\"Ireland\",\"Israel\",\"Peru\",\"Sweden\",\"Romania\",\"Switzerland\",\"Greece\",\"United Arab Emirates\",\"Belarus\",\"Nepal\",\"Belgium\",\"Chile\",\"Ghana\",\"Republic of Korea\"],\"name\":\"\",\"z\":[1289,483,241,93,91,87,81,80,79,71,69,66,59,58,54,51,48,44,43,42,39,38,37,37,33,32,31,29,29,28,28,26,25,24,23,22,22,21,21,20,20,17,16,15,14,13,12,12,12,12,10,10,8,7,6],\"type\":\"choropleth\"}],                        {\"template\":{\"data\":{\"bar\":[{\"error_x\":{\"color\":\"#2a3f5f\"},\"error_y\":{\"color\":\"#2a3f5f\"},\"marker\":{\"line\":{\"color\":\"#E5ECF6\",\"width\":0.5},\"pattern\":{\"fillmode\":\"overlay\",\"size\":10,\"solidity\":0.2}},\"type\":\"bar\"}],\"barpolar\":[{\"marker\":{\"line\":{\"color\":\"#E5ECF6\",\"width\":0.5},\"pattern\":{\"fillmode\":\"overlay\",\"size\":10,\"solidity\":0.2}},\"type\":\"barpolar\"}],\"carpet\":[{\"aaxis\":{\"endlinecolor\":\"#2a3f5f\",\"gridcolor\":\"white\",\"linecolor\":\"white\",\"minorgridcolor\":\"white\",\"startlinecolor\":\"#2a3f5f\"},\"baxis\":{\"endlinecolor\":\"#2a3f5f\",\"gridcolor\":\"white\",\"linecolor\":\"white\",\"minorgridcolor\":\"white\",\"startlinecolor\":\"#2a3f5f\"},\"type\":\"carpet\"}],\"choropleth\":[{\"colorbar\":{\"outlinewidth\":0,\"ticks\":\"\"},\"type\":\"choropleth\"}],\"contour\":[{\"colorbar\":{\"outlinewidth\":0,\"ticks\":\"\"},\"colorscale\":[[0.0,\"#0d0887\"],[0.1111111111111111,\"#46039f\"],[0.2222222222222222,\"#7201a8\"],[0.3333333333333333,\"#9c179e\"],[0.4444444444444444,\"#bd3786\"],[0.5555555555555556,\"#d8576b\"],[0.6666666666666666,\"#ed7953\"],[0.7777777777777778,\"#fb9f3a\"],[0.8888888888888888,\"#fdca26\"],[1.0,\"#f0f921\"]],\"type\":\"contour\"}],\"contourcarpet\":[{\"colorbar\":{\"outlinewidth\":0,\"ticks\":\"\"},\"type\":\"contourcarpet\"}],\"heatmap\":[{\"colorbar\":{\"outlinewidth\":0,\"ticks\":\"\"},\"colorscale\":[[0.0,\"#0d0887\"],[0.1111111111111111,\"#46039f\"],[0.2222222222222222,\"#7201a8\"],[0.3333333333333333,\"#9c179e\"],[0.4444444444444444,\"#bd3786\"],[0.5555555555555556,\"#d8576b\"],[0.6666666666666666,\"#ed7953\"],[0.7777777777777778,\"#fb9f3a\"],[0.8888888888888888,\"#fdca26\"],[1.0,\"#f0f921\"]],\"type\":\"heatmap\"}],\"heatmapgl\":[{\"colorbar\":{\"outlinewidth\":0,\"ticks\":\"\"},\"colorscale\":[[0.0,\"#0d0887\"],[0.1111111111111111,\"#46039f\"],[0.2222222222222222,\"#7201a8\"],[0.3333333333333333,\"#9c179e\"],[0.4444444444444444,\"#bd3786\"],[0.5555555555555556,\"#d8576b\"],[0.6666666666666666,\"#ed7953\"],[0.7777777777777778,\"#fb9f3a\"],[0.8888888888888888,\"#fdca26\"],[1.0,\"#f0f921\"]],\"type\":\"heatmapgl\"}],\"histogram\":[{\"marker\":{\"pattern\":{\"fillmode\":\"overlay\",\"size\":10,\"solidity\":0.2}},\"type\":\"histogram\"}],\"histogram2d\":[{\"colorbar\":{\"outlinewidth\":0,\"ticks\":\"\"},\"colorscale\":[[0.0,\"#0d0887\"],[0.1111111111111111,\"#46039f\"],[0.2222222222222222,\"#7201a8\"],[0.3333333333333333,\"#9c179e\"],[0.4444444444444444,\"#bd3786\"],[0.5555555555555556,\"#d8576b\"],[0.6666666666666666,\"#ed7953\"],[0.7777777777777778,\"#fb9f3a\"],[0.8888888888888888,\"#fdca26\"],[1.0,\"#f0f921\"]],\"type\":\"histogram2d\"}],\"histogram2dcontour\":[{\"colorbar\":{\"outlinewidth\":0,\"ticks\":\"\"},\"colorscale\":[[0.0,\"#0d0887\"],[0.1111111111111111,\"#46039f\"],[0.2222222222222222,\"#7201a8\"],[0.3333333333333333,\"#9c179e\"],[0.4444444444444444,\"#bd3786\"],[0.5555555555555556,\"#d8576b\"],[0.6666666666666666,\"#ed7953\"],[0.7777777777777778,\"#fb9f3a\"],[0.8888888888888888,\"#fdca26\"],[1.0,\"#f0f921\"]],\"type\":\"histogram2dcontour\"}],\"mesh3d\":[{\"colorbar\":{\"outlinewidth\":0,\"ticks\":\"\"},\"type\":\"mesh3d\"}],\"parcoords\":[{\"line\":{\"colorbar\":{\"outlinewidth\":0,\"ticks\":\"\"}},\"type\":\"parcoords\"}],\"pie\":[{\"automargin\":true,\"type\":\"pie\"}],\"scatter\":[{\"marker\":{\"colorbar\":{\"outlinewidth\":0,\"ticks\":\"\"}},\"type\":\"scatter\"}],\"scatter3d\":[{\"line\":{\"colorbar\":{\"outlinewidth\":0,\"ticks\":\"\"}},\"marker\":{\"colorbar\":{\"outlinewidth\":0,\"ticks\":\"\"}},\"type\":\"scatter3d\"}],\"scattercarpet\":[{\"marker\":{\"colorbar\":{\"outlinewidth\":0,\"ticks\":\"\"}},\"type\":\"scattercarpet\"}],\"scattergeo\":[{\"marker\":{\"colorbar\":{\"outlinewidth\":0,\"ticks\":\"\"}},\"type\":\"scattergeo\"}],\"scattergl\":[{\"marker\":{\"colorbar\":{\"outlinewidth\":0,\"ticks\":\"\"}},\"type\":\"scattergl\"}],\"scattermapbox\":[{\"marker\":{\"colorbar\":{\"outlinewidth\":0,\"ticks\":\"\"}},\"type\":\"scattermapbox\"}],\"scatterpolar\":[{\"marker\":{\"colorbar\":{\"outlinewidth\":0,\"ticks\":\"\"}},\"type\":\"scatterpolar\"}],\"scatterpolargl\":[{\"marker\":{\"colorbar\":{\"outlinewidth\":0,\"ticks\":\"\"}},\"type\":\"scatterpolargl\"}],\"scatterternary\":[{\"marker\":{\"colorbar\":{\"outlinewidth\":0,\"ticks\":\"\"}},\"type\":\"scatterternary\"}],\"surface\":[{\"colorbar\":{\"outlinewidth\":0,\"ticks\":\"\"},\"colorscale\":[[0.0,\"#0d0887\"],[0.1111111111111111,\"#46039f\"],[0.2222222222222222,\"#7201a8\"],[0.3333333333333333,\"#9c179e\"],[0.4444444444444444,\"#bd3786\"],[0.5555555555555556,\"#d8576b\"],[0.6666666666666666,\"#ed7953\"],[0.7777777777777778,\"#fb9f3a\"],[0.8888888888888888,\"#fdca26\"],[1.0,\"#f0f921\"]],\"type\":\"surface\"}],\"table\":[{\"cells\":{\"fill\":{\"color\":\"#EBF0F8\"},\"line\":{\"color\":\"white\"}},\"header\":{\"fill\":{\"color\":\"#C8D4E3\"},\"line\":{\"color\":\"white\"}},\"type\":\"table\"}]},\"layout\":{\"annotationdefaults\":{\"arrowcolor\":\"#2a3f5f\",\"arrowhead\":0,\"arrowwidth\":1},\"autotypenumbers\":\"strict\",\"coloraxis\":{\"colorbar\":{\"outlinewidth\":0,\"ticks\":\"\"}},\"colorscale\":{\"diverging\":[[0,\"#8e0152\"],[0.1,\"#c51b7d\"],[0.2,\"#de77ae\"],[0.3,\"#f1b6da\"],[0.4,\"#fde0ef\"],[0.5,\"#f7f7f7\"],[0.6,\"#e6f5d0\"],[0.7,\"#b8e186\"],[0.8,\"#7fbc41\"],[0.9,\"#4d9221\"],[1,\"#276419\"]],\"sequential\":[[0.0,\"#0d0887\"],[0.1111111111111111,\"#46039f\"],[0.2222222222222222,\"#7201a8\"],[0.3333333333333333,\"#9c179e\"],[0.4444444444444444,\"#bd3786\"],[0.5555555555555556,\"#d8576b\"],[0.6666666666666666,\"#ed7953\"],[0.7777777777777778,\"#fb9f3a\"],[0.8888888888888888,\"#fdca26\"],[1.0,\"#f0f921\"]],\"sequentialminus\":[[0.0,\"#0d0887\"],[0.1111111111111111,\"#46039f\"],[0.2222222222222222,\"#7201a8\"],[0.3333333333333333,\"#9c179e\"],[0.4444444444444444,\"#bd3786\"],[0.5555555555555556,\"#d8576b\"],[0.6666666666666666,\"#ed7953\"],[0.7777777777777778,\"#fb9f3a\"],[0.8888888888888888,\"#fdca26\"],[1.0,\"#f0f921\"]]},\"colorway\":[\"#636efa\",\"#EF553B\",\"#00cc96\",\"#ab63fa\",\"#FFA15A\",\"#19d3f3\",\"#FF6692\",\"#B6E880\",\"#FF97FF\",\"#FECB52\"],\"font\":{\"color\":\"#2a3f5f\"},\"geo\":{\"bgcolor\":\"white\",\"lakecolor\":\"white\",\"landcolor\":\"#E5ECF6\",\"showlakes\":true,\"showland\":true,\"subunitcolor\":\"white\"},\"hoverlabel\":{\"align\":\"left\"},\"hovermode\":\"closest\",\"mapbox\":{\"style\":\"light\"},\"paper_bgcolor\":\"white\",\"plot_bgcolor\":\"#E5ECF6\",\"polar\":{\"angularaxis\":{\"gridcolor\":\"white\",\"linecolor\":\"white\",\"ticks\":\"\"},\"bgcolor\":\"#E5ECF6\",\"radialaxis\":{\"gridcolor\":\"white\",\"linecolor\":\"white\",\"ticks\":\"\"}},\"scene\":{\"xaxis\":{\"backgroundcolor\":\"#E5ECF6\",\"gridcolor\":\"white\",\"gridwidth\":2,\"linecolor\":\"white\",\"showbackground\":true,\"ticks\":\"\",\"zerolinecolor\":\"white\"},\"yaxis\":{\"backgroundcolor\":\"#E5ECF6\",\"gridcolor\":\"white\",\"gridwidth\":2,\"linecolor\":\"white\",\"showbackground\":true,\"ticks\":\"\",\"zerolinecolor\":\"white\"},\"zaxis\":{\"backgroundcolor\":\"#E5ECF6\",\"gridcolor\":\"white\",\"gridwidth\":2,\"linecolor\":\"white\",\"showbackground\":true,\"ticks\":\"\",\"zerolinecolor\":\"white\"}},\"shapedefaults\":{\"line\":{\"color\":\"#2a3f5f\"}},\"ternary\":{\"aaxis\":{\"gridcolor\":\"white\",\"linecolor\":\"white\",\"ticks\":\"\"},\"baxis\":{\"gridcolor\":\"white\",\"linecolor\":\"white\",\"ticks\":\"\"},\"bgcolor\":\"#E5ECF6\",\"caxis\":{\"gridcolor\":\"white\",\"linecolor\":\"white\",\"ticks\":\"\"}},\"title\":{\"x\":0.05},\"xaxis\":{\"automargin\":true,\"gridcolor\":\"white\",\"linecolor\":\"white\",\"ticks\":\"\",\"title\":{\"standoff\":15},\"zerolinecolor\":\"white\",\"zerolinewidth\":2},\"yaxis\":{\"automargin\":true,\"gridcolor\":\"white\",\"linecolor\":\"white\",\"ticks\":\"\",\"title\":{\"standoff\":15},\"zerolinecolor\":\"white\",\"zerolinewidth\":2}}},\"geo\":{\"domain\":{\"x\":[0.0,1.0],\"y\":[0.0,1.0]},\"center\":{}},\"coloraxis\":{\"colorbar\":{\"title\":{\"text\":\"Responses\"}},\"colorscale\":[[0.0,\"#30123b\"],[0.07142857142857142,\"#4145ab\"],[0.14285714285714285,\"#4675ed\"],[0.21428571428571427,\"#39a2fc\"],[0.2857142857142857,\"#1bcfd4\"],[0.35714285714285715,\"#24eca6\"],[0.42857142857142855,\"#61fc6c\"],[0.5,\"#a4fc3b\"],[0.5714285714285714,\"#d1e834\"],[0.6428571428571429,\"#f3c63a\"],[0.7142857142857143,\"#fe9b2d\"],[0.7857142857142857,\"#f36315\"],[0.8571428571428571,\"#d93806\"],[0.9285714285714286,\"#b11901\"],[1.0,\"#7a0402\"]]},\"legend\":{\"tracegroupgap\":0},\"title\":{\"text\":\"Year 2020\"},\"height\":400,\"width\":800},                        {\"responsive\": true}                    ).then(function(){\n",
       "                            \n",
       "var gd = document.getElementById('b19d0646-563f-4152-8d12-1910567c611e');\n",
       "var x = new MutationObserver(function (mutations, observer) {{\n",
       "        var display = window.getComputedStyle(gd).display;\n",
       "        if (!display || display === 'none') {{\n",
       "            console.log([gd, 'removed!']);\n",
       "            Plotly.purge(gd);\n",
       "            observer.disconnect();\n",
       "        }}\n",
       "}});\n",
       "\n",
       "// Listen for the removal of the full notebook cells\n",
       "var notebookContainer = gd.closest('#notebook-container');\n",
       "if (notebookContainer) {{\n",
       "    x.observe(notebookContainer, {childList: true});\n",
       "}}\n",
       "\n",
       "// Listen for the clearing of the current output cell\n",
       "var outputEl = gd.closest('.output');\n",
       "if (outputEl) {{\n",
       "    x.observe(outputEl, {childList: true});\n",
       "}}\n",
       "\n",
       "                        })                };                });            </script>        </div>"
      ]
     },
     "metadata": {},
     "output_type": "display_data"
    }
   ],
   "source": [
    "plotworld(\"r/r2020.csv\", \"Year 2020\")"
   ]
  },
  {
   "cell_type": "code",
   "execution_count": 15,
   "id": "973648a0-cca3-4c5d-a812-d754f738ad23",
   "metadata": {},
   "outputs": [
    {
     "data": {
      "application/vnd.plotly.v1+json": {
       "config": {
        "plotlyServerURL": "https://plot.ly"
       },
       "data": [
        {
         "coloraxis": "coloraxis",
         "geo": "geo",
         "hovertemplate": "Country=%{location}<br>Responses=%{z}<extra></extra>",
         "locationmode": "country names",
         "locations": [
          "India",
          "United States of America",
          "Other",
          "Canada",
          "Germany",
          "United Kingdom of Great Britain and Northern Ireland",
          "China",
          "Brazil",
          "Russia",
          "Turkey",
          "Nigeria",
          "Japan",
          "France",
          "Spain",
          "Australia",
          "Taiwan",
          "Indonesia",
          "Pakistan",
          "South Korea",
          "Ukraine",
          "Tunisia",
          "Poland",
          "Kenya",
          "Iran, Islamic Republic of...",
          "Egypt",
          "Italy",
          "Morocco",
          "Mexico",
          "Malaysia",
          "Ireland",
          "Singapore",
          "Portugal",
          "South Africa",
          "Philippines",
          "Colombia",
          "Netherlands",
          "Israel",
          "Switzerland",
          "Greece",
          "Thailand",
          "Viet Nam",
          "Argentina",
          "Sweden",
          "Hong Kong (S.A.R.)",
          "Belarus",
          "Romania",
          "Algeria",
          "Republic of Korea",
          "New Zealand",
          "Saudi Arabia",
          "Chile",
          "Czech Republic",
          "Peru",
          "Bangladesh",
          "Hungary",
          "Belgium",
          "Austria",
          "Denmark",
          "Norway"
         ],
         "name": "",
         "type": "choropleth",
         "z": [
          771,
          624,
          159,
          99,
          91,
          91,
          84,
          79,
          77,
          66,
          63,
          54,
          53,
          52,
          44,
          42,
          38,
          37,
          36,
          34,
          33,
          31,
          29,
          28,
          27,
          27,
          27,
          25,
          22,
          22,
          21,
          20,
          19,
          19,
          18,
          17,
          16,
          15,
          15,
          15,
          14,
          13,
          13,
          12,
          12,
          12,
          12,
          11,
          10,
          10,
          10,
          8,
          8,
          7,
          5,
          5,
          5,
          3,
          2
         ]
        }
       ],
       "layout": {
        "coloraxis": {
         "colorbar": {
          "title": {
           "text": "Responses"
          }
         },
         "colorscale": [
          [
           0,
           "#30123b"
          ],
          [
           0.07142857142857142,
           "#4145ab"
          ],
          [
           0.14285714285714285,
           "#4675ed"
          ],
          [
           0.21428571428571427,
           "#39a2fc"
          ],
          [
           0.2857142857142857,
           "#1bcfd4"
          ],
          [
           0.35714285714285715,
           "#24eca6"
          ],
          [
           0.42857142857142855,
           "#61fc6c"
          ],
          [
           0.5,
           "#a4fc3b"
          ],
          [
           0.5714285714285714,
           "#d1e834"
          ],
          [
           0.6428571428571429,
           "#f3c63a"
          ],
          [
           0.7142857142857143,
           "#fe9b2d"
          ],
          [
           0.7857142857142857,
           "#f36315"
          ],
          [
           0.8571428571428571,
           "#d93806"
          ],
          [
           0.9285714285714286,
           "#b11901"
          ],
          [
           1,
           "#7a0402"
          ]
         ]
        },
        "geo": {
         "center": {},
         "domain": {
          "x": [
           0,
           1
          ],
          "y": [
           0,
           1
          ]
         }
        },
        "height": 400,
        "legend": {
         "tracegroupgap": 0
        },
        "template": {
         "data": {
          "bar": [
           {
            "error_x": {
             "color": "#2a3f5f"
            },
            "error_y": {
             "color": "#2a3f5f"
            },
            "marker": {
             "line": {
              "color": "#E5ECF6",
              "width": 0.5
             },
             "pattern": {
              "fillmode": "overlay",
              "size": 10,
              "solidity": 0.2
             }
            },
            "type": "bar"
           }
          ],
          "barpolar": [
           {
            "marker": {
             "line": {
              "color": "#E5ECF6",
              "width": 0.5
             },
             "pattern": {
              "fillmode": "overlay",
              "size": 10,
              "solidity": 0.2
             }
            },
            "type": "barpolar"
           }
          ],
          "carpet": [
           {
            "aaxis": {
             "endlinecolor": "#2a3f5f",
             "gridcolor": "white",
             "linecolor": "white",
             "minorgridcolor": "white",
             "startlinecolor": "#2a3f5f"
            },
            "baxis": {
             "endlinecolor": "#2a3f5f",
             "gridcolor": "white",
             "linecolor": "white",
             "minorgridcolor": "white",
             "startlinecolor": "#2a3f5f"
            },
            "type": "carpet"
           }
          ],
          "choropleth": [
           {
            "colorbar": {
             "outlinewidth": 0,
             "ticks": ""
            },
            "type": "choropleth"
           }
          ],
          "contour": [
           {
            "colorbar": {
             "outlinewidth": 0,
             "ticks": ""
            },
            "colorscale": [
             [
              0,
              "#0d0887"
             ],
             [
              0.1111111111111111,
              "#46039f"
             ],
             [
              0.2222222222222222,
              "#7201a8"
             ],
             [
              0.3333333333333333,
              "#9c179e"
             ],
             [
              0.4444444444444444,
              "#bd3786"
             ],
             [
              0.5555555555555556,
              "#d8576b"
             ],
             [
              0.6666666666666666,
              "#ed7953"
             ],
             [
              0.7777777777777778,
              "#fb9f3a"
             ],
             [
              0.8888888888888888,
              "#fdca26"
             ],
             [
              1,
              "#f0f921"
             ]
            ],
            "type": "contour"
           }
          ],
          "contourcarpet": [
           {
            "colorbar": {
             "outlinewidth": 0,
             "ticks": ""
            },
            "type": "contourcarpet"
           }
          ],
          "heatmap": [
           {
            "colorbar": {
             "outlinewidth": 0,
             "ticks": ""
            },
            "colorscale": [
             [
              0,
              "#0d0887"
             ],
             [
              0.1111111111111111,
              "#46039f"
             ],
             [
              0.2222222222222222,
              "#7201a8"
             ],
             [
              0.3333333333333333,
              "#9c179e"
             ],
             [
              0.4444444444444444,
              "#bd3786"
             ],
             [
              0.5555555555555556,
              "#d8576b"
             ],
             [
              0.6666666666666666,
              "#ed7953"
             ],
             [
              0.7777777777777778,
              "#fb9f3a"
             ],
             [
              0.8888888888888888,
              "#fdca26"
             ],
             [
              1,
              "#f0f921"
             ]
            ],
            "type": "heatmap"
           }
          ],
          "heatmapgl": [
           {
            "colorbar": {
             "outlinewidth": 0,
             "ticks": ""
            },
            "colorscale": [
             [
              0,
              "#0d0887"
             ],
             [
              0.1111111111111111,
              "#46039f"
             ],
             [
              0.2222222222222222,
              "#7201a8"
             ],
             [
              0.3333333333333333,
              "#9c179e"
             ],
             [
              0.4444444444444444,
              "#bd3786"
             ],
             [
              0.5555555555555556,
              "#d8576b"
             ],
             [
              0.6666666666666666,
              "#ed7953"
             ],
             [
              0.7777777777777778,
              "#fb9f3a"
             ],
             [
              0.8888888888888888,
              "#fdca26"
             ],
             [
              1,
              "#f0f921"
             ]
            ],
            "type": "heatmapgl"
           }
          ],
          "histogram": [
           {
            "marker": {
             "pattern": {
              "fillmode": "overlay",
              "size": 10,
              "solidity": 0.2
             }
            },
            "type": "histogram"
           }
          ],
          "histogram2d": [
           {
            "colorbar": {
             "outlinewidth": 0,
             "ticks": ""
            },
            "colorscale": [
             [
              0,
              "#0d0887"
             ],
             [
              0.1111111111111111,
              "#46039f"
             ],
             [
              0.2222222222222222,
              "#7201a8"
             ],
             [
              0.3333333333333333,
              "#9c179e"
             ],
             [
              0.4444444444444444,
              "#bd3786"
             ],
             [
              0.5555555555555556,
              "#d8576b"
             ],
             [
              0.6666666666666666,
              "#ed7953"
             ],
             [
              0.7777777777777778,
              "#fb9f3a"
             ],
             [
              0.8888888888888888,
              "#fdca26"
             ],
             [
              1,
              "#f0f921"
             ]
            ],
            "type": "histogram2d"
           }
          ],
          "histogram2dcontour": [
           {
            "colorbar": {
             "outlinewidth": 0,
             "ticks": ""
            },
            "colorscale": [
             [
              0,
              "#0d0887"
             ],
             [
              0.1111111111111111,
              "#46039f"
             ],
             [
              0.2222222222222222,
              "#7201a8"
             ],
             [
              0.3333333333333333,
              "#9c179e"
             ],
             [
              0.4444444444444444,
              "#bd3786"
             ],
             [
              0.5555555555555556,
              "#d8576b"
             ],
             [
              0.6666666666666666,
              "#ed7953"
             ],
             [
              0.7777777777777778,
              "#fb9f3a"
             ],
             [
              0.8888888888888888,
              "#fdca26"
             ],
             [
              1,
              "#f0f921"
             ]
            ],
            "type": "histogram2dcontour"
           }
          ],
          "mesh3d": [
           {
            "colorbar": {
             "outlinewidth": 0,
             "ticks": ""
            },
            "type": "mesh3d"
           }
          ],
          "parcoords": [
           {
            "line": {
             "colorbar": {
              "outlinewidth": 0,
              "ticks": ""
             }
            },
            "type": "parcoords"
           }
          ],
          "pie": [
           {
            "automargin": true,
            "type": "pie"
           }
          ],
          "scatter": [
           {
            "marker": {
             "colorbar": {
              "outlinewidth": 0,
              "ticks": ""
             }
            },
            "type": "scatter"
           }
          ],
          "scatter3d": [
           {
            "line": {
             "colorbar": {
              "outlinewidth": 0,
              "ticks": ""
             }
            },
            "marker": {
             "colorbar": {
              "outlinewidth": 0,
              "ticks": ""
             }
            },
            "type": "scatter3d"
           }
          ],
          "scattercarpet": [
           {
            "marker": {
             "colorbar": {
              "outlinewidth": 0,
              "ticks": ""
             }
            },
            "type": "scattercarpet"
           }
          ],
          "scattergeo": [
           {
            "marker": {
             "colorbar": {
              "outlinewidth": 0,
              "ticks": ""
             }
            },
            "type": "scattergeo"
           }
          ],
          "scattergl": [
           {
            "marker": {
             "colorbar": {
              "outlinewidth": 0,
              "ticks": ""
             }
            },
            "type": "scattergl"
           }
          ],
          "scattermapbox": [
           {
            "marker": {
             "colorbar": {
              "outlinewidth": 0,
              "ticks": ""
             }
            },
            "type": "scattermapbox"
           }
          ],
          "scatterpolar": [
           {
            "marker": {
             "colorbar": {
              "outlinewidth": 0,
              "ticks": ""
             }
            },
            "type": "scatterpolar"
           }
          ],
          "scatterpolargl": [
           {
            "marker": {
             "colorbar": {
              "outlinewidth": 0,
              "ticks": ""
             }
            },
            "type": "scatterpolargl"
           }
          ],
          "scatterternary": [
           {
            "marker": {
             "colorbar": {
              "outlinewidth": 0,
              "ticks": ""
             }
            },
            "type": "scatterternary"
           }
          ],
          "surface": [
           {
            "colorbar": {
             "outlinewidth": 0,
             "ticks": ""
            },
            "colorscale": [
             [
              0,
              "#0d0887"
             ],
             [
              0.1111111111111111,
              "#46039f"
             ],
             [
              0.2222222222222222,
              "#7201a8"
             ],
             [
              0.3333333333333333,
              "#9c179e"
             ],
             [
              0.4444444444444444,
              "#bd3786"
             ],
             [
              0.5555555555555556,
              "#d8576b"
             ],
             [
              0.6666666666666666,
              "#ed7953"
             ],
             [
              0.7777777777777778,
              "#fb9f3a"
             ],
             [
              0.8888888888888888,
              "#fdca26"
             ],
             [
              1,
              "#f0f921"
             ]
            ],
            "type": "surface"
           }
          ],
          "table": [
           {
            "cells": {
             "fill": {
              "color": "#EBF0F8"
             },
             "line": {
              "color": "white"
             }
            },
            "header": {
             "fill": {
              "color": "#C8D4E3"
             },
             "line": {
              "color": "white"
             }
            },
            "type": "table"
           }
          ]
         },
         "layout": {
          "annotationdefaults": {
           "arrowcolor": "#2a3f5f",
           "arrowhead": 0,
           "arrowwidth": 1
          },
          "autotypenumbers": "strict",
          "coloraxis": {
           "colorbar": {
            "outlinewidth": 0,
            "ticks": ""
           }
          },
          "colorscale": {
           "diverging": [
            [
             0,
             "#8e0152"
            ],
            [
             0.1,
             "#c51b7d"
            ],
            [
             0.2,
             "#de77ae"
            ],
            [
             0.3,
             "#f1b6da"
            ],
            [
             0.4,
             "#fde0ef"
            ],
            [
             0.5,
             "#f7f7f7"
            ],
            [
             0.6,
             "#e6f5d0"
            ],
            [
             0.7,
             "#b8e186"
            ],
            [
             0.8,
             "#7fbc41"
            ],
            [
             0.9,
             "#4d9221"
            ],
            [
             1,
             "#276419"
            ]
           ],
           "sequential": [
            [
             0,
             "#0d0887"
            ],
            [
             0.1111111111111111,
             "#46039f"
            ],
            [
             0.2222222222222222,
             "#7201a8"
            ],
            [
             0.3333333333333333,
             "#9c179e"
            ],
            [
             0.4444444444444444,
             "#bd3786"
            ],
            [
             0.5555555555555556,
             "#d8576b"
            ],
            [
             0.6666666666666666,
             "#ed7953"
            ],
            [
             0.7777777777777778,
             "#fb9f3a"
            ],
            [
             0.8888888888888888,
             "#fdca26"
            ],
            [
             1,
             "#f0f921"
            ]
           ],
           "sequentialminus": [
            [
             0,
             "#0d0887"
            ],
            [
             0.1111111111111111,
             "#46039f"
            ],
            [
             0.2222222222222222,
             "#7201a8"
            ],
            [
             0.3333333333333333,
             "#9c179e"
            ],
            [
             0.4444444444444444,
             "#bd3786"
            ],
            [
             0.5555555555555556,
             "#d8576b"
            ],
            [
             0.6666666666666666,
             "#ed7953"
            ],
            [
             0.7777777777777778,
             "#fb9f3a"
            ],
            [
             0.8888888888888888,
             "#fdca26"
            ],
            [
             1,
             "#f0f921"
            ]
           ]
          },
          "colorway": [
           "#636efa",
           "#EF553B",
           "#00cc96",
           "#ab63fa",
           "#FFA15A",
           "#19d3f3",
           "#FF6692",
           "#B6E880",
           "#FF97FF",
           "#FECB52"
          ],
          "font": {
           "color": "#2a3f5f"
          },
          "geo": {
           "bgcolor": "white",
           "lakecolor": "white",
           "landcolor": "#E5ECF6",
           "showlakes": true,
           "showland": true,
           "subunitcolor": "white"
          },
          "hoverlabel": {
           "align": "left"
          },
          "hovermode": "closest",
          "mapbox": {
           "style": "light"
          },
          "paper_bgcolor": "white",
          "plot_bgcolor": "#E5ECF6",
          "polar": {
           "angularaxis": {
            "gridcolor": "white",
            "linecolor": "white",
            "ticks": ""
           },
           "bgcolor": "#E5ECF6",
           "radialaxis": {
            "gridcolor": "white",
            "linecolor": "white",
            "ticks": ""
           }
          },
          "scene": {
           "xaxis": {
            "backgroundcolor": "#E5ECF6",
            "gridcolor": "white",
            "gridwidth": 2,
            "linecolor": "white",
            "showbackground": true,
            "ticks": "",
            "zerolinecolor": "white"
           },
           "yaxis": {
            "backgroundcolor": "#E5ECF6",
            "gridcolor": "white",
            "gridwidth": 2,
            "linecolor": "white",
            "showbackground": true,
            "ticks": "",
            "zerolinecolor": "white"
           },
           "zaxis": {
            "backgroundcolor": "#E5ECF6",
            "gridcolor": "white",
            "gridwidth": 2,
            "linecolor": "white",
            "showbackground": true,
            "ticks": "",
            "zerolinecolor": "white"
           }
          },
          "shapedefaults": {
           "line": {
            "color": "#2a3f5f"
           }
          },
          "ternary": {
           "aaxis": {
            "gridcolor": "white",
            "linecolor": "white",
            "ticks": ""
           },
           "baxis": {
            "gridcolor": "white",
            "linecolor": "white",
            "ticks": ""
           },
           "bgcolor": "#E5ECF6",
           "caxis": {
            "gridcolor": "white",
            "linecolor": "white",
            "ticks": ""
           }
          },
          "title": {
           "x": 0.05
          },
          "xaxis": {
           "automargin": true,
           "gridcolor": "white",
           "linecolor": "white",
           "ticks": "",
           "title": {
            "standoff": 15
           },
           "zerolinecolor": "white",
           "zerolinewidth": 2
          },
          "yaxis": {
           "automargin": true,
           "gridcolor": "white",
           "linecolor": "white",
           "ticks": "",
           "title": {
            "standoff": 15
           },
           "zerolinecolor": "white",
           "zerolinewidth": 2
          }
         }
        },
        "title": {
         "text": "Year 2019"
        },
        "width": 800
       }
      },
      "image/png": "[encoded data removed]",
      "text/html": [
       "<div>                            <div id=\"91b03fc4-4ec3-422c-b328-eecdd9094f3d\" class=\"plotly-graph-div\" style=\"height:400px; width:800px;\"></div>            <script type=\"text/javascript\">                require([\"plotly\"], function(Plotly) {                    window.PLOTLYENV=window.PLOTLYENV || {};                                    if (document.getElementById(\"91b03fc4-4ec3-422c-b328-eecdd9094f3d\")) {                    Plotly.newPlot(                        \"91b03fc4-4ec3-422c-b328-eecdd9094f3d\",                        [{\"coloraxis\":\"coloraxis\",\"geo\":\"geo\",\"hovertemplate\":\"Country=%{location}<br>Responses=%{z}<extra></extra>\",\"locationmode\":\"country names\",\"locations\":[\"India\",\"United States of America\",\"Other\",\"Canada\",\"Germany\",\"United Kingdom of Great Britain and Northern Ireland\",\"China\",\"Brazil\",\"Russia\",\"Turkey\",\"Nigeria\",\"Japan\",\"France\",\"Spain\",\"Australia\",\"Taiwan\",\"Indonesia\",\"Pakistan\",\"South Korea\",\"Ukraine\",\"Tunisia\",\"Poland\",\"Kenya\",\"Iran, Islamic Republic of...\",\"Egypt\",\"Italy\",\"Morocco\",\"Mexico\",\"Malaysia\",\"Ireland\",\"Singapore\",\"Portugal\",\"South Africa\",\"Philippines\",\"Colombia\",\"Netherlands\",\"Israel\",\"Switzerland\",\"Greece\",\"Thailand\",\"Viet Nam\",\"Argentina\",\"Sweden\",\"Hong Kong (S.A.R.)\",\"Belarus\",\"Romania\",\"Algeria\",\"Republic of Korea\",\"New Zealand\",\"Saudi Arabia\",\"Chile\",\"Czech Republic\",\"Peru\",\"Bangladesh\",\"Hungary\",\"Belgium\",\"Austria\",\"Denmark\",\"Norway\"],\"name\":\"\",\"z\":[771,624,159,99,91,91,84,79,77,66,63,54,53,52,44,42,38,37,36,34,33,31,29,28,27,27,27,25,22,22,21,20,19,19,18,17,16,15,15,15,14,13,13,12,12,12,12,11,10,10,10,8,8,7,5,5,5,3,2],\"type\":\"choropleth\"}],                        {\"template\":{\"data\":{\"bar\":[{\"error_x\":{\"color\":\"#2a3f5f\"},\"error_y\":{\"color\":\"#2a3f5f\"},\"marker\":{\"line\":{\"color\":\"#E5ECF6\",\"width\":0.5},\"pattern\":{\"fillmode\":\"overlay\",\"size\":10,\"solidity\":0.2}},\"type\":\"bar\"}],\"barpolar\":[{\"marker\":{\"line\":{\"color\":\"#E5ECF6\",\"width\":0.5},\"pattern\":{\"fillmode\":\"overlay\",\"size\":10,\"solidity\":0.2}},\"type\":\"barpolar\"}],\"carpet\":[{\"aaxis\":{\"endlinecolor\":\"#2a3f5f\",\"gridcolor\":\"white\",\"linecolor\":\"white\",\"minorgridcolor\":\"white\",\"startlinecolor\":\"#2a3f5f\"},\"baxis\":{\"endlinecolor\":\"#2a3f5f\",\"gridcolor\":\"white\",\"linecolor\":\"white\",\"minorgridcolor\":\"white\",\"startlinecolor\":\"#2a3f5f\"},\"type\":\"carpet\"}],\"choropleth\":[{\"colorbar\":{\"outlinewidth\":0,\"ticks\":\"\"},\"type\":\"choropleth\"}],\"contour\":[{\"colorbar\":{\"outlinewidth\":0,\"ticks\":\"\"},\"colorscale\":[[0.0,\"#0d0887\"],[0.1111111111111111,\"#46039f\"],[0.2222222222222222,\"#7201a8\"],[0.3333333333333333,\"#9c179e\"],[0.4444444444444444,\"#bd3786\"],[0.5555555555555556,\"#d8576b\"],[0.6666666666666666,\"#ed7953\"],[0.7777777777777778,\"#fb9f3a\"],[0.8888888888888888,\"#fdca26\"],[1.0,\"#f0f921\"]],\"type\":\"contour\"}],\"contourcarpet\":[{\"colorbar\":{\"outlinewidth\":0,\"ticks\":\"\"},\"type\":\"contourcarpet\"}],\"heatmap\":[{\"colorbar\":{\"outlinewidth\":0,\"ticks\":\"\"},\"colorscale\":[[0.0,\"#0d0887\"],[0.1111111111111111,\"#46039f\"],[0.2222222222222222,\"#7201a8\"],[0.3333333333333333,\"#9c179e\"],[0.4444444444444444,\"#bd3786\"],[0.5555555555555556,\"#d8576b\"],[0.6666666666666666,\"#ed7953\"],[0.7777777777777778,\"#fb9f3a\"],[0.8888888888888888,\"#fdca26\"],[1.0,\"#f0f921\"]],\"type\":\"heatmap\"}],\"heatmapgl\":[{\"colorbar\":{\"outlinewidth\":0,\"ticks\":\"\"},\"colorscale\":[[0.0,\"#0d0887\"],[0.1111111111111111,\"#46039f\"],[0.2222222222222222,\"#7201a8\"],[0.3333333333333333,\"#9c179e\"],[0.4444444444444444,\"#bd3786\"],[0.5555555555555556,\"#d8576b\"],[0.6666666666666666,\"#ed7953\"],[0.7777777777777778,\"#fb9f3a\"],[0.8888888888888888,\"#fdca26\"],[1.0,\"#f0f921\"]],\"type\":\"heatmapgl\"}],\"histogram\":[{\"marker\":{\"pattern\":{\"fillmode\":\"overlay\",\"size\":10,\"solidity\":0.2}},\"type\":\"histogram\"}],\"histogram2d\":[{\"colorbar\":{\"outlinewidth\":0,\"ticks\":\"\"},\"colorscale\":[[0.0,\"#0d0887\"],[0.1111111111111111,\"#46039f\"],[0.2222222222222222,\"#7201a8\"],[0.3333333333333333,\"#9c179e\"],[0.4444444444444444,\"#bd3786\"],[0.5555555555555556,\"#d8576b\"],[0.6666666666666666,\"#ed7953\"],[0.7777777777777778,\"#fb9f3a\"],[0.8888888888888888,\"#fdca26\"],[1.0,\"#f0f921\"]],\"type\":\"histogram2d\"}],\"histogram2dcontour\":[{\"colorbar\":{\"outlinewidth\":0,\"ticks\":\"\"},\"colorscale\":[[0.0,\"#0d0887\"],[0.1111111111111111,\"#46039f\"],[0.2222222222222222,\"#7201a8\"],[0.3333333333333333,\"#9c179e\"],[0.4444444444444444,\"#bd3786\"],[0.5555555555555556,\"#d8576b\"],[0.6666666666666666,\"#ed7953\"],[0.7777777777777778,\"#fb9f3a\"],[0.8888888888888888,\"#fdca26\"],[1.0,\"#f0f921\"]],\"type\":\"histogram2dcontour\"}],\"mesh3d\":[{\"colorbar\":{\"outlinewidth\":0,\"ticks\":\"\"},\"type\":\"mesh3d\"}],\"parcoords\":[{\"line\":{\"colorbar\":{\"outlinewidth\":0,\"ticks\":\"\"}},\"type\":\"parcoords\"}],\"pie\":[{\"automargin\":true,\"type\":\"pie\"}],\"scatter\":[{\"marker\":{\"colorbar\":{\"outlinewidth\":0,\"ticks\":\"\"}},\"type\":\"scatter\"}],\"scatter3d\":[{\"line\":{\"colorbar\":{\"outlinewidth\":0,\"ticks\":\"\"}},\"marker\":{\"colorbar\":{\"outlinewidth\":0,\"ticks\":\"\"}},\"type\":\"scatter3d\"}],\"scattercarpet\":[{\"marker\":{\"colorbar\":{\"outlinewidth\":0,\"ticks\":\"\"}},\"type\":\"scattercarpet\"}],\"scattergeo\":[{\"marker\":{\"colorbar\":{\"outlinewidth\":0,\"ticks\":\"\"}},\"type\":\"scattergeo\"}],\"scattergl\":[{\"marker\":{\"colorbar\":{\"outlinewidth\":0,\"ticks\":\"\"}},\"type\":\"scattergl\"}],\"scattermapbox\":[{\"marker\":{\"colorbar\":{\"outlinewidth\":0,\"ticks\":\"\"}},\"type\":\"scattermapbox\"}],\"scatterpolar\":[{\"marker\":{\"colorbar\":{\"outlinewidth\":0,\"ticks\":\"\"}},\"type\":\"scatterpolar\"}],\"scatterpolargl\":[{\"marker\":{\"colorbar\":{\"outlinewidth\":0,\"ticks\":\"\"}},\"type\":\"scatterpolargl\"}],\"scatterternary\":[{\"marker\":{\"colorbar\":{\"outlinewidth\":0,\"ticks\":\"\"}},\"type\":\"scatterternary\"}],\"surface\":[{\"colorbar\":{\"outlinewidth\":0,\"ticks\":\"\"},\"colorscale\":[[0.0,\"#0d0887\"],[0.1111111111111111,\"#46039f\"],[0.2222222222222222,\"#7201a8\"],[0.3333333333333333,\"#9c179e\"],[0.4444444444444444,\"#bd3786\"],[0.5555555555555556,\"#d8576b\"],[0.6666666666666666,\"#ed7953\"],[0.7777777777777778,\"#fb9f3a\"],[0.8888888888888888,\"#fdca26\"],[1.0,\"#f0f921\"]],\"type\":\"surface\"}],\"table\":[{\"cells\":{\"fill\":{\"color\":\"#EBF0F8\"},\"line\":{\"color\":\"white\"}},\"header\":{\"fill\":{\"color\":\"#C8D4E3\"},\"line\":{\"color\":\"white\"}},\"type\":\"table\"}]},\"layout\":{\"annotationdefaults\":{\"arrowcolor\":\"#2a3f5f\",\"arrowhead\":0,\"arrowwidth\":1},\"autotypenumbers\":\"strict\",\"coloraxis\":{\"colorbar\":{\"outlinewidth\":0,\"ticks\":\"\"}},\"colorscale\":{\"diverging\":[[0,\"#8e0152\"],[0.1,\"#c51b7d\"],[0.2,\"#de77ae\"],[0.3,\"#f1b6da\"],[0.4,\"#fde0ef\"],[0.5,\"#f7f7f7\"],[0.6,\"#e6f5d0\"],[0.7,\"#b8e186\"],[0.8,\"#7fbc41\"],[0.9,\"#4d9221\"],[1,\"#276419\"]],\"sequential\":[[0.0,\"#0d0887\"],[0.1111111111111111,\"#46039f\"],[0.2222222222222222,\"#7201a8\"],[0.3333333333333333,\"#9c179e\"],[0.4444444444444444,\"#bd3786\"],[0.5555555555555556,\"#d8576b\"],[0.6666666666666666,\"#ed7953\"],[0.7777777777777778,\"#fb9f3a\"],[0.8888888888888888,\"#fdca26\"],[1.0,\"#f0f921\"]],\"sequentialminus\":[[0.0,\"#0d0887\"],[0.1111111111111111,\"#46039f\"],[0.2222222222222222,\"#7201a8\"],[0.3333333333333333,\"#9c179e\"],[0.4444444444444444,\"#bd3786\"],[0.5555555555555556,\"#d8576b\"],[0.6666666666666666,\"#ed7953\"],[0.7777777777777778,\"#fb9f3a\"],[0.8888888888888888,\"#fdca26\"],[1.0,\"#f0f921\"]]},\"colorway\":[\"#636efa\",\"#EF553B\",\"#00cc96\",\"#ab63fa\",\"#FFA15A\",\"#19d3f3\",\"#FF6692\",\"#B6E880\",\"#FF97FF\",\"#FECB52\"],\"font\":{\"color\":\"#2a3f5f\"},\"geo\":{\"bgcolor\":\"white\",\"lakecolor\":\"white\",\"landcolor\":\"#E5ECF6\",\"showlakes\":true,\"showland\":true,\"subunitcolor\":\"white\"},\"hoverlabel\":{\"align\":\"left\"},\"hovermode\":\"closest\",\"mapbox\":{\"style\":\"light\"},\"paper_bgcolor\":\"white\",\"plot_bgcolor\":\"#E5ECF6\",\"polar\":{\"angularaxis\":{\"gridcolor\":\"white\",\"linecolor\":\"white\",\"ticks\":\"\"},\"bgcolor\":\"#E5ECF6\",\"radialaxis\":{\"gridcolor\":\"white\",\"linecolor\":\"white\",\"ticks\":\"\"}},\"scene\":{\"xaxis\":{\"backgroundcolor\":\"#E5ECF6\",\"gridcolor\":\"white\",\"gridwidth\":2,\"linecolor\":\"white\",\"showbackground\":true,\"ticks\":\"\",\"zerolinecolor\":\"white\"},\"yaxis\":{\"backgroundcolor\":\"#E5ECF6\",\"gridcolor\":\"white\",\"gridwidth\":2,\"linecolor\":\"white\",\"showbackground\":true,\"ticks\":\"\",\"zerolinecolor\":\"white\"},\"zaxis\":{\"backgroundcolor\":\"#E5ECF6\",\"gridcolor\":\"white\",\"gridwidth\":2,\"linecolor\":\"white\",\"showbackground\":true,\"ticks\":\"\",\"zerolinecolor\":\"white\"}},\"shapedefaults\":{\"line\":{\"color\":\"#2a3f5f\"}},\"ternary\":{\"aaxis\":{\"gridcolor\":\"white\",\"linecolor\":\"white\",\"ticks\":\"\"},\"baxis\":{\"gridcolor\":\"white\",\"linecolor\":\"white\",\"ticks\":\"\"},\"bgcolor\":\"#E5ECF6\",\"caxis\":{\"gridcolor\":\"white\",\"linecolor\":\"white\",\"ticks\":\"\"}},\"title\":{\"x\":0.05},\"xaxis\":{\"automargin\":true,\"gridcolor\":\"white\",\"linecolor\":\"white\",\"ticks\":\"\",\"title\":{\"standoff\":15},\"zerolinecolor\":\"white\",\"zerolinewidth\":2},\"yaxis\":{\"automargin\":true,\"gridcolor\":\"white\",\"linecolor\":\"white\",\"ticks\":\"\",\"title\":{\"standoff\":15},\"zerolinecolor\":\"white\",\"zerolinewidth\":2}}},\"geo\":{\"domain\":{\"x\":[0.0,1.0],\"y\":[0.0,1.0]},\"center\":{}},\"coloraxis\":{\"colorbar\":{\"title\":{\"text\":\"Responses\"}},\"colorscale\":[[0.0,\"#30123b\"],[0.07142857142857142,\"#4145ab\"],[0.14285714285714285,\"#4675ed\"],[0.21428571428571427,\"#39a2fc\"],[0.2857142857142857,\"#1bcfd4\"],[0.35714285714285715,\"#24eca6\"],[0.42857142857142855,\"#61fc6c\"],[0.5,\"#a4fc3b\"],[0.5714285714285714,\"#d1e834\"],[0.6428571428571429,\"#f3c63a\"],[0.7142857142857143,\"#fe9b2d\"],[0.7857142857142857,\"#f36315\"],[0.8571428571428571,\"#d93806\"],[0.9285714285714286,\"#b11901\"],[1.0,\"#7a0402\"]]},\"legend\":{\"tracegroupgap\":0},\"title\":{\"text\":\"Year 2019\"},\"height\":400,\"width\":800},                        {\"responsive\": true}                    ).then(function(){\n",
       "                            \n",
       "var gd = document.getElementById('91b03fc4-4ec3-422c-b328-eecdd9094f3d');\n",
       "var x = new MutationObserver(function (mutations, observer) {{\n",
       "        var display = window.getComputedStyle(gd).display;\n",
       "        if (!display || display === 'none') {{\n",
       "            console.log([gd, 'removed!']);\n",
       "            Plotly.purge(gd);\n",
       "            observer.disconnect();\n",
       "        }}\n",
       "}});\n",
       "\n",
       "// Listen for the removal of the full notebook cells\n",
       "var notebookContainer = gd.closest('#notebook-container');\n",
       "if (notebookContainer) {{\n",
       "    x.observe(notebookContainer, {childList: true});\n",
       "}}\n",
       "\n",
       "// Listen for the clearing of the current output cell\n",
       "var outputEl = gd.closest('.output');\n",
       "if (outputEl) {{\n",
       "    x.observe(outputEl, {childList: true});\n",
       "}}\n",
       "\n",
       "                        })                };                });            </script>        </div>"
      ]
     },
     "metadata": {},
     "output_type": "display_data"
    }
   ],
   "source": [
    "plotworld(\"r/r2019.csv\", \"Year 2019\")"
   ]
  },
  {
   "cell_type": "code",
   "execution_count": 16,
   "id": "4ccdb112-5436-4918-b439-0f51e78c166b",
   "metadata": {},
   "outputs": [
    {
     "data": {
      "application/vnd.plotly.v1+json": {
       "config": {
        "plotlyServerURL": "https://plot.ly"
       },
       "data": [
        {
         "coloraxis": "coloraxis",
         "geo": "geo",
         "hovertemplate": "Country=%{location}<br>Responses=%{z}<extra></extra>",
         "locationmode": "country names",
         "locations": [
          "United States of America",
          "India",
          "China",
          "Other",
          "United Kingdom of Great Britain and Northern Ireland",
          "Canada",
          "Russia",
          "France",
          "Germany",
          "I do not wish to disclose my location",
          "Spain",
          "Brazil",
          "Turkey",
          "Poland",
          "Australia",
          "Italy",
          "Netherlands",
          "Singapore",
          "Mexico",
          "Japan",
          "Indonesia",
          "South Korea",
          "Portugal",
          "Nigeria",
          "Ukraine",
          "Malaysia",
          "South Africa",
          "Pakistan",
          "Iran, Islamic Republic of...",
          "Israel",
          "Sweden",
          "Tunisia",
          "Egypt",
          "Switzerland",
          "Viet Nam",
          "Greece",
          "Romania",
          "Morocco",
          "Kenya",
          "Colombia",
          "Belarus",
          "New Zealand",
          "Philippines",
          "Bangladesh",
          "Ireland",
          "Thailand",
          "Argentina",
          "Hungary",
          "Peru",
          "Hong Kong (S.A.R.)",
          "Chile",
          "Norway",
          "Belgium",
          "Republic of Korea",
          "Denmark",
          "Austria",
          "Finland",
          "Czech Republic"
         ],
         "name": "",
         "type": "choropleth",
         "z": [
          1082,
          657,
          267,
          165,
          131,
          123,
          113,
          104,
          103,
          83,
          75,
          65,
          56,
          54,
          51,
          47,
          41,
          41,
          34,
          34,
          33,
          32,
          32,
          31,
          31,
          30,
          29,
          28,
          27,
          25,
          25,
          23,
          22,
          21,
          21,
          20,
          18,
          17,
          17,
          17,
          16,
          14,
          14,
          13,
          13,
          12,
          12,
          12,
          11,
          10,
          10,
          9,
          8,
          8,
          7,
          7,
          5,
          4
         ]
        }
       ],
       "layout": {
        "coloraxis": {
         "colorbar": {
          "title": {
           "text": "Responses"
          }
         },
         "colorscale": [
          [
           0,
           "#30123b"
          ],
          [
           0.07142857142857142,
           "#4145ab"
          ],
          [
           0.14285714285714285,
           "#4675ed"
          ],
          [
           0.21428571428571427,
           "#39a2fc"
          ],
          [
           0.2857142857142857,
           "#1bcfd4"
          ],
          [
           0.35714285714285715,
           "#24eca6"
          ],
          [
           0.42857142857142855,
           "#61fc6c"
          ],
          [
           0.5,
           "#a4fc3b"
          ],
          [
           0.5714285714285714,
           "#d1e834"
          ],
          [
           0.6428571428571429,
           "#f3c63a"
          ],
          [
           0.7142857142857143,
           "#fe9b2d"
          ],
          [
           0.7857142857142857,
           "#f36315"
          ],
          [
           0.8571428571428571,
           "#d93806"
          ],
          [
           0.9285714285714286,
           "#b11901"
          ],
          [
           1,
           "#7a0402"
          ]
         ]
        },
        "geo": {
         "center": {},
         "domain": {
          "x": [
           0,
           1
          ],
          "y": [
           0,
           1
          ]
         }
        },
        "height": 400,
        "legend": {
         "tracegroupgap": 0
        },
        "template": {
         "data": {
          "bar": [
           {
            "error_x": {
             "color": "#2a3f5f"
            },
            "error_y": {
             "color": "#2a3f5f"
            },
            "marker": {
             "line": {
              "color": "#E5ECF6",
              "width": 0.5
             },
             "pattern": {
              "fillmode": "overlay",
              "size": 10,
              "solidity": 0.2
             }
            },
            "type": "bar"
           }
          ],
          "barpolar": [
           {
            "marker": {
             "line": {
              "color": "#E5ECF6",
              "width": 0.5
             },
             "pattern": {
              "fillmode": "overlay",
              "size": 10,
              "solidity": 0.2
             }
            },
            "type": "barpolar"
           }
          ],
          "carpet": [
           {
            "aaxis": {
             "endlinecolor": "#2a3f5f",
             "gridcolor": "white",
             "linecolor": "white",
             "minorgridcolor": "white",
             "startlinecolor": "#2a3f5f"
            },
            "baxis": {
             "endlinecolor": "#2a3f5f",
             "gridcolor": "white",
             "linecolor": "white",
             "minorgridcolor": "white",
             "startlinecolor": "#2a3f5f"
            },
            "type": "carpet"
           }
          ],
          "choropleth": [
           {
            "colorbar": {
             "outlinewidth": 0,
             "ticks": ""
            },
            "type": "choropleth"
           }
          ],
          "contour": [
           {
            "colorbar": {
             "outlinewidth": 0,
             "ticks": ""
            },
            "colorscale": [
             [
              0,
              "#0d0887"
             ],
             [
              0.1111111111111111,
              "#46039f"
             ],
             [
              0.2222222222222222,
              "#7201a8"
             ],
             [
              0.3333333333333333,
              "#9c179e"
             ],
             [
              0.4444444444444444,
              "#bd3786"
             ],
             [
              0.5555555555555556,
              "#d8576b"
             ],
             [
              0.6666666666666666,
              "#ed7953"
             ],
             [
              0.7777777777777778,
              "#fb9f3a"
             ],
             [
              0.8888888888888888,
              "#fdca26"
             ],
             [
              1,
              "#f0f921"
             ]
            ],
            "type": "contour"
           }
          ],
          "contourcarpet": [
           {
            "colorbar": {
             "outlinewidth": 0,
             "ticks": ""
            },
            "type": "contourcarpet"
           }
          ],
          "heatmap": [
           {
            "colorbar": {
             "outlinewidth": 0,
             "ticks": ""
            },
            "colorscale": [
             [
              0,
              "#0d0887"
             ],
             [
              0.1111111111111111,
              "#46039f"
             ],
             [
              0.2222222222222222,
              "#7201a8"
             ],
             [
              0.3333333333333333,
              "#9c179e"
             ],
             [
              0.4444444444444444,
              "#bd3786"
             ],
             [
              0.5555555555555556,
              "#d8576b"
             ],
             [
              0.6666666666666666,
              "#ed7953"
             ],
             [
              0.7777777777777778,
              "#fb9f3a"
             ],
             [
              0.8888888888888888,
              "#fdca26"
             ],
             [
              1,
              "#f0f921"
             ]
            ],
            "type": "heatmap"
           }
          ],
          "heatmapgl": [
           {
            "colorbar": {
             "outlinewidth": 0,
             "ticks": ""
            },
            "colorscale": [
             [
              0,
              "#0d0887"
             ],
             [
              0.1111111111111111,
              "#46039f"
             ],
             [
              0.2222222222222222,
              "#7201a8"
             ],
             [
              0.3333333333333333,
              "#9c179e"
             ],
             [
              0.4444444444444444,
              "#bd3786"
             ],
             [
              0.5555555555555556,
              "#d8576b"
             ],
             [
              0.6666666666666666,
              "#ed7953"
             ],
             [
              0.7777777777777778,
              "#fb9f3a"
             ],
             [
              0.8888888888888888,
              "#fdca26"
             ],
             [
              1,
              "#f0f921"
             ]
            ],
            "type": "heatmapgl"
           }
          ],
          "histogram": [
           {
            "marker": {
             "pattern": {
              "fillmode": "overlay",
              "size": 10,
              "solidity": 0.2
             }
            },
            "type": "histogram"
           }
          ],
          "histogram2d": [
           {
            "colorbar": {
             "outlinewidth": 0,
             "ticks": ""
            },
            "colorscale": [
             [
              0,
              "#0d0887"
             ],
             [
              0.1111111111111111,
              "#46039f"
             ],
             [
              0.2222222222222222,
              "#7201a8"
             ],
             [
              0.3333333333333333,
              "#9c179e"
             ],
             [
              0.4444444444444444,
              "#bd3786"
             ],
             [
              0.5555555555555556,
              "#d8576b"
             ],
             [
              0.6666666666666666,
              "#ed7953"
             ],
             [
              0.7777777777777778,
              "#fb9f3a"
             ],
             [
              0.8888888888888888,
              "#fdca26"
             ],
             [
              1,
              "#f0f921"
             ]
            ],
            "type": "histogram2d"
           }
          ],
          "histogram2dcontour": [
           {
            "colorbar": {
             "outlinewidth": 0,
             "ticks": ""
            },
            "colorscale": [
             [
              0,
              "#0d0887"
             ],
             [
              0.1111111111111111,
              "#46039f"
             ],
             [
              0.2222222222222222,
              "#7201a8"
             ],
             [
              0.3333333333333333,
              "#9c179e"
             ],
             [
              0.4444444444444444,
              "#bd3786"
             ],
             [
              0.5555555555555556,
              "#d8576b"
             ],
             [
              0.6666666666666666,
              "#ed7953"
             ],
             [
              0.7777777777777778,
              "#fb9f3a"
             ],
             [
              0.8888888888888888,
              "#fdca26"
             ],
             [
              1,
              "#f0f921"
             ]
            ],
            "type": "histogram2dcontour"
           }
          ],
          "mesh3d": [
           {
            "colorbar": {
             "outlinewidth": 0,
             "ticks": ""
            },
            "type": "mesh3d"
           }
          ],
          "parcoords": [
           {
            "line": {
             "colorbar": {
              "outlinewidth": 0,
              "ticks": ""
             }
            },
            "type": "parcoords"
           }
          ],
          "pie": [
           {
            "automargin": true,
            "type": "pie"
           }
          ],
          "scatter": [
           {
            "marker": {
             "colorbar": {
              "outlinewidth": 0,
              "ticks": ""
             }
            },
            "type": "scatter"
           }
          ],
          "scatter3d": [
           {
            "line": {
             "colorbar": {
              "outlinewidth": 0,
              "ticks": ""
             }
            },
            "marker": {
             "colorbar": {
              "outlinewidth": 0,
              "ticks": ""
             }
            },
            "type": "scatter3d"
           }
          ],
          "scattercarpet": [
           {
            "marker": {
             "colorbar": {
              "outlinewidth": 0,
              "ticks": ""
             }
            },
            "type": "scattercarpet"
           }
          ],
          "scattergeo": [
           {
            "marker": {
             "colorbar": {
              "outlinewidth": 0,
              "ticks": ""
             }
            },
            "type": "scattergeo"
           }
          ],
          "scattergl": [
           {
            "marker": {
             "colorbar": {
              "outlinewidth": 0,
              "ticks": ""
             }
            },
            "type": "scattergl"
           }
          ],
          "scattermapbox": [
           {
            "marker": {
             "colorbar": {
              "outlinewidth": 0,
              "ticks": ""
             }
            },
            "type": "scattermapbox"
           }
          ],
          "scatterpolar": [
           {
            "marker": {
             "colorbar": {
              "outlinewidth": 0,
              "ticks": ""
             }
            },
            "type": "scatterpolar"
           }
          ],
          "scatterpolargl": [
           {
            "marker": {
             "colorbar": {
              "outlinewidth": 0,
              "ticks": ""
             }
            },
            "type": "scatterpolargl"
           }
          ],
          "scatterternary": [
           {
            "marker": {
             "colorbar": {
              "outlinewidth": 0,
              "ticks": ""
             }
            },
            "type": "scatterternary"
           }
          ],
          "surface": [
           {
            "colorbar": {
             "outlinewidth": 0,
             "ticks": ""
            },
            "colorscale": [
             [
              0,
              "#0d0887"
             ],
             [
              0.1111111111111111,
              "#46039f"
             ],
             [
              0.2222222222222222,
              "#7201a8"
             ],
             [
              0.3333333333333333,
              "#9c179e"
             ],
             [
              0.4444444444444444,
              "#bd3786"
             ],
             [
              0.5555555555555556,
              "#d8576b"
             ],
             [
              0.6666666666666666,
              "#ed7953"
             ],
             [
              0.7777777777777778,
              "#fb9f3a"
             ],
             [
              0.8888888888888888,
              "#fdca26"
             ],
             [
              1,
              "#f0f921"
             ]
            ],
            "type": "surface"
           }
          ],
          "table": [
           {
            "cells": {
             "fill": {
              "color": "#EBF0F8"
             },
             "line": {
              "color": "white"
             }
            },
            "header": {
             "fill": {
              "color": "#C8D4E3"
             },
             "line": {
              "color": "white"
             }
            },
            "type": "table"
           }
          ]
         },
         "layout": {
          "annotationdefaults": {
           "arrowcolor": "#2a3f5f",
           "arrowhead": 0,
           "arrowwidth": 1
          },
          "autotypenumbers": "strict",
          "coloraxis": {
           "colorbar": {
            "outlinewidth": 0,
            "ticks": ""
           }
          },
          "colorscale": {
           "diverging": [
            [
             0,
             "#8e0152"
            ],
            [
             0.1,
             "#c51b7d"
            ],
            [
             0.2,
             "#de77ae"
            ],
            [
             0.3,
             "#f1b6da"
            ],
            [
             0.4,
             "#fde0ef"
            ],
            [
             0.5,
             "#f7f7f7"
            ],
            [
             0.6,
             "#e6f5d0"
            ],
            [
             0.7,
             "#b8e186"
            ],
            [
             0.8,
             "#7fbc41"
            ],
            [
             0.9,
             "#4d9221"
            ],
            [
             1,
             "#276419"
            ]
           ],
           "sequential": [
            [
             0,
             "#0d0887"
            ],
            [
             0.1111111111111111,
             "#46039f"
            ],
            [
             0.2222222222222222,
             "#7201a8"
            ],
            [
             0.3333333333333333,
             "#9c179e"
            ],
            [
             0.4444444444444444,
             "#bd3786"
            ],
            [
             0.5555555555555556,
             "#d8576b"
            ],
            [
             0.6666666666666666,
             "#ed7953"
            ],
            [
             0.7777777777777778,
             "#fb9f3a"
            ],
            [
             0.8888888888888888,
             "#fdca26"
            ],
            [
             1,
             "#f0f921"
            ]
           ],
           "sequentialminus": [
            [
             0,
             "#0d0887"
            ],
            [
             0.1111111111111111,
             "#46039f"
            ],
            [
             0.2222222222222222,
             "#7201a8"
            ],
            [
             0.3333333333333333,
             "#9c179e"
            ],
            [
             0.4444444444444444,
             "#bd3786"
            ],
            [
             0.5555555555555556,
             "#d8576b"
            ],
            [
             0.6666666666666666,
             "#ed7953"
            ],
            [
             0.7777777777777778,
             "#fb9f3a"
            ],
            [
             0.8888888888888888,
             "#fdca26"
            ],
            [
             1,
             "#f0f921"
            ]
           ]
          },
          "colorway": [
           "#636efa",
           "#EF553B",
           "#00cc96",
           "#ab63fa",
           "#FFA15A",
           "#19d3f3",
           "#FF6692",
           "#B6E880",
           "#FF97FF",
           "#FECB52"
          ],
          "font": {
           "color": "#2a3f5f"
          },
          "geo": {
           "bgcolor": "white",
           "lakecolor": "white",
           "landcolor": "#E5ECF6",
           "showlakes": true,
           "showland": true,
           "subunitcolor": "white"
          },
          "hoverlabel": {
           "align": "left"
          },
          "hovermode": "closest",
          "mapbox": {
           "style": "light"
          },
          "paper_bgcolor": "white",
          "plot_bgcolor": "#E5ECF6",
          "polar": {
           "angularaxis": {
            "gridcolor": "white",
            "linecolor": "white",
            "ticks": ""
           },
           "bgcolor": "#E5ECF6",
           "radialaxis": {
            "gridcolor": "white",
            "linecolor": "white",
            "ticks": ""
           }
          },
          "scene": {
           "xaxis": {
            "backgroundcolor": "#E5ECF6",
            "gridcolor": "white",
            "gridwidth": 2,
            "linecolor": "white",
            "showbackground": true,
            "ticks": "",
            "zerolinecolor": "white"
           },
           "yaxis": {
            "backgroundcolor": "#E5ECF6",
            "gridcolor": "white",
            "gridwidth": 2,
            "linecolor": "white",
            "showbackground": true,
            "ticks": "",
            "zerolinecolor": "white"
           },
           "zaxis": {
            "backgroundcolor": "#E5ECF6",
            "gridcolor": "white",
            "gridwidth": 2,
            "linecolor": "white",
            "showbackground": true,
            "ticks": "",
            "zerolinecolor": "white"
           }
          },
          "shapedefaults": {
           "line": {
            "color": "#2a3f5f"
           }
          },
          "ternary": {
           "aaxis": {
            "gridcolor": "white",
            "linecolor": "white",
            "ticks": ""
           },
           "baxis": {
            "gridcolor": "white",
            "linecolor": "white",
            "ticks": ""
           },
           "bgcolor": "#E5ECF6",
           "caxis": {
            "gridcolor": "white",
            "linecolor": "white",
            "ticks": ""
           }
          },
          "title": {
           "x": 0.05
          },
          "xaxis": {
           "automargin": true,
           "gridcolor": "white",
           "linecolor": "white",
           "ticks": "",
           "title": {
            "standoff": 15
           },
           "zerolinecolor": "white",
           "zerolinewidth": 2
          },
          "yaxis": {
           "automargin": true,
           "gridcolor": "white",
           "linecolor": "white",
           "ticks": "",
           "title": {
            "standoff": 15
           },
           "zerolinecolor": "white",
           "zerolinewidth": 2
          }
         }
        },
        "title": {
         "text": "Year 2018"
        },
        "width": 800
       }
      },
      "image/png": "[encoded data removed]",
      "text/html": [
       "<div>                            <div id=\"2a5e7289-ba84-4888-abe5-6838f1a0dc81\" class=\"plotly-graph-div\" style=\"height:400px; width:800px;\"></div>            <script type=\"text/javascript\">                require([\"plotly\"], function(Plotly) {                    window.PLOTLYENV=window.PLOTLYENV || {};                                    if (document.getElementById(\"2a5e7289-ba84-4888-abe5-6838f1a0dc81\")) {                    Plotly.newPlot(                        \"2a5e7289-ba84-4888-abe5-6838f1a0dc81\",                        [{\"coloraxis\":\"coloraxis\",\"geo\":\"geo\",\"hovertemplate\":\"Country=%{location}<br>Responses=%{z}<extra></extra>\",\"locationmode\":\"country names\",\"locations\":[\"United States of America\",\"India\",\"China\",\"Other\",\"United Kingdom of Great Britain and Northern Ireland\",\"Canada\",\"Russia\",\"France\",\"Germany\",\"I do not wish to disclose my location\",\"Spain\",\"Brazil\",\"Turkey\",\"Poland\",\"Australia\",\"Italy\",\"Netherlands\",\"Singapore\",\"Mexico\",\"Japan\",\"Indonesia\",\"South Korea\",\"Portugal\",\"Nigeria\",\"Ukraine\",\"Malaysia\",\"South Africa\",\"Pakistan\",\"Iran, Islamic Republic of...\",\"Israel\",\"Sweden\",\"Tunisia\",\"Egypt\",\"Switzerland\",\"Viet Nam\",\"Greece\",\"Romania\",\"Morocco\",\"Kenya\",\"Colombia\",\"Belarus\",\"New Zealand\",\"Philippines\",\"Bangladesh\",\"Ireland\",\"Thailand\",\"Argentina\",\"Hungary\",\"Peru\",\"Hong Kong (S.A.R.)\",\"Chile\",\"Norway\",\"Belgium\",\"Republic of Korea\",\"Denmark\",\"Austria\",\"Finland\",\"Czech Republic\"],\"name\":\"\",\"z\":[1082,657,267,165,131,123,113,104,103,83,75,65,56,54,51,47,41,41,34,34,33,32,32,31,31,30,29,28,27,25,25,23,22,21,21,20,18,17,17,17,16,14,14,13,13,12,12,12,11,10,10,9,8,8,7,7,5,4],\"type\":\"choropleth\"}],                        {\"template\":{\"data\":{\"bar\":[{\"error_x\":{\"color\":\"#2a3f5f\"},\"error_y\":{\"color\":\"#2a3f5f\"},\"marker\":{\"line\":{\"color\":\"#E5ECF6\",\"width\":0.5},\"pattern\":{\"fillmode\":\"overlay\",\"size\":10,\"solidity\":0.2}},\"type\":\"bar\"}],\"barpolar\":[{\"marker\":{\"line\":{\"color\":\"#E5ECF6\",\"width\":0.5},\"pattern\":{\"fillmode\":\"overlay\",\"size\":10,\"solidity\":0.2}},\"type\":\"barpolar\"}],\"carpet\":[{\"aaxis\":{\"endlinecolor\":\"#2a3f5f\",\"gridcolor\":\"white\",\"linecolor\":\"white\",\"minorgridcolor\":\"white\",\"startlinecolor\":\"#2a3f5f\"},\"baxis\":{\"endlinecolor\":\"#2a3f5f\",\"gridcolor\":\"white\",\"linecolor\":\"white\",\"minorgridcolor\":\"white\",\"startlinecolor\":\"#2a3f5f\"},\"type\":\"carpet\"}],\"choropleth\":[{\"colorbar\":{\"outlinewidth\":0,\"ticks\":\"\"},\"type\":\"choropleth\"}],\"contour\":[{\"colorbar\":{\"outlinewidth\":0,\"ticks\":\"\"},\"colorscale\":[[0.0,\"#0d0887\"],[0.1111111111111111,\"#46039f\"],[0.2222222222222222,\"#7201a8\"],[0.3333333333333333,\"#9c179e\"],[0.4444444444444444,\"#bd3786\"],[0.5555555555555556,\"#d8576b\"],[0.6666666666666666,\"#ed7953\"],[0.7777777777777778,\"#fb9f3a\"],[0.8888888888888888,\"#fdca26\"],[1.0,\"#f0f921\"]],\"type\":\"contour\"}],\"contourcarpet\":[{\"colorbar\":{\"outlinewidth\":0,\"ticks\":\"\"},\"type\":\"contourcarpet\"}],\"heatmap\":[{\"colorbar\":{\"outlinewidth\":0,\"ticks\":\"\"},\"colorscale\":[[0.0,\"#0d0887\"],[0.1111111111111111,\"#46039f\"],[0.2222222222222222,\"#7201a8\"],[0.3333333333333333,\"#9c179e\"],[0.4444444444444444,\"#bd3786\"],[0.5555555555555556,\"#d8576b\"],[0.6666666666666666,\"#ed7953\"],[0.7777777777777778,\"#fb9f3a\"],[0.8888888888888888,\"#fdca26\"],[1.0,\"#f0f921\"]],\"type\":\"heatmap\"}],\"heatmapgl\":[{\"colorbar\":{\"outlinewidth\":0,\"ticks\":\"\"},\"colorscale\":[[0.0,\"#0d0887\"],[0.1111111111111111,\"#46039f\"],[0.2222222222222222,\"#7201a8\"],[0.3333333333333333,\"#9c179e\"],[0.4444444444444444,\"#bd3786\"],[0.5555555555555556,\"#d8576b\"],[0.6666666666666666,\"#ed7953\"],[0.7777777777777778,\"#fb9f3a\"],[0.8888888888888888,\"#fdca26\"],[1.0,\"#f0f921\"]],\"type\":\"heatmapgl\"}],\"histogram\":[{\"marker\":{\"pattern\":{\"fillmode\":\"overlay\",\"size\":10,\"solidity\":0.2}},\"type\":\"histogram\"}],\"histogram2d\":[{\"colorbar\":{\"outlinewidth\":0,\"ticks\":\"\"},\"colorscale\":[[0.0,\"#0d0887\"],[0.1111111111111111,\"#46039f\"],[0.2222222222222222,\"#7201a8\"],[0.3333333333333333,\"#9c179e\"],[0.4444444444444444,\"#bd3786\"],[0.5555555555555556,\"#d8576b\"],[0.6666666666666666,\"#ed7953\"],[0.7777777777777778,\"#fb9f3a\"],[0.8888888888888888,\"#fdca26\"],[1.0,\"#f0f921\"]],\"type\":\"histogram2d\"}],\"histogram2dcontour\":[{\"colorbar\":{\"outlinewidth\":0,\"ticks\":\"\"},\"colorscale\":[[0.0,\"#0d0887\"],[0.1111111111111111,\"#46039f\"],[0.2222222222222222,\"#7201a8\"],[0.3333333333333333,\"#9c179e\"],[0.4444444444444444,\"#bd3786\"],[0.5555555555555556,\"#d8576b\"],[0.6666666666666666,\"#ed7953\"],[0.7777777777777778,\"#fb9f3a\"],[0.8888888888888888,\"#fdca26\"],[1.0,\"#f0f921\"]],\"type\":\"histogram2dcontour\"}],\"mesh3d\":[{\"colorbar\":{\"outlinewidth\":0,\"ticks\":\"\"},\"type\":\"mesh3d\"}],\"parcoords\":[{\"line\":{\"colorbar\":{\"outlinewidth\":0,\"ticks\":\"\"}},\"type\":\"parcoords\"}],\"pie\":[{\"automargin\":true,\"type\":\"pie\"}],\"scatter\":[{\"marker\":{\"colorbar\":{\"outlinewidth\":0,\"ticks\":\"\"}},\"type\":\"scatter\"}],\"scatter3d\":[{\"line\":{\"colorbar\":{\"outlinewidth\":0,\"ticks\":\"\"}},\"marker\":{\"colorbar\":{\"outlinewidth\":0,\"ticks\":\"\"}},\"type\":\"scatter3d\"}],\"scattercarpet\":[{\"marker\":{\"colorbar\":{\"outlinewidth\":0,\"ticks\":\"\"}},\"type\":\"scattercarpet\"}],\"scattergeo\":[{\"marker\":{\"colorbar\":{\"outlinewidth\":0,\"ticks\":\"\"}},\"type\":\"scattergeo\"}],\"scattergl\":[{\"marker\":{\"colorbar\":{\"outlinewidth\":0,\"ticks\":\"\"}},\"type\":\"scattergl\"}],\"scattermapbox\":[{\"marker\":{\"colorbar\":{\"outlinewidth\":0,\"ticks\":\"\"}},\"type\":\"scattermapbox\"}],\"scatterpolar\":[{\"marker\":{\"colorbar\":{\"outlinewidth\":0,\"ticks\":\"\"}},\"type\":\"scatterpolar\"}],\"scatterpolargl\":[{\"marker\":{\"colorbar\":{\"outlinewidth\":0,\"ticks\":\"\"}},\"type\":\"scatterpolargl\"}],\"scatterternary\":[{\"marker\":{\"colorbar\":{\"outlinewidth\":0,\"ticks\":\"\"}},\"type\":\"scatterternary\"}],\"surface\":[{\"colorbar\":{\"outlinewidth\":0,\"ticks\":\"\"},\"colorscale\":[[0.0,\"#0d0887\"],[0.1111111111111111,\"#46039f\"],[0.2222222222222222,\"#7201a8\"],[0.3333333333333333,\"#9c179e\"],[0.4444444444444444,\"#bd3786\"],[0.5555555555555556,\"#d8576b\"],[0.6666666666666666,\"#ed7953\"],[0.7777777777777778,\"#fb9f3a\"],[0.8888888888888888,\"#fdca26\"],[1.0,\"#f0f921\"]],\"type\":\"surface\"}],\"table\":[{\"cells\":{\"fill\":{\"color\":\"#EBF0F8\"},\"line\":{\"color\":\"white\"}},\"header\":{\"fill\":{\"color\":\"#C8D4E3\"},\"line\":{\"color\":\"white\"}},\"type\":\"table\"}]},\"layout\":{\"annotationdefaults\":{\"arrowcolor\":\"#2a3f5f\",\"arrowhead\":0,\"arrowwidth\":1},\"autotypenumbers\":\"strict\",\"coloraxis\":{\"colorbar\":{\"outlinewidth\":0,\"ticks\":\"\"}},\"colorscale\":{\"diverging\":[[0,\"#8e0152\"],[0.1,\"#c51b7d\"],[0.2,\"#de77ae\"],[0.3,\"#f1b6da\"],[0.4,\"#fde0ef\"],[0.5,\"#f7f7f7\"],[0.6,\"#e6f5d0\"],[0.7,\"#b8e186\"],[0.8,\"#7fbc41\"],[0.9,\"#4d9221\"],[1,\"#276419\"]],\"sequential\":[[0.0,\"#0d0887\"],[0.1111111111111111,\"#46039f\"],[0.2222222222222222,\"#7201a8\"],[0.3333333333333333,\"#9c179e\"],[0.4444444444444444,\"#bd3786\"],[0.5555555555555556,\"#d8576b\"],[0.6666666666666666,\"#ed7953\"],[0.7777777777777778,\"#fb9f3a\"],[0.8888888888888888,\"#fdca26\"],[1.0,\"#f0f921\"]],\"sequentialminus\":[[0.0,\"#0d0887\"],[0.1111111111111111,\"#46039f\"],[0.2222222222222222,\"#7201a8\"],[0.3333333333333333,\"#9c179e\"],[0.4444444444444444,\"#bd3786\"],[0.5555555555555556,\"#d8576b\"],[0.6666666666666666,\"#ed7953\"],[0.7777777777777778,\"#fb9f3a\"],[0.8888888888888888,\"#fdca26\"],[1.0,\"#f0f921\"]]},\"colorway\":[\"#636efa\",\"#EF553B\",\"#00cc96\",\"#ab63fa\",\"#FFA15A\",\"#19d3f3\",\"#FF6692\",\"#B6E880\",\"#FF97FF\",\"#FECB52\"],\"font\":{\"color\":\"#2a3f5f\"},\"geo\":{\"bgcolor\":\"white\",\"lakecolor\":\"white\",\"landcolor\":\"#E5ECF6\",\"showlakes\":true,\"showland\":true,\"subunitcolor\":\"white\"},\"hoverlabel\":{\"align\":\"left\"},\"hovermode\":\"closest\",\"mapbox\":{\"style\":\"light\"},\"paper_bgcolor\":\"white\",\"plot_bgcolor\":\"#E5ECF6\",\"polar\":{\"angularaxis\":{\"gridcolor\":\"white\",\"linecolor\":\"white\",\"ticks\":\"\"},\"bgcolor\":\"#E5ECF6\",\"radialaxis\":{\"gridcolor\":\"white\",\"linecolor\":\"white\",\"ticks\":\"\"}},\"scene\":{\"xaxis\":{\"backgroundcolor\":\"#E5ECF6\",\"gridcolor\":\"white\",\"gridwidth\":2,\"linecolor\":\"white\",\"showbackground\":true,\"ticks\":\"\",\"zerolinecolor\":\"white\"},\"yaxis\":{\"backgroundcolor\":\"#E5ECF6\",\"gridcolor\":\"white\",\"gridwidth\":2,\"linecolor\":\"white\",\"showbackground\":true,\"ticks\":\"\",\"zerolinecolor\":\"white\"},\"zaxis\":{\"backgroundcolor\":\"#E5ECF6\",\"gridcolor\":\"white\",\"gridwidth\":2,\"linecolor\":\"white\",\"showbackground\":true,\"ticks\":\"\",\"zerolinecolor\":\"white\"}},\"shapedefaults\":{\"line\":{\"color\":\"#2a3f5f\"}},\"ternary\":{\"aaxis\":{\"gridcolor\":\"white\",\"linecolor\":\"white\",\"ticks\":\"\"},\"baxis\":{\"gridcolor\":\"white\",\"linecolor\":\"white\",\"ticks\":\"\"},\"bgcolor\":\"#E5ECF6\",\"caxis\":{\"gridcolor\":\"white\",\"linecolor\":\"white\",\"ticks\":\"\"}},\"title\":{\"x\":0.05},\"xaxis\":{\"automargin\":true,\"gridcolor\":\"white\",\"linecolor\":\"white\",\"ticks\":\"\",\"title\":{\"standoff\":15},\"zerolinecolor\":\"white\",\"zerolinewidth\":2},\"yaxis\":{\"automargin\":true,\"gridcolor\":\"white\",\"linecolor\":\"white\",\"ticks\":\"\",\"title\":{\"standoff\":15},\"zerolinecolor\":\"white\",\"zerolinewidth\":2}}},\"geo\":{\"domain\":{\"x\":[0.0,1.0],\"y\":[0.0,1.0]},\"center\":{}},\"coloraxis\":{\"colorbar\":{\"title\":{\"text\":\"Responses\"}},\"colorscale\":[[0.0,\"#30123b\"],[0.07142857142857142,\"#4145ab\"],[0.14285714285714285,\"#4675ed\"],[0.21428571428571427,\"#39a2fc\"],[0.2857142857142857,\"#1bcfd4\"],[0.35714285714285715,\"#24eca6\"],[0.42857142857142855,\"#61fc6c\"],[0.5,\"#a4fc3b\"],[0.5714285714285714,\"#d1e834\"],[0.6428571428571429,\"#f3c63a\"],[0.7142857142857143,\"#fe9b2d\"],[0.7857142857142857,\"#f36315\"],[0.8571428571428571,\"#d93806\"],[0.9285714285714286,\"#b11901\"],[1.0,\"#7a0402\"]]},\"legend\":{\"tracegroupgap\":0},\"title\":{\"text\":\"Year 2018\"},\"height\":400,\"width\":800},                        {\"responsive\": true}                    ).then(function(){\n",
       "                            \n",
       "var gd = document.getElementById('2a5e7289-ba84-4888-abe5-6838f1a0dc81');\n",
       "var x = new MutationObserver(function (mutations, observer) {{\n",
       "        var display = window.getComputedStyle(gd).display;\n",
       "        if (!display || display === 'none') {{\n",
       "            console.log([gd, 'removed!']);\n",
       "            Plotly.purge(gd);\n",
       "            observer.disconnect();\n",
       "        }}\n",
       "}});\n",
       "\n",
       "// Listen for the removal of the full notebook cells\n",
       "var notebookContainer = gd.closest('#notebook-container');\n",
       "if (notebookContainer) {{\n",
       "    x.observe(notebookContainer, {childList: true});\n",
       "}}\n",
       "\n",
       "// Listen for the clearing of the current output cell\n",
       "var outputEl = gd.closest('.output');\n",
       "if (outputEl) {{\n",
       "    x.observe(outputEl, {childList: true});\n",
       "}}\n",
       "\n",
       "                        })                };                });            </script>        </div>"
      ]
     },
     "metadata": {},
     "output_type": "display_data"
    }
   ],
   "source": [
    "plotworld(\"r/r2018.csv\", \"Year 2018\")"
   ]
  },
  {
   "cell_type": "code",
   "execution_count": 17,
   "id": "00241512-d46e-4e1b-a3e9-9e8482bdcccf",
   "metadata": {},
   "outputs": [
    {
     "data": {
      "application/vnd.plotly.v1+json": {
       "config": {
        "plotlyServerURL": "https://plot.ly"
       },
       "data": [
        {
         "coloraxis": "coloraxis",
         "geo": "geo",
         "hovertemplate": "Country=%{location}<br>Responses=%{z}<extra></extra>",
         "locationmode": "country names",
         "locations": [
          "United States",
          "India",
          "Other",
          "Russia",
          "United Kingdom",
          "Australia",
          "People 's Republic of China",
          "Canada",
          "Germany",
          "France",
          "Taiwan",
          "Spain",
          "Brazil",
          "Singapore",
          "South Korea",
          "Ukraine",
          "Turkey",
          "Ireland",
          "Indonesia",
          "Pakistan",
          "Iran",
          "Italy",
          "Malaysia",
          "Philippines",
          "Netherlands",
          "Poland",
          "South Africa",
          "Switzerland",
          "Japan",
          "Egypt",
          "Portugal",
          "Colombia",
          "Romania",
          "New Zealand",
          "Greece",
          "Republic of China",
          "Vietnam",
          "Hong Kong",
          "Israel",
          "Hungary",
          "Argentina",
          "Kenya",
          "Mexico",
          "Nigeria",
          "Belgium",
          "Sweden",
          "Chile",
          "Belarus",
          "Norway",
          "Finland",
          "Denmark",
          "Czech Republic"
         ],
         "name": "",
         "type": "choropleth",
         "z": [
          872,
          410,
          145,
          100,
          88,
          81,
          74,
          68,
          61,
          61,
          52,
          46,
          38,
          37,
          37,
          33,
          31,
          30,
          29,
          28,
          28,
          27,
          24,
          22,
          21,
          20,
          20,
          20,
          20,
          19,
          19,
          17,
          15,
          14,
          14,
          14,
          13,
          11,
          11,
          11,
          10,
          10,
          10,
          9,
          9,
          8,
          7,
          7,
          5,
          5,
          4,
          3
         ]
        }
       ],
       "layout": {
        "coloraxis": {
         "colorbar": {
          "title": {
           "text": "Responses"
          }
         },
         "colorscale": [
          [
           0,
           "#30123b"
          ],
          [
           0.07142857142857142,
           "#4145ab"
          ],
          [
           0.14285714285714285,
           "#4675ed"
          ],
          [
           0.21428571428571427,
           "#39a2fc"
          ],
          [
           0.2857142857142857,
           "#1bcfd4"
          ],
          [
           0.35714285714285715,
           "#24eca6"
          ],
          [
           0.42857142857142855,
           "#61fc6c"
          ],
          [
           0.5,
           "#a4fc3b"
          ],
          [
           0.5714285714285714,
           "#d1e834"
          ],
          [
           0.6428571428571429,
           "#f3c63a"
          ],
          [
           0.7142857142857143,
           "#fe9b2d"
          ],
          [
           0.7857142857142857,
           "#f36315"
          ],
          [
           0.8571428571428571,
           "#d93806"
          ],
          [
           0.9285714285714286,
           "#b11901"
          ],
          [
           1,
           "#7a0402"
          ]
         ]
        },
        "geo": {
         "center": {},
         "domain": {
          "x": [
           0,
           1
          ],
          "y": [
           0,
           1
          ]
         }
        },
        "height": 400,
        "legend": {
         "tracegroupgap": 0
        },
        "template": {
         "data": {
          "bar": [
           {
            "error_x": {
             "color": "#2a3f5f"
            },
            "error_y": {
             "color": "#2a3f5f"
            },
            "marker": {
             "line": {
              "color": "#E5ECF6",
              "width": 0.5
             },
             "pattern": {
              "fillmode": "overlay",
              "size": 10,
              "solidity": 0.2
             }
            },
            "type": "bar"
           }
          ],
          "barpolar": [
           {
            "marker": {
             "line": {
              "color": "#E5ECF6",
              "width": 0.5
             },
             "pattern": {
              "fillmode": "overlay",
              "size": 10,
              "solidity": 0.2
             }
            },
            "type": "barpolar"
           }
          ],
          "carpet": [
           {
            "aaxis": {
             "endlinecolor": "#2a3f5f",
             "gridcolor": "white",
             "linecolor": "white",
             "minorgridcolor": "white",
             "startlinecolor": "#2a3f5f"
            },
            "baxis": {
             "endlinecolor": "#2a3f5f",
             "gridcolor": "white",
             "linecolor": "white",
             "minorgridcolor": "white",
             "startlinecolor": "#2a3f5f"
            },
            "type": "carpet"
           }
          ],
          "choropleth": [
           {
            "colorbar": {
             "outlinewidth": 0,
             "ticks": ""
            },
            "type": "choropleth"
           }
          ],
          "contour": [
           {
            "colorbar": {
             "outlinewidth": 0,
             "ticks": ""
            },
            "colorscale": [
             [
              0,
              "#0d0887"
             ],
             [
              0.1111111111111111,
              "#46039f"
             ],
             [
              0.2222222222222222,
              "#7201a8"
             ],
             [
              0.3333333333333333,
              "#9c179e"
             ],
             [
              0.4444444444444444,
              "#bd3786"
             ],
             [
              0.5555555555555556,
              "#d8576b"
             ],
             [
              0.6666666666666666,
              "#ed7953"
             ],
             [
              0.7777777777777778,
              "#fb9f3a"
             ],
             [
              0.8888888888888888,
              "#fdca26"
             ],
             [
              1,
              "#f0f921"
             ]
            ],
            "type": "contour"
           }
          ],
          "contourcarpet": [
           {
            "colorbar": {
             "outlinewidth": 0,
             "ticks": ""
            },
            "type": "contourcarpet"
           }
          ],
          "heatmap": [
           {
            "colorbar": {
             "outlinewidth": 0,
             "ticks": ""
            },
            "colorscale": [
             [
              0,
              "#0d0887"
             ],
             [
              0.1111111111111111,
              "#46039f"
             ],
             [
              0.2222222222222222,
              "#7201a8"
             ],
             [
              0.3333333333333333,
              "#9c179e"
             ],
             [
              0.4444444444444444,
              "#bd3786"
             ],
             [
              0.5555555555555556,
              "#d8576b"
             ],
             [
              0.6666666666666666,
              "#ed7953"
             ],
             [
              0.7777777777777778,
              "#fb9f3a"
             ],
             [
              0.8888888888888888,
              "#fdca26"
             ],
             [
              1,
              "#f0f921"
             ]
            ],
            "type": "heatmap"
           }
          ],
          "heatmapgl": [
           {
            "colorbar": {
             "outlinewidth": 0,
             "ticks": ""
            },
            "colorscale": [
             [
              0,
              "#0d0887"
             ],
             [
              0.1111111111111111,
              "#46039f"
             ],
             [
              0.2222222222222222,
              "#7201a8"
             ],
             [
              0.3333333333333333,
              "#9c179e"
             ],
             [
              0.4444444444444444,
              "#bd3786"
             ],
             [
              0.5555555555555556,
              "#d8576b"
             ],
             [
              0.6666666666666666,
              "#ed7953"
             ],
             [
              0.7777777777777778,
              "#fb9f3a"
             ],
             [
              0.8888888888888888,
              "#fdca26"
             ],
             [
              1,
              "#f0f921"
             ]
            ],
            "type": "heatmapgl"
           }
          ],
          "histogram": [
           {
            "marker": {
             "pattern": {
              "fillmode": "overlay",
              "size": 10,
              "solidity": 0.2
             }
            },
            "type": "histogram"
           }
          ],
          "histogram2d": [
           {
            "colorbar": {
             "outlinewidth": 0,
             "ticks": ""
            },
            "colorscale": [
             [
              0,
              "#0d0887"
             ],
             [
              0.1111111111111111,
              "#46039f"
             ],
             [
              0.2222222222222222,
              "#7201a8"
             ],
             [
              0.3333333333333333,
              "#9c179e"
             ],
             [
              0.4444444444444444,
              "#bd3786"
             ],
             [
              0.5555555555555556,
              "#d8576b"
             ],
             [
              0.6666666666666666,
              "#ed7953"
             ],
             [
              0.7777777777777778,
              "#fb9f3a"
             ],
             [
              0.8888888888888888,
              "#fdca26"
             ],
             [
              1,
              "#f0f921"
             ]
            ],
            "type": "histogram2d"
           }
          ],
          "histogram2dcontour": [
           {
            "colorbar": {
             "outlinewidth": 0,
             "ticks": ""
            },
            "colorscale": [
             [
              0,
              "#0d0887"
             ],
             [
              0.1111111111111111,
              "#46039f"
             ],
             [
              0.2222222222222222,
              "#7201a8"
             ],
             [
              0.3333333333333333,
              "#9c179e"
             ],
             [
              0.4444444444444444,
              "#bd3786"
             ],
             [
              0.5555555555555556,
              "#d8576b"
             ],
             [
              0.6666666666666666,
              "#ed7953"
             ],
             [
              0.7777777777777778,
              "#fb9f3a"
             ],
             [
              0.8888888888888888,
              "#fdca26"
             ],
             [
              1,
              "#f0f921"
             ]
            ],
            "type": "histogram2dcontour"
           }
          ],
          "mesh3d": [
           {
            "colorbar": {
             "outlinewidth": 0,
             "ticks": ""
            },
            "type": "mesh3d"
           }
          ],
          "parcoords": [
           {
            "line": {
             "colorbar": {
              "outlinewidth": 0,
              "ticks": ""
             }
            },
            "type": "parcoords"
           }
          ],
          "pie": [
           {
            "automargin": true,
            "type": "pie"
           }
          ],
          "scatter": [
           {
            "marker": {
             "colorbar": {
              "outlinewidth": 0,
              "ticks": ""
             }
            },
            "type": "scatter"
           }
          ],
          "scatter3d": [
           {
            "line": {
             "colorbar": {
              "outlinewidth": 0,
              "ticks": ""
             }
            },
            "marker": {
             "colorbar": {
              "outlinewidth": 0,
              "ticks": ""
             }
            },
            "type": "scatter3d"
           }
          ],
          "scattercarpet": [
           {
            "marker": {
             "colorbar": {
              "outlinewidth": 0,
              "ticks": ""
             }
            },
            "type": "scattercarpet"
           }
          ],
          "scattergeo": [
           {
            "marker": {
             "colorbar": {
              "outlinewidth": 0,
              "ticks": ""
             }
            },
            "type": "scattergeo"
           }
          ],
          "scattergl": [
           {
            "marker": {
             "colorbar": {
              "outlinewidth": 0,
              "ticks": ""
             }
            },
            "type": "scattergl"
           }
          ],
          "scattermapbox": [
           {
            "marker": {
             "colorbar": {
              "outlinewidth": 0,
              "ticks": ""
             }
            },
            "type": "scattermapbox"
           }
          ],
          "scatterpolar": [
           {
            "marker": {
             "colorbar": {
              "outlinewidth": 0,
              "ticks": ""
             }
            },
            "type": "scatterpolar"
           }
          ],
          "scatterpolargl": [
           {
            "marker": {
             "colorbar": {
              "outlinewidth": 0,
              "ticks": ""
             }
            },
            "type": "scatterpolargl"
           }
          ],
          "scatterternary": [
           {
            "marker": {
             "colorbar": {
              "outlinewidth": 0,
              "ticks": ""
             }
            },
            "type": "scatterternary"
           }
          ],
          "surface": [
           {
            "colorbar": {
             "outlinewidth": 0,
             "ticks": ""
            },
            "colorscale": [
             [
              0,
              "#0d0887"
             ],
             [
              0.1111111111111111,
              "#46039f"
             ],
             [
              0.2222222222222222,
              "#7201a8"
             ],
             [
              0.3333333333333333,
              "#9c179e"
             ],
             [
              0.4444444444444444,
              "#bd3786"
             ],
             [
              0.5555555555555556,
              "#d8576b"
             ],
             [
              0.6666666666666666,
              "#ed7953"
             ],
             [
              0.7777777777777778,
              "#fb9f3a"
             ],
             [
              0.8888888888888888,
              "#fdca26"
             ],
             [
              1,
              "#f0f921"
             ]
            ],
            "type": "surface"
           }
          ],
          "table": [
           {
            "cells": {
             "fill": {
              "color": "#EBF0F8"
             },
             "line": {
              "color": "white"
             }
            },
            "header": {
             "fill": {
              "color": "#C8D4E3"
             },
             "line": {
              "color": "white"
             }
            },
            "type": "table"
           }
          ]
         },
         "layout": {
          "annotationdefaults": {
           "arrowcolor": "#2a3f5f",
           "arrowhead": 0,
           "arrowwidth": 1
          },
          "autotypenumbers": "strict",
          "coloraxis": {
           "colorbar": {
            "outlinewidth": 0,
            "ticks": ""
           }
          },
          "colorscale": {
           "diverging": [
            [
             0,
             "#8e0152"
            ],
            [
             0.1,
             "#c51b7d"
            ],
            [
             0.2,
             "#de77ae"
            ],
            [
             0.3,
             "#f1b6da"
            ],
            [
             0.4,
             "#fde0ef"
            ],
            [
             0.5,
             "#f7f7f7"
            ],
            [
             0.6,
             "#e6f5d0"
            ],
            [
             0.7,
             "#b8e186"
            ],
            [
             0.8,
             "#7fbc41"
            ],
            [
             0.9,
             "#4d9221"
            ],
            [
             1,
             "#276419"
            ]
           ],
           "sequential": [
            [
             0,
             "#0d0887"
            ],
            [
             0.1111111111111111,
             "#46039f"
            ],
            [
             0.2222222222222222,
             "#7201a8"
            ],
            [
             0.3333333333333333,
             "#9c179e"
            ],
            [
             0.4444444444444444,
             "#bd3786"
            ],
            [
             0.5555555555555556,
             "#d8576b"
            ],
            [
             0.6666666666666666,
             "#ed7953"
            ],
            [
             0.7777777777777778,
             "#fb9f3a"
            ],
            [
             0.8888888888888888,
             "#fdca26"
            ],
            [
             1,
             "#f0f921"
            ]
           ],
           "sequentialminus": [
            [
             0,
             "#0d0887"
            ],
            [
             0.1111111111111111,
             "#46039f"
            ],
            [
             0.2222222222222222,
             "#7201a8"
            ],
            [
             0.3333333333333333,
             "#9c179e"
            ],
            [
             0.4444444444444444,
             "#bd3786"
            ],
            [
             0.5555555555555556,
             "#d8576b"
            ],
            [
             0.6666666666666666,
             "#ed7953"
            ],
            [
             0.7777777777777778,
             "#fb9f3a"
            ],
            [
             0.8888888888888888,
             "#fdca26"
            ],
            [
             1,
             "#f0f921"
            ]
           ]
          },
          "colorway": [
           "#636efa",
           "#EF553B",
           "#00cc96",
           "#ab63fa",
           "#FFA15A",
           "#19d3f3",
           "#FF6692",
           "#B6E880",
           "#FF97FF",
           "#FECB52"
          ],
          "font": {
           "color": "#2a3f5f"
          },
          "geo": {
           "bgcolor": "white",
           "lakecolor": "white",
           "landcolor": "#E5ECF6",
           "showlakes": true,
           "showland": true,
           "subunitcolor": "white"
          },
          "hoverlabel": {
           "align": "left"
          },
          "hovermode": "closest",
          "mapbox": {
           "style": "light"
          },
          "paper_bgcolor": "white",
          "plot_bgcolor": "#E5ECF6",
          "polar": {
           "angularaxis": {
            "gridcolor": "white",
            "linecolor": "white",
            "ticks": ""
           },
           "bgcolor": "#E5ECF6",
           "radialaxis": {
            "gridcolor": "white",
            "linecolor": "white",
            "ticks": ""
           }
          },
          "scene": {
           "xaxis": {
            "backgroundcolor": "#E5ECF6",
            "gridcolor": "white",
            "gridwidth": 2,
            "linecolor": "white",
            "showbackground": true,
            "ticks": "",
            "zerolinecolor": "white"
           },
           "yaxis": {
            "backgroundcolor": "#E5ECF6",
            "gridcolor": "white",
            "gridwidth": 2,
            "linecolor": "white",
            "showbackground": true,
            "ticks": "",
            "zerolinecolor": "white"
           },
           "zaxis": {
            "backgroundcolor": "#E5ECF6",
            "gridcolor": "white",
            "gridwidth": 2,
            "linecolor": "white",
            "showbackground": true,
            "ticks": "",
            "zerolinecolor": "white"
           }
          },
          "shapedefaults": {
           "line": {
            "color": "#2a3f5f"
           }
          },
          "ternary": {
           "aaxis": {
            "gridcolor": "white",
            "linecolor": "white",
            "ticks": ""
           },
           "baxis": {
            "gridcolor": "white",
            "linecolor": "white",
            "ticks": ""
           },
           "bgcolor": "#E5ECF6",
           "caxis": {
            "gridcolor": "white",
            "linecolor": "white",
            "ticks": ""
           }
          },
          "title": {
           "x": 0.05
          },
          "xaxis": {
           "automargin": true,
           "gridcolor": "white",
           "linecolor": "white",
           "ticks": "",
           "title": {
            "standoff": 15
           },
           "zerolinecolor": "white",
           "zerolinewidth": 2
          },
          "yaxis": {
           "automargin": true,
           "gridcolor": "white",
           "linecolor": "white",
           "ticks": "",
           "title": {
            "standoff": 15
           },
           "zerolinecolor": "white",
           "zerolinewidth": 2
          }
         }
        },
        "title": {
         "text": "Year 2017"
        },
        "width": 800
       }
      },
      "image/png": "[encoded data removed]",
      "text/html": [
       "<div>                            <div id=\"bf34464e-bc4f-4702-a638-f328a042849b\" class=\"plotly-graph-div\" style=\"height:400px; width:800px;\"></div>            <script type=\"text/javascript\">                require([\"plotly\"], function(Plotly) {                    window.PLOTLYENV=window.PLOTLYENV || {};                                    if (document.getElementById(\"bf34464e-bc4f-4702-a638-f328a042849b\")) {                    Plotly.newPlot(                        \"bf34464e-bc4f-4702-a638-f328a042849b\",                        [{\"coloraxis\":\"coloraxis\",\"geo\":\"geo\",\"hovertemplate\":\"Country=%{location}<br>Responses=%{z}<extra></extra>\",\"locationmode\":\"country names\",\"locations\":[\"United States\",\"India\",\"Other\",\"Russia\",\"United Kingdom\",\"Australia\",\"People 's Republic of China\",\"Canada\",\"Germany\",\"France\",\"Taiwan\",\"Spain\",\"Brazil\",\"Singapore\",\"South Korea\",\"Ukraine\",\"Turkey\",\"Ireland\",\"Indonesia\",\"Pakistan\",\"Iran\",\"Italy\",\"Malaysia\",\"Philippines\",\"Netherlands\",\"Poland\",\"South Africa\",\"Switzerland\",\"Japan\",\"Egypt\",\"Portugal\",\"Colombia\",\"Romania\",\"New Zealand\",\"Greece\",\"Republic of China\",\"Vietnam\",\"Hong Kong\",\"Israel\",\"Hungary\",\"Argentina\",\"Kenya\",\"Mexico\",\"Nigeria\",\"Belgium\",\"Sweden\",\"Chile\",\"Belarus\",\"Norway\",\"Finland\",\"Denmark\",\"Czech Republic\"],\"name\":\"\",\"z\":[872,410,145,100,88,81,74,68,61,61,52,46,38,37,37,33,31,30,29,28,28,27,24,22,21,20,20,20,20,19,19,17,15,14,14,14,13,11,11,11,10,10,10,9,9,8,7,7,5,5,4,3],\"type\":\"choropleth\"}],                        {\"template\":{\"data\":{\"bar\":[{\"error_x\":{\"color\":\"#2a3f5f\"},\"error_y\":{\"color\":\"#2a3f5f\"},\"marker\":{\"line\":{\"color\":\"#E5ECF6\",\"width\":0.5},\"pattern\":{\"fillmode\":\"overlay\",\"size\":10,\"solidity\":0.2}},\"type\":\"bar\"}],\"barpolar\":[{\"marker\":{\"line\":{\"color\":\"#E5ECF6\",\"width\":0.5},\"pattern\":{\"fillmode\":\"overlay\",\"size\":10,\"solidity\":0.2}},\"type\":\"barpolar\"}],\"carpet\":[{\"aaxis\":{\"endlinecolor\":\"#2a3f5f\",\"gridcolor\":\"white\",\"linecolor\":\"white\",\"minorgridcolor\":\"white\",\"startlinecolor\":\"#2a3f5f\"},\"baxis\":{\"endlinecolor\":\"#2a3f5f\",\"gridcolor\":\"white\",\"linecolor\":\"white\",\"minorgridcolor\":\"white\",\"startlinecolor\":\"#2a3f5f\"},\"type\":\"carpet\"}],\"choropleth\":[{\"colorbar\":{\"outlinewidth\":0,\"ticks\":\"\"},\"type\":\"choropleth\"}],\"contour\":[{\"colorbar\":{\"outlinewidth\":0,\"ticks\":\"\"},\"colorscale\":[[0.0,\"#0d0887\"],[0.1111111111111111,\"#46039f\"],[0.2222222222222222,\"#7201a8\"],[0.3333333333333333,\"#9c179e\"],[0.4444444444444444,\"#bd3786\"],[0.5555555555555556,\"#d8576b\"],[0.6666666666666666,\"#ed7953\"],[0.7777777777777778,\"#fb9f3a\"],[0.8888888888888888,\"#fdca26\"],[1.0,\"#f0f921\"]],\"type\":\"contour\"}],\"contourcarpet\":[{\"colorbar\":{\"outlinewidth\":0,\"ticks\":\"\"},\"type\":\"contourcarpet\"}],\"heatmap\":[{\"colorbar\":{\"outlinewidth\":0,\"ticks\":\"\"},\"colorscale\":[[0.0,\"#0d0887\"],[0.1111111111111111,\"#46039f\"],[0.2222222222222222,\"#7201a8\"],[0.3333333333333333,\"#9c179e\"],[0.4444444444444444,\"#bd3786\"],[0.5555555555555556,\"#d8576b\"],[0.6666666666666666,\"#ed7953\"],[0.7777777777777778,\"#fb9f3a\"],[0.8888888888888888,\"#fdca26\"],[1.0,\"#f0f921\"]],\"type\":\"heatmap\"}],\"heatmapgl\":[{\"colorbar\":{\"outlinewidth\":0,\"ticks\":\"\"},\"colorscale\":[[0.0,\"#0d0887\"],[0.1111111111111111,\"#46039f\"],[0.2222222222222222,\"#7201a8\"],[0.3333333333333333,\"#9c179e\"],[0.4444444444444444,\"#bd3786\"],[0.5555555555555556,\"#d8576b\"],[0.6666666666666666,\"#ed7953\"],[0.7777777777777778,\"#fb9f3a\"],[0.8888888888888888,\"#fdca26\"],[1.0,\"#f0f921\"]],\"type\":\"heatmapgl\"}],\"histogram\":[{\"marker\":{\"pattern\":{\"fillmode\":\"overlay\",\"size\":10,\"solidity\":0.2}},\"type\":\"histogram\"}],\"histogram2d\":[{\"colorbar\":{\"outlinewidth\":0,\"ticks\":\"\"},\"colorscale\":[[0.0,\"#0d0887\"],[0.1111111111111111,\"#46039f\"],[0.2222222222222222,\"#7201a8\"],[0.3333333333333333,\"#9c179e\"],[0.4444444444444444,\"#bd3786\"],[0.5555555555555556,\"#d8576b\"],[0.6666666666666666,\"#ed7953\"],[0.7777777777777778,\"#fb9f3a\"],[0.8888888888888888,\"#fdca26\"],[1.0,\"#f0f921\"]],\"type\":\"histogram2d\"}],\"histogram2dcontour\":[{\"colorbar\":{\"outlinewidth\":0,\"ticks\":\"\"},\"colorscale\":[[0.0,\"#0d0887\"],[0.1111111111111111,\"#46039f\"],[0.2222222222222222,\"#7201a8\"],[0.3333333333333333,\"#9c179e\"],[0.4444444444444444,\"#bd3786\"],[0.5555555555555556,\"#d8576b\"],[0.6666666666666666,\"#ed7953\"],[0.7777777777777778,\"#fb9f3a\"],[0.8888888888888888,\"#fdca26\"],[1.0,\"#f0f921\"]],\"type\":\"histogram2dcontour\"}],\"mesh3d\":[{\"colorbar\":{\"outlinewidth\":0,\"ticks\":\"\"},\"type\":\"mesh3d\"}],\"parcoords\":[{\"line\":{\"colorbar\":{\"outlinewidth\":0,\"ticks\":\"\"}},\"type\":\"parcoords\"}],\"pie\":[{\"automargin\":true,\"type\":\"pie\"}],\"scatter\":[{\"marker\":{\"colorbar\":{\"outlinewidth\":0,\"ticks\":\"\"}},\"type\":\"scatter\"}],\"scatter3d\":[{\"line\":{\"colorbar\":{\"outlinewidth\":0,\"ticks\":\"\"}},\"marker\":{\"colorbar\":{\"outlinewidth\":0,\"ticks\":\"\"}},\"type\":\"scatter3d\"}],\"scattercarpet\":[{\"marker\":{\"colorbar\":{\"outlinewidth\":0,\"ticks\":\"\"}},\"type\":\"scattercarpet\"}],\"scattergeo\":[{\"marker\":{\"colorbar\":{\"outlinewidth\":0,\"ticks\":\"\"}},\"type\":\"scattergeo\"}],\"scattergl\":[{\"marker\":{\"colorbar\":{\"outlinewidth\":0,\"ticks\":\"\"}},\"type\":\"scattergl\"}],\"scattermapbox\":[{\"marker\":{\"colorbar\":{\"outlinewidth\":0,\"ticks\":\"\"}},\"type\":\"scattermapbox\"}],\"scatterpolar\":[{\"marker\":{\"colorbar\":{\"outlinewidth\":0,\"ticks\":\"\"}},\"type\":\"scatterpolar\"}],\"scatterpolargl\":[{\"marker\":{\"colorbar\":{\"outlinewidth\":0,\"ticks\":\"\"}},\"type\":\"scatterpolargl\"}],\"scatterternary\":[{\"marker\":{\"colorbar\":{\"outlinewidth\":0,\"ticks\":\"\"}},\"type\":\"scatterternary\"}],\"surface\":[{\"colorbar\":{\"outlinewidth\":0,\"ticks\":\"\"},\"colorscale\":[[0.0,\"#0d0887\"],[0.1111111111111111,\"#46039f\"],[0.2222222222222222,\"#7201a8\"],[0.3333333333333333,\"#9c179e\"],[0.4444444444444444,\"#bd3786\"],[0.5555555555555556,\"#d8576b\"],[0.6666666666666666,\"#ed7953\"],[0.7777777777777778,\"#fb9f3a\"],[0.8888888888888888,\"#fdca26\"],[1.0,\"#f0f921\"]],\"type\":\"surface\"}],\"table\":[{\"cells\":{\"fill\":{\"color\":\"#EBF0F8\"},\"line\":{\"color\":\"white\"}},\"header\":{\"fill\":{\"color\":\"#C8D4E3\"},\"line\":{\"color\":\"white\"}},\"type\":\"table\"}]},\"layout\":{\"annotationdefaults\":{\"arrowcolor\":\"#2a3f5f\",\"arrowhead\":0,\"arrowwidth\":1},\"autotypenumbers\":\"strict\",\"coloraxis\":{\"colorbar\":{\"outlinewidth\":0,\"ticks\":\"\"}},\"colorscale\":{\"diverging\":[[0,\"#8e0152\"],[0.1,\"#c51b7d\"],[0.2,\"#de77ae\"],[0.3,\"#f1b6da\"],[0.4,\"#fde0ef\"],[0.5,\"#f7f7f7\"],[0.6,\"#e6f5d0\"],[0.7,\"#b8e186\"],[0.8,\"#7fbc41\"],[0.9,\"#4d9221\"],[1,\"#276419\"]],\"sequential\":[[0.0,\"#0d0887\"],[0.1111111111111111,\"#46039f\"],[0.2222222222222222,\"#7201a8\"],[0.3333333333333333,\"#9c179e\"],[0.4444444444444444,\"#bd3786\"],[0.5555555555555556,\"#d8576b\"],[0.6666666666666666,\"#ed7953\"],[0.7777777777777778,\"#fb9f3a\"],[0.8888888888888888,\"#fdca26\"],[1.0,\"#f0f921\"]],\"sequentialminus\":[[0.0,\"#0d0887\"],[0.1111111111111111,\"#46039f\"],[0.2222222222222222,\"#7201a8\"],[0.3333333333333333,\"#9c179e\"],[0.4444444444444444,\"#bd3786\"],[0.5555555555555556,\"#d8576b\"],[0.6666666666666666,\"#ed7953\"],[0.7777777777777778,\"#fb9f3a\"],[0.8888888888888888,\"#fdca26\"],[1.0,\"#f0f921\"]]},\"colorway\":[\"#636efa\",\"#EF553B\",\"#00cc96\",\"#ab63fa\",\"#FFA15A\",\"#19d3f3\",\"#FF6692\",\"#B6E880\",\"#FF97FF\",\"#FECB52\"],\"font\":{\"color\":\"#2a3f5f\"},\"geo\":{\"bgcolor\":\"white\",\"lakecolor\":\"white\",\"landcolor\":\"#E5ECF6\",\"showlakes\":true,\"showland\":true,\"subunitcolor\":\"white\"},\"hoverlabel\":{\"align\":\"left\"},\"hovermode\":\"closest\",\"mapbox\":{\"style\":\"light\"},\"paper_bgcolor\":\"white\",\"plot_bgcolor\":\"#E5ECF6\",\"polar\":{\"angularaxis\":{\"gridcolor\":\"white\",\"linecolor\":\"white\",\"ticks\":\"\"},\"bgcolor\":\"#E5ECF6\",\"radialaxis\":{\"gridcolor\":\"white\",\"linecolor\":\"white\",\"ticks\":\"\"}},\"scene\":{\"xaxis\":{\"backgroundcolor\":\"#E5ECF6\",\"gridcolor\":\"white\",\"gridwidth\":2,\"linecolor\":\"white\",\"showbackground\":true,\"ticks\":\"\",\"zerolinecolor\":\"white\"},\"yaxis\":{\"backgroundcolor\":\"#E5ECF6\",\"gridcolor\":\"white\",\"gridwidth\":2,\"linecolor\":\"white\",\"showbackground\":true,\"ticks\":\"\",\"zerolinecolor\":\"white\"},\"zaxis\":{\"backgroundcolor\":\"#E5ECF6\",\"gridcolor\":\"white\",\"gridwidth\":2,\"linecolor\":\"white\",\"showbackground\":true,\"ticks\":\"\",\"zerolinecolor\":\"white\"}},\"shapedefaults\":{\"line\":{\"color\":\"#2a3f5f\"}},\"ternary\":{\"aaxis\":{\"gridcolor\":\"white\",\"linecolor\":\"white\",\"ticks\":\"\"},\"baxis\":{\"gridcolor\":\"white\",\"linecolor\":\"white\",\"ticks\":\"\"},\"bgcolor\":\"#E5ECF6\",\"caxis\":{\"gridcolor\":\"white\",\"linecolor\":\"white\",\"ticks\":\"\"}},\"title\":{\"x\":0.05},\"xaxis\":{\"automargin\":true,\"gridcolor\":\"white\",\"linecolor\":\"white\",\"ticks\":\"\",\"title\":{\"standoff\":15},\"zerolinecolor\":\"white\",\"zerolinewidth\":2},\"yaxis\":{\"automargin\":true,\"gridcolor\":\"white\",\"linecolor\":\"white\",\"ticks\":\"\",\"title\":{\"standoff\":15},\"zerolinecolor\":\"white\",\"zerolinewidth\":2}}},\"geo\":{\"domain\":{\"x\":[0.0,1.0],\"y\":[0.0,1.0]},\"center\":{}},\"coloraxis\":{\"colorbar\":{\"title\":{\"text\":\"Responses\"}},\"colorscale\":[[0.0,\"#30123b\"],[0.07142857142857142,\"#4145ab\"],[0.14285714285714285,\"#4675ed\"],[0.21428571428571427,\"#39a2fc\"],[0.2857142857142857,\"#1bcfd4\"],[0.35714285714285715,\"#24eca6\"],[0.42857142857142855,\"#61fc6c\"],[0.5,\"#a4fc3b\"],[0.5714285714285714,\"#d1e834\"],[0.6428571428571429,\"#f3c63a\"],[0.7142857142857143,\"#fe9b2d\"],[0.7857142857142857,\"#f36315\"],[0.8571428571428571,\"#d93806\"],[0.9285714285714286,\"#b11901\"],[1.0,\"#7a0402\"]]},\"legend\":{\"tracegroupgap\":0},\"title\":{\"text\":\"Year 2017\"},\"height\":400,\"width\":800},                        {\"responsive\": true}                    ).then(function(){\n",
       "                            \n",
       "var gd = document.getElementById('bf34464e-bc4f-4702-a638-f328a042849b');\n",
       "var x = new MutationObserver(function (mutations, observer) {{\n",
       "        var display = window.getComputedStyle(gd).display;\n",
       "        if (!display || display === 'none') {{\n",
       "            console.log([gd, 'removed!']);\n",
       "            Plotly.purge(gd);\n",
       "            observer.disconnect();\n",
       "        }}\n",
       "}});\n",
       "\n",
       "// Listen for the removal of the full notebook cells\n",
       "var notebookContainer = gd.closest('#notebook-container');\n",
       "if (notebookContainer) {{\n",
       "    x.observe(notebookContainer, {childList: true});\n",
       "}}\n",
       "\n",
       "// Listen for the clearing of the current output cell\n",
       "var outputEl = gd.closest('.output');\n",
       "if (outputEl) {{\n",
       "    x.observe(outputEl, {childList: true});\n",
       "}}\n",
       "\n",
       "                        })                };                });            </script>        </div>"
      ]
     },
     "metadata": {},
     "output_type": "display_data"
    }
   ],
   "source": [
    "plotworld(\"r/r2017.csv\", \"Year 2017\")"
   ]
  },
  {
   "cell_type": "code",
   "execution_count": null,
   "id": "c42d8392-d8b7-4abe-9f58-9aeee8124342",
   "metadata": {},
   "outputs": [],
   "source": []
  }
 ],
 "metadata": {
  "kernelspec": {
   "display_name": "Python 3 (ipykernel)",
   "language": "python",
   "name": "python3"
  },
  "language_info": {
   "codemirror_mode": {
    "name": "ipython",
    "version": 3
   },
   "file_extension": ".py",
   "mimetype": "text/x-python",
   "name": "python",
   "nbconvert_exporter": "python",
   "pygments_lexer": "ipython3",
   "version": "3.9.7"
  }
 },
 "nbformat": 4,
 "nbformat_minor": 5
}
