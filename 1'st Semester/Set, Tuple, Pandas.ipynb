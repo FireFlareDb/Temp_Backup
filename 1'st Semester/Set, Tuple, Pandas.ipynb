{
 "cells": [
  {
   "cell_type": "code",
   "execution_count": 1,
   "id": "9ed1e0c6-8de8-4c87-bb2c-e8950a596759",
   "metadata": {},
   "outputs": [],
   "source": [
    "import pandas as pd"
   ]
  },
  {
   "cell_type": "code",
   "execution_count": 33,
   "id": "c297062c-c567-4822-8bb0-7ac06035ac90",
   "metadata": {},
   "outputs": [
    {
     "data": {
      "text/html": [
       "<div>\n",
       "<style scoped>\n",
       "    .dataframe tbody tr th:only-of-type {\n",
       "        vertical-align: middle;\n",
       "    }\n",
       "\n",
       "    .dataframe tbody tr th {\n",
       "        vertical-align: top;\n",
       "    }\n",
       "\n",
       "    .dataframe thead th {\n",
       "        text-align: right;\n",
       "    }\n",
       "</style>\n",
       "<table border=\"1\" class=\"dataframe\">\n",
       "  <thead>\n",
       "    <tr style=\"text-align: right;\">\n",
       "      <th></th>\n",
       "      <th>Company</th>\n",
       "      <th>Price</th>\n",
       "      <th>horsepower</th>\n",
       "    </tr>\n",
       "  </thead>\n",
       "  <tbody>\n",
       "    <tr>\n",
       "      <th>0</th>\n",
       "      <td>Toyota</td>\n",
       "      <td>23845</td>\n",
       "      <td>141</td>\n",
       "    </tr>\n",
       "    <tr>\n",
       "      <th>1</th>\n",
       "      <td>Honda</td>\n",
       "      <td>17995</td>\n",
       "      <td>80</td>\n",
       "    </tr>\n",
       "    <tr>\n",
       "      <th>2</th>\n",
       "      <td>BMV</td>\n",
       "      <td>135925</td>\n",
       "      <td>182</td>\n",
       "    </tr>\n",
       "    <tr>\n",
       "      <th>3</th>\n",
       "      <td>Audi</td>\n",
       "      <td>71400</td>\n",
       "      <td>160</td>\n",
       "    </tr>\n",
       "  </tbody>\n",
       "</table>\n",
       "</div>"
      ],
      "text/plain": [
       "  Company   Price  horsepower\n",
       "0  Toyota   23845         141\n",
       "1   Honda   17995          80\n",
       "2     BMV  135925         182\n",
       "3    Audi   71400         160"
      ]
     },
     "execution_count": 33,
     "metadata": {},
     "output_type": "execute_result"
    }
   ],
   "source": [
    "Car_Price = {'Company': ['Toyota', 'Honda', 'BMV', 'Audi'], 'Price': [23845, 17995, 135925 , 71400]}\n",
    "car_Horsepower = {'Company': ['Toyota', 'Honda', 'BMV', 'Audi'], 'horsepower': [141, 80, 182 , 160]}\n",
    "\n",
    "df1 = pd.DataFrame(Car_Price)\n",
    "df2 = pd.DataFrame(car_Horsepower)\n",
    "car_data = df1.merge(df2)\n",
    "car_data"
   ]
  },
  {
   "cell_type": "code",
   "execution_count": 72,
   "id": "b87a9401",
   "metadata": {},
   "outputs": [
    {
     "data": {
      "text/html": [
       "<div>\n",
       "<style scoped>\n",
       "    .dataframe tbody tr th:only-of-type {\n",
       "        vertical-align: middle;\n",
       "    }\n",
       "\n",
       "    .dataframe tbody tr th {\n",
       "        vertical-align: top;\n",
       "    }\n",
       "\n",
       "    .dataframe thead th {\n",
       "        text-align: right;\n",
       "    }\n",
       "</style>\n",
       "<table border=\"1\" class=\"dataframe\">\n",
       "  <thead>\n",
       "    <tr style=\"text-align: right;\">\n",
       "      <th></th>\n",
       "      <th>company</th>\n",
       "      <th>body-style</th>\n",
       "      <th>wheel-base</th>\n",
       "      <th>length</th>\n",
       "      <th>engine-type</th>\n",
       "      <th>num-of-cylinders</th>\n",
       "      <th>horsepower</th>\n",
       "      <th>average-mileage</th>\n",
       "      <th>price</th>\n",
       "    </tr>\n",
       "    <tr>\n",
       "      <th>index</th>\n",
       "      <th></th>\n",
       "      <th></th>\n",
       "      <th></th>\n",
       "      <th></th>\n",
       "      <th></th>\n",
       "      <th></th>\n",
       "      <th></th>\n",
       "      <th></th>\n",
       "      <th></th>\n",
       "    </tr>\n",
       "  </thead>\n",
       "  <tbody>\n",
       "    <tr>\n",
       "      <th>0</th>\n",
       "      <td>alfa-romero</td>\n",
       "      <td>convertible</td>\n",
       "      <td>88.6</td>\n",
       "      <td>168.8</td>\n",
       "      <td>dohc</td>\n",
       "      <td>four</td>\n",
       "      <td>111</td>\n",
       "      <td>21</td>\n",
       "      <td>13495.0</td>\n",
       "    </tr>\n",
       "    <tr>\n",
       "      <th>1</th>\n",
       "      <td>alfa-romero</td>\n",
       "      <td>convertible</td>\n",
       "      <td>88.6</td>\n",
       "      <td>168.8</td>\n",
       "      <td>dohc</td>\n",
       "      <td>four</td>\n",
       "      <td>111</td>\n",
       "      <td>21</td>\n",
       "      <td>16500.0</td>\n",
       "    </tr>\n",
       "    <tr>\n",
       "      <th>2</th>\n",
       "      <td>alfa-romero</td>\n",
       "      <td>hatchback</td>\n",
       "      <td>94.5</td>\n",
       "      <td>171.2</td>\n",
       "      <td>ohcv</td>\n",
       "      <td>six</td>\n",
       "      <td>154</td>\n",
       "      <td>19</td>\n",
       "      <td>16500.0</td>\n",
       "    </tr>\n",
       "    <tr>\n",
       "      <th>3</th>\n",
       "      <td>audi</td>\n",
       "      <td>sedan</td>\n",
       "      <td>99.8</td>\n",
       "      <td>176.6</td>\n",
       "      <td>ohc</td>\n",
       "      <td>four</td>\n",
       "      <td>102</td>\n",
       "      <td>24</td>\n",
       "      <td>13950.0</td>\n",
       "    </tr>\n",
       "    <tr>\n",
       "      <th>4</th>\n",
       "      <td>audi</td>\n",
       "      <td>sedan</td>\n",
       "      <td>99.4</td>\n",
       "      <td>176.6</td>\n",
       "      <td>ohc</td>\n",
       "      <td>five</td>\n",
       "      <td>115</td>\n",
       "      <td>18</td>\n",
       "      <td>17450.0</td>\n",
       "    </tr>\n",
       "  </tbody>\n",
       "</table>\n",
       "</div>"
      ],
      "text/plain": [
       "           company   body-style  wheel-base  length engine-type  \\\n",
       "index                                                             \n",
       "0      alfa-romero  convertible        88.6   168.8        dohc   \n",
       "1      alfa-romero  convertible        88.6   168.8        dohc   \n",
       "2      alfa-romero    hatchback        94.5   171.2        ohcv   \n",
       "3             audi        sedan        99.8   176.6         ohc   \n",
       "4             audi        sedan        99.4   176.6         ohc   \n",
       "\n",
       "      num-of-cylinders  horsepower  average-mileage    price  \n",
       "index                                                         \n",
       "0                 four         111               21  13495.0  \n",
       "1                 four         111               21  16500.0  \n",
       "2                  six         154               19  16500.0  \n",
       "3                 four         102               24  13950.0  \n",
       "4                 five         115               18  17450.0  "
      ]
     },
     "execution_count": 72,
     "metadata": {},
     "output_type": "execute_result"
    }
   ],
   "source": [
    "dataset = pd.read_csv(\"Automobile_data.csv\", index_col=\"index\")\n",
    "dataset.head()"
   ]
  },
  {
   "cell_type": "code",
   "execution_count": 73,
   "id": "47c45ba3-69f2-4ec2-9e28-2fe8bd76106a",
   "metadata": {},
   "outputs": [
    {
     "data": {
      "text/plain": [
       "index\n",
       "47    mercedes-benz\n",
       "Name: company, dtype: object"
      ]
     },
     "execution_count": 73,
     "metadata": {},
     "output_type": "execute_result"
    }
   ],
   "source": [
    "dataset[\"company\"][dataset[\"price\"] == max(dataset['price'])]"
   ]
  },
  {
   "cell_type": "code",
   "execution_count": 76,
   "id": "58d37469",
   "metadata": {},
   "outputs": [
    {
     "data": {
      "text/plain": [
       "toyota           7\n",
       "bmw              6\n",
       "mazda            5\n",
       "nissan           5\n",
       "audi             4\n",
       "mercedes-benz    4\n",
       "mitsubishi       4\n",
       "volkswagen       4\n",
       "alfa-romero      3\n",
       "chevrolet        3\n",
       "honda            3\n",
       "isuzu            3\n",
       "jaguar           3\n",
       "porsche          3\n",
       "dodge            2\n",
       "volvo            2\n",
       "Name: company, dtype: int64"
      ]
     },
     "execution_count": 76,
     "metadata": {},
     "output_type": "execute_result"
    }
   ],
   "source": [
    "dataset[\"company\"].value_counts()"
   ]
  },
  {
   "cell_type": "code",
   "execution_count": 89,
   "id": "ef1092e7",
   "metadata": {},
   "outputs": [
    {
     "name": "stdout",
     "output_type": "stream",
     "text": [
      "company\n",
      "alfa-romero      13495.0\n",
      "audi             13950.0\n",
      "bmw              16430.0\n",
      "chevrolet         5151.0\n",
      "dodge             6229.0\n",
      "honda             7295.0\n",
      "isuzu             6785.0\n",
      "jaguar           32250.0\n",
      "mazda             5195.0\n",
      "mercedes-benz    25552.0\n",
      "mitsubishi        5389.0\n",
      "nissan            6649.0\n",
      "porsche          34028.0\n",
      "toyota            5348.0\n",
      "volkswagen        7775.0\n",
      "volvo            12940.0\n",
      "Name: lowest price, dtype: float64\n"
     ]
    }
   ],
   "source": [
    "df = dataset.groupby(['company']).min()['price']\n",
    "df.name = \"lowest price\"\n",
    "print(df)"
   ]
  },
  {
   "cell_type": "code",
   "execution_count": 133,
   "id": "70673ad6",
   "metadata": {},
   "outputs": [
    {
     "data": {
      "text/plain": [
       "<AxesSubplot:xlabel='company'>"
      ]
     },
     "execution_count": 133,
     "metadata": {},
     "output_type": "execute_result"
    },
    {
     "data": {
      "image/png": "[encoded data removed]",
      "text/plain": [
       "<Figure size 432x288 with 1 Axes>"
      ]
     },
     "metadata": {
      "needs_background": "light"
     },
     "output_type": "display_data"
    }
   ],
   "source": [
    "df = dataset.groupby(['company']).mean()['average-mileage']\n",
    "df.plot.bar(legend=True)"
   ]
  },
  {
   "cell_type": "code",
   "execution_count": 116,
   "id": "d032335a",
   "metadata": {},
   "outputs": [
    {
     "data": {
      "text/html": [
       "<div>\n",
       "<style scoped>\n",
       "    .dataframe tbody tr th:only-of-type {\n",
       "        vertical-align: middle;\n",
       "    }\n",
       "\n",
       "    .dataframe tbody tr th {\n",
       "        vertical-align: top;\n",
       "    }\n",
       "\n",
       "    .dataframe thead th {\n",
       "        text-align: right;\n",
       "    }\n",
       "</style>\n",
       "<table border=\"1\" class=\"dataframe\">\n",
       "  <thead>\n",
       "    <tr style=\"text-align: right;\">\n",
       "      <th></th>\n",
       "      <th>company</th>\n",
       "      <th>price</th>\n",
       "    </tr>\n",
       "    <tr>\n",
       "      <th>index</th>\n",
       "      <th></th>\n",
       "      <th></th>\n",
       "    </tr>\n",
       "  </thead>\n",
       "  <tbody>\n",
       "    <tr>\n",
       "      <th>31</th>\n",
       "      <td>isuzu</td>\n",
       "      <td>NaN</td>\n",
       "    </tr>\n",
       "    <tr>\n",
       "      <th>32</th>\n",
       "      <td>isuzu</td>\n",
       "      <td>NaN</td>\n",
       "    </tr>\n",
       "    <tr>\n",
       "      <th>63</th>\n",
       "      <td>porsche</td>\n",
       "      <td>NaN</td>\n",
       "    </tr>\n",
       "    <tr>\n",
       "      <th>16</th>\n",
       "      <td>chevrolet</td>\n",
       "      <td>5151.0</td>\n",
       "    </tr>\n",
       "    <tr>\n",
       "      <th>36</th>\n",
       "      <td>mazda</td>\n",
       "      <td>5195.0</td>\n",
       "    </tr>\n",
       "    <tr>\n",
       "      <th>...</th>\n",
       "      <td>...</td>\n",
       "      <td>...</td>\n",
       "    </tr>\n",
       "    <tr>\n",
       "      <th>15</th>\n",
       "      <td>bmw</td>\n",
       "      <td>36880.0</td>\n",
       "    </tr>\n",
       "    <tr>\n",
       "      <th>62</th>\n",
       "      <td>porsche</td>\n",
       "      <td>37028.0</td>\n",
       "    </tr>\n",
       "    <tr>\n",
       "      <th>46</th>\n",
       "      <td>mercedes-benz</td>\n",
       "      <td>40960.0</td>\n",
       "    </tr>\n",
       "    <tr>\n",
       "      <th>14</th>\n",
       "      <td>bmw</td>\n",
       "      <td>41315.0</td>\n",
       "    </tr>\n",
       "    <tr>\n",
       "      <th>47</th>\n",
       "      <td>mercedes-benz</td>\n",
       "      <td>45400.0</td>\n",
       "    </tr>\n",
       "  </tbody>\n",
       "</table>\n",
       "<p>61 rows × 2 columns</p>\n",
       "</div>"
      ],
      "text/plain": [
       "             company    price\n",
       "index                        \n",
       "31             isuzu      NaN\n",
       "32             isuzu      NaN\n",
       "63           porsche      NaN\n",
       "16         chevrolet   5151.0\n",
       "36             mazda   5195.0\n",
       "...              ...      ...\n",
       "15               bmw  36880.0\n",
       "62           porsche  37028.0\n",
       "46     mercedes-benz  40960.0\n",
       "14               bmw  41315.0\n",
       "47     mercedes-benz  45400.0\n",
       "\n",
       "[61 rows x 2 columns]"
      ]
     },
     "execution_count": 116,
     "metadata": {},
     "output_type": "execute_result"
    }
   ],
   "source": [
    "dataset[[\"company\", \"price\"]].sort_values(\"price\", na_position='first')"
   ]
  },
  {
   "cell_type": "code",
   "execution_count": 153,
   "id": "879c65e5",
   "metadata": {},
   "outputs": [
    {
     "name": "stdout",
     "output_type": "stream",
     "text": [
      "four      39\n",
      "six       11\n",
      "five       5\n",
      "eight      3\n",
      "three      1\n",
      "twelve     1\n",
      "two        1\n",
      "Name: num-of-cylinders, dtype: int64 ohc      46\n",
      "dohc      5\n",
      "ohcv      5\n",
      "ohcf      2\n",
      "l         1\n",
      "rotor     1\n",
      "dohcv     1\n",
      "Name: engine-type, dtype: int64\n"
     ]
    }
   ],
   "source": [
    "import matplotlib.pyplot as plt\n",
    "df_engine = dataset[\"engine-type\"].value_counts()\n",
    "df_cylinder = dataset[ \"num-of-cylinders\"].value_counts()\n",
    "print(df_cylinder, df_engine)"
   ]
  },
  {
   "cell_type": "code",
   "execution_count": 174,
   "id": "5e121541",
   "metadata": {},
   "outputs": [
    {
     "data": {
      "text/plain": [
       "index\n",
       "0     convertible\n",
       "1     convertible\n",
       "2       hatchback\n",
       "3           sedan\n",
       "4           sedan\n",
       "         ...     \n",
       "81          sedan\n",
       "82          sedan\n",
       "86          sedan\n",
       "87          sedan\n",
       "88          wagon\n",
       "Name: body-style, Length: 61, dtype: object"
      ]
     },
     "execution_count": 174,
     "metadata": {},
     "output_type": "execute_result"
    }
   ],
   "source": [
    "avg_price = dataset.groupby(['company']).mean()['price']\n",
    "body_style = dataset['body-style']\n",
    "body_style"
   ]
  },
  {
   "cell_type": "code",
   "execution_count": 187,
   "id": "83f17d04",
   "metadata": {},
   "outputs": [
    {
     "name": "stdout",
     "output_type": "stream",
     "text": [
      "\n",
      "----------- Section - A -----------\n",
      "28671.150\n",
      "\n",
      "----------- Section - B -----------\n"
     ]
    },
    {
     "data": {
      "text/plain": [
       "Col-3    19417.8\n",
       "Col-4    25787.1\n",
       "dtype: float64"
      ]
     },
     "execution_count": 187,
     "metadata": {},
     "output_type": "execute_result"
    }
   ],
   "source": [
    "from numpy.random import randint\n",
    "data = randint(1,50000, size=(20, 5))\n",
    "data_df = pd.DataFrame(data, columns=[\"Col-1\", \"Col-2\", \"Col-3\", \"Col-4\", \"Col-5\"])\n",
    "\n",
    "# Section - A\n",
    "print(\"\\n----------- Section - A -----------\")\n",
    "print(\"{:.3f}\".format(data_df[\"Col-2\"].mean()))\n",
    "\n",
    "# Section - B\n",
    "print(\"\\n----------- Section - B -----------\")\n",
    "data_df[[\"Col-3\", \"Col-4\"]][10:].mean()"
   ]
  },
  {
   "cell_type": "code",
   "execution_count": 196,
   "id": "010de165",
   "metadata": {},
   "outputs": [
    {
     "data": {
      "text/plain": [
       "<AxesSubplot:>"
      ]
     },
     "execution_count": 196,
     "metadata": {},
     "output_type": "execute_result"
    },
    {
     "data": {
      "image/png": "[encoded data removed]",
      "text/plain": [
       "<Figure size 432x288 with 1 Axes>"
      ]
     },
     "metadata": {
      "needs_background": "light"
     },
     "output_type": "display_data"
    }
   ],
   "source": [
    "math_marks = [88, 92, 80, 89, 100, 80, 60, 100, 80, 34]\n",
    "chemistry_marks = [35, 79, 79, 48, 100, 88, 32, 45, 20, 30]\n",
    "physics_marks = [45, 76, 67, 56, 89, 76, 42, 54, 30, 35]\n",
    "marks_list = list(zip(math_marks, chemistry_marks, physics_marks))\n",
    "marks_df = pd.DataFrame(marks_list, columns=[\"Maths\", \"Chemistry\", \"Physics\"])\n",
    "marks_df.plot.bar(legend=True)"
   ]
  },
  {
   "cell_type": "code",
   "execution_count": 29,
   "id": "32a9502a-dfee-405a-acd5-700d8ffcd6d0",
   "metadata": {},
   "outputs": [
    {
     "name": "stdout",
     "output_type": "stream",
     "text": [
      "Day Of Month\n",
      " [1, 2, 7, 6, 12, 6]\n",
      "\n",
      "Day Of Year\n",
      " [1, 276, 66, 126, 103, 96]\n",
      "\n",
      "Week Number\n",
      " [1, 39, 10, 19, 15, 14]\n",
      "\n",
      "Day Of Week:\n",
      " ['Thursday', 'Sunday', 'Wednesday', 'Tuesday', 'Tuesday', 'Saturday']\n"
     ]
    }
   ],
   "source": [
    "raw_dates = pd.Series([\"01 Jan 2015\", \"10-02-2016\", \"20180307\", \"2014/05/06\", \"2016-04-12\", \"2019-04-06T11:20\"], name=\"Date\")\n",
    "dates = pd.to_datetime(raw_dates)\n",
    "print(\"Day Of Month\\n\", list(dates.dt.day))\n",
    "print(\"\\nDay Of Year\\n\", list(dates.dt.day_of_year))\n",
    "print(\"\\nWeek Number\\n\", list(dates.dt.isocalendar().week))                 # deprecated -> dates.dt.week\n",
    "print(\"\\nDay Of Week:\\n\", list(dates.dt.day_name()))"
   ]
  },
  {
   "cell_type": "code",
   "execution_count": 55,
   "id": "2e73f34e",
   "metadata": {},
   "outputs": [
    {
     "data": {
      "text/plain": [
       "0   2015-01-11\n",
       "1   2016-02-11\n",
       "2   2017-03-11\n",
       "3   2018-04-11\n",
       "4   2019-05-11\n",
       "dtype: datetime64[ns]"
      ]
     },
     "execution_count": 55,
     "metadata": {},
     "output_type": "execute_result"
    }
   ],
   "source": [
    "day = int(input(\"New Date: \"))\n",
    "raw_dates = pd.Series([\"Jan 2015\", \"Feb 2016\", \"Mar 2017\", \"Apr 2018\", \"May 2019\"])\n",
    "dates = pd.to_datetime(raw_dates)\n",
    "new_dates = dates.apply(lambda dt: dt.replace(day=day))\n",
    "new_dates"
   ]
  },
  {
   "cell_type": "code",
   "execution_count": 40,
   "id": "f1047631",
   "metadata": {},
   "outputs": [
    {
     "data": {
      "text/plain": [
       "1     Green\n",
       "2    Orange\n",
       "4    Yellow\n",
       "5     White\n",
       "dtype: object"
      ]
     },
     "execution_count": 40,
     "metadata": {},
     "output_type": "execute_result"
    }
   ],
   "source": [
    "def findVol(string):\n",
    "    lstString = list(string)\n",
    "    vowels = ['a', 'e', 'i', 'o', 'u']\n",
    "    frq = True if len([c for c in lstString if c in vowels]) >= 2 else False\n",
    "    return frq\n",
    "\n",
    "fruits = pd.Series([\"Red\", \"Green\", \"Orange\", \"Pink\", \"Yellow\", \"White\"])\n",
    "fruits_new = fruits.apply(lambda ft: findVol(ft))\n",
    "fruits[fruits_new]"
   ]
  },
  {
   "cell_type": "code",
   "execution_count": 45,
   "id": "b6db9f21",
   "metadata": {},
   "outputs": [
    {
     "data": {
      "text/plain": [
       "16.492422502470642"
      ]
     },
     "execution_count": 45,
     "metadata": {},
     "output_type": "execute_result"
    }
   ],
   "source": [
    "from numpy.linalg import norm as find_eclidis\n",
    "cord1 = pd.Series([1, 2, 3, 4, 5, 6, 7, 8, 9, 10])\n",
    "cord2 = pd.Series([11, 8, 7, 5, 6, 5, 3, 4, 7, 1])\n",
    "eclidis = find_eclidis(cord1 - cord2)\n",
    "eclidis"
   ]
  },
  {
   "cell_type": "code",
   "execution_count": 65,
   "id": "e5be2901",
   "metadata": {},
   "outputs": [
    {
     "name": "stdout",
     "output_type": "stream",
     "text": [
      "[1, 4, 8]\n"
     ]
    }
   ],
   "source": [
    "def foo(data):\n",
    "    \"\"\"\n",
    "    LOGIC:\n",
    "    ------\n",
    "    for idx in range(len(data)):\n",
    "        if idx + 2 >= len(data):\n",
    "            break\n",
    "        if data[idx] < data[idx+1] > data[idx+2]:\n",
    "            print(idx+1)\n",
    "    \"\"\"\n",
    "    # Oneliner Are Always Amazing\n",
    "    return [idx+1 for idx in range(len(data)) if idx + 2 < len(data) if data[idx] < data[idx+1] > data[idx+2]]\n",
    "\n",
    "\n",
    "data = pd.Series([1, 8, 7, 5, 6, 5, 3, 4, 7, 1])\n",
    "result = foo(data)\n",
    "print(result)"
   ]
  },
  {
   "cell_type": "code",
   "execution_count": 16,
   "id": "11edee66",
   "metadata": {},
   "outputs": [
    {
     "data": {
      "text/plain": [
       "[1.0, -0.36, 0.11, 0.49, -0.63, 0.6, 0.11, -0.49, 0.71, -0.19, 0.02]"
      ]
     },
     "execution_count": 16,
     "metadata": {},
     "output_type": "execute_result"
    }
   ],
   "source": [
    "from numpy import random\n",
    "data = pd.Series(random.normal(1, 10, 15))\n",
    "autocorr = [data.autocorr(i).round(2) for i in range(11)]\n",
    "autocorr"
   ]
  },
  {
   "cell_type": "code",
   "execution_count": 8,
   "id": "2eec88d0",
   "metadata": {},
   "outputs": [
    {
     "name": "stdout",
     "output_type": "stream",
     "text": [
      "        name  score  attempts qualify   Color\n",
      "a  Anastasia   12.5         1     yes     Red\n",
      "b       Dima    9.0         3      no   Green\n",
      "c  Katherine   16.5         2     yes    Blue\n",
      "d      James    NaN         3      no  Orange\n",
      "e      Emily    9.0         2      no  Purple\n",
      "f    Michael   20.0         3     yes     Red\n",
      "g    Matthew   14.5         1     yes     Sky\n",
      "h      Laura    NaN         1      no  Yellow\n",
      "i      Kevin    8.0         2      no   Green\n",
      "j      Jonas   19.0         1     yes    Pink\n"
     ]
    }
   ],
   "source": [
    "from numpy import nan\n",
    "exam_data = {\n",
    "    'name': ['Anastasia', 'Dima', 'Katherine', 'James', 'Emily', 'Michael', 'Matthew', 'Laura', 'Kevin', 'Jonas'],\n",
    "    'score': [12.5, 9, 16.5, nan, 9, 20, 14.5, nan, 8, 19],\n",
    "    'attempts': [1, 3, 2, 3, 2, 3, 1, 1, 2, 1],\n",
    "    'qualify': ['yes', 'no', 'yes', 'no', 'no', 'yes', 'yes', 'no', 'no', 'yes']\n",
    "    }\n",
    "labels = ['a', 'b', 'c', 'd', 'e', 'f', 'g', 'h', 'i', 'j']\n",
    "colors = [\"Red\", \"Green\", \"Blue\", \"Orange\", \"Purple\", \"Red\", \"Sky\", \"Yellow\", \"Green\", \"Pink\"]\n",
    "\n",
    "df = pd.DataFrame(exam_data, index = labels)\n",
    "df['Color'] = colors\n",
    "print(df)"
   ]
  },
  {
   "cell_type": "code",
   "execution_count": 17,
   "id": "8729401c",
   "metadata": {},
   "outputs": [
    {
     "name": "stdout",
     "output_type": "stream",
     "text": [
      "3\n"
     ]
    }
   ],
   "source": [
    "countries = (\"India\", \"United States\", \"United Kingdom\", \"Japan\", \"China\")\n",
    "find_idx = input(f\"{countries}\\n\\n Select Any One Country From Above: \").capitalize()\n",
    "print(countries.index(find_idx))"
   ]
  },
  {
   "cell_type": "code",
   "execution_count": 28,
   "id": "2eae4916",
   "metadata": {},
   "outputs": [
    {
     "name": "stdout",
     "output_type": "stream",
     "text": [
      "Enter Any Four Food Items :-\n",
      "\n",
      " {1: 'a', 2: 'b', 3: 'c', 4: 'd'}\n",
      "\n",
      "-----------------------------------\n",
      "Your New Item List Is Ready\n",
      "{1: 'a', 2: 'b', 4: 'd'}\n"
     ]
    }
   ],
   "source": [
    "print(\"Enter Any Four Food Items :-\")\n",
    "catlog = {i:input() for i in range(1, 5)}\n",
    "print(\"\\n\", catlog)\n",
    "cho = int(input(\"Which Item Do You Wanna To Remove (index no.): \"))\n",
    "catlog.pop(cho)\n",
    "print(\"\\n-----------------------------------\")\n",
    "print(\"Your New Item List Is Ready\")\n",
    "print(catlog)"
   ]
  },
  {
   "cell_type": "code",
   "execution_count": 29,
   "id": "dd6f64f8",
   "metadata": {},
   "outputs": [
    {
     "data": {
      "text/plain": [
       "{1, 2, 3, 4, 5, 6}"
      ]
     },
     "execution_count": 29,
     "metadata": {},
     "output_type": "execute_result"
    }
   ],
   "source": [
    "set1 = {1, 2, 3, 4, 5, 6, 7, 8}\n",
    "set2 = {1, 2, 3, 4, 5, 6, 10, 11}\n",
    "if len(set1 & set2) == 0:\n",
    "    print(\"No Common Elements Found\")\n",
    "else:\n",
    "    print(\"Common Elements Found\")"
   ]
  },
  {
   "cell_type": "code",
   "execution_count": 32,
   "id": "43d9524f",
   "metadata": {},
   "outputs": [
    {
     "name": "stdout",
     "output_type": "stream",
     "text": [
      "Is set1 is superset of itself :  True\n",
      "Is set1 is superset of set2 : False\n"
     ]
    }
   ],
   "source": [
    "set1 = {1, 2, 3, 4, 5, 6, 7, 8}\n",
    "set2 = {1, 2, 3, 4, 5, 6, 10, 11}\n",
    "\n",
    "print(\"Is set1 is superset of itself : \", set1.issuperset(set1))\n",
    "print(\"Is set1 is superset of set2 :\", set1.issuperset(set2))"
   ]
  },
  {
   "cell_type": "code",
   "execution_count": null,
   "id": "1f331471",
   "metadata": {},
   "outputs": [],
   "source": []
  }
 ],
 "metadata": {
  "kernelspec": {
   "display_name": "Python 3 (ipykernel)",
   "language": "python",
   "name": "python3"
  },
  "language_info": {
   "codemirror_mode": {
    "name": "ipython",
    "version": 3
   },
   "file_extension": ".py",
   "mimetype": "text/x-python",
   "name": "python",
   "nbconvert_exporter": "python",
   "pygments_lexer": "ipython3",
   "version": "3.9.7"
  }
 },
 "nbformat": 4,
 "nbformat_minor": 5
}
